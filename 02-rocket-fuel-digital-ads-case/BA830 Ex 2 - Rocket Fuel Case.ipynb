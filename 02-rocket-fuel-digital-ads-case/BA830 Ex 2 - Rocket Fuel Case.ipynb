{
 "cells": [
  {
   "cell_type": "markdown",
   "id": "fddf81eb",
   "metadata": {},
   "source": [
    "# Business Experimentation and Causal Methods\n",
    "\n",
    "## Assignment 2: Rocket Fuel\n",
    "\n",
    "Sneha Ekka\n",
    "\n",
    "Due Date: 12:30pm, February 6, 2024"
   ]
  },
  {
   "cell_type": "markdown",
   "id": "6dcacf10",
   "metadata": {},
   "source": [
    "__Instructions:__\n",
    "\n",
    "Please read the case about RocketFuel from the HBS Case Pack.\n",
    "For the assignment you need to read the Rocketfuel case, but answer the questions in the assignment. You can ignore the questions on the HBS website\n",
    "\n",
    "\n",
    "__Important Tips:__\n",
    "\n",
    "- Remember to write your name in the above markdown cell.\n",
    "\n",
    "- Remember to write out your answers in words, don’t just output Python statistics.\n",
    "\n",
    "- Before you submit the notebook, please make sure that the text is readable and does not spill over the right side of the screen. To prevent this from happening, make sure to write your verbal answer in the markdown blocks.\n",
    "  \n",
    "- The definitions for the columns in the data are in case! Please read them carefully.\n"
   ]
  },
  {
   "cell_type": "code",
   "execution_count": 1,
   "id": "01c2a3ba",
   "metadata": {},
   "outputs": [
    {
     "data": {
      "text/html": [
       "<div>\n",
       "<style scoped>\n",
       "    .dataframe tbody tr th:only-of-type {\n",
       "        vertical-align: middle;\n",
       "    }\n",
       "\n",
       "    .dataframe tbody tr th {\n",
       "        vertical-align: top;\n",
       "    }\n",
       "\n",
       "    .dataframe thead th {\n",
       "        text-align: right;\n",
       "    }\n",
       "</style>\n",
       "<table border=\"1\" class=\"dataframe\">\n",
       "  <thead>\n",
       "    <tr style=\"text-align: right;\">\n",
       "      <th></th>\n",
       "      <th>user_id</th>\n",
       "      <th>test</th>\n",
       "      <th>converted</th>\n",
       "      <th>tot_impr</th>\n",
       "      <th>mode_impr_day</th>\n",
       "      <th>mode_impr_hour</th>\n",
       "    </tr>\n",
       "  </thead>\n",
       "  <tbody>\n",
       "    <tr>\n",
       "      <th>0</th>\n",
       "      <td>1069124</td>\n",
       "      <td>1</td>\n",
       "      <td>0</td>\n",
       "      <td>130</td>\n",
       "      <td>1</td>\n",
       "      <td>20</td>\n",
       "    </tr>\n",
       "    <tr>\n",
       "      <th>1</th>\n",
       "      <td>1119715</td>\n",
       "      <td>1</td>\n",
       "      <td>0</td>\n",
       "      <td>93</td>\n",
       "      <td>2</td>\n",
       "      <td>22</td>\n",
       "    </tr>\n",
       "    <tr>\n",
       "      <th>2</th>\n",
       "      <td>1144181</td>\n",
       "      <td>1</td>\n",
       "      <td>0</td>\n",
       "      <td>21</td>\n",
       "      <td>2</td>\n",
       "      <td>18</td>\n",
       "    </tr>\n",
       "    <tr>\n",
       "      <th>3</th>\n",
       "      <td>1435133</td>\n",
       "      <td>1</td>\n",
       "      <td>0</td>\n",
       "      <td>355</td>\n",
       "      <td>2</td>\n",
       "      <td>10</td>\n",
       "    </tr>\n",
       "    <tr>\n",
       "      <th>4</th>\n",
       "      <td>1015700</td>\n",
       "      <td>1</td>\n",
       "      <td>0</td>\n",
       "      <td>276</td>\n",
       "      <td>5</td>\n",
       "      <td>14</td>\n",
       "    </tr>\n",
       "    <tr>\n",
       "      <th>...</th>\n",
       "      <td>...</td>\n",
       "      <td>...</td>\n",
       "      <td>...</td>\n",
       "      <td>...</td>\n",
       "      <td>...</td>\n",
       "      <td>...</td>\n",
       "    </tr>\n",
       "    <tr>\n",
       "      <th>588043</th>\n",
       "      <td>1496403</td>\n",
       "      <td>1</td>\n",
       "      <td>0</td>\n",
       "      <td>24</td>\n",
       "      <td>2</td>\n",
       "      <td>19</td>\n",
       "    </tr>\n",
       "    <tr>\n",
       "      <th>588044</th>\n",
       "      <td>1496404</td>\n",
       "      <td>1</td>\n",
       "      <td>0</td>\n",
       "      <td>199</td>\n",
       "      <td>6</td>\n",
       "      <td>19</td>\n",
       "    </tr>\n",
       "    <tr>\n",
       "      <th>588045</th>\n",
       "      <td>1496405</td>\n",
       "      <td>1</td>\n",
       "      <td>0</td>\n",
       "      <td>211</td>\n",
       "      <td>6</td>\n",
       "      <td>15</td>\n",
       "    </tr>\n",
       "    <tr>\n",
       "      <th>588046</th>\n",
       "      <td>1496406</td>\n",
       "      <td>1</td>\n",
       "      <td>0</td>\n",
       "      <td>98</td>\n",
       "      <td>5</td>\n",
       "      <td>19</td>\n",
       "    </tr>\n",
       "    <tr>\n",
       "      <th>588047</th>\n",
       "      <td>1496407</td>\n",
       "      <td>1</td>\n",
       "      <td>0</td>\n",
       "      <td>19</td>\n",
       "      <td>2</td>\n",
       "      <td>19</td>\n",
       "    </tr>\n",
       "  </tbody>\n",
       "</table>\n",
       "<p>588048 rows × 6 columns</p>\n",
       "</div>"
      ],
      "text/plain": [
       "        user_id  test  converted  tot_impr  mode_impr_day  mode_impr_hour\n",
       "0       1069124     1          0       130              1              20\n",
       "1       1119715     1          0        93              2              22\n",
       "2       1144181     1          0        21              2              18\n",
       "3       1435133     1          0       355              2              10\n",
       "4       1015700     1          0       276              5              14\n",
       "...         ...   ...        ...       ...            ...             ...\n",
       "588043  1496403     1          0        24              2              19\n",
       "588044  1496404     1          0       199              6              19\n",
       "588045  1496405     1          0       211              6              15\n",
       "588046  1496406     1          0        98              5              19\n",
       "588047  1496407     1          0        19              2              19\n",
       "\n",
       "[588048 rows x 6 columns]"
      ]
     },
     "execution_count": 1,
     "metadata": {},
     "output_type": "execute_result"
    }
   ],
   "source": [
    "from IPython.core.interactiveshell import InteractiveShell\n",
    "InteractiveShell.ast_node_interactivity = \"all\"\n",
    "\n",
    "# import modules and functions\n",
    "\n",
    "import numpy as np\n",
    "import pandas as pd\n",
    "import seaborn as sns\n",
    "sns.set(rc={'figure.figsize':(15, 8)})\n",
    "\n",
    "from statsmodels.stats.weightstats import ttest_ind # for t-test\n",
    "\n",
    "# read data\n",
    "\n",
    "ads_data = pd.read_csv('rocketfuel_data.csv')\n",
    "\n",
    "ads_data"
   ]
  },
  {
   "cell_type": "code",
   "execution_count": 2,
   "id": "4efe8d63",
   "metadata": {},
   "outputs": [
    {
     "data": {
      "text/plain": [
       "1    564530\n",
       "0     23518\n",
       "Name: test, dtype: int64"
      ]
     },
     "execution_count": 2,
     "metadata": {},
     "output_type": "execute_result"
    }
   ],
   "source": [
    "# Checking the sample sizes of treatment and control groups\n",
    "ads_data['test'].value_counts()"
   ]
  },
  {
   "cell_type": "markdown",
   "id": "c76529a2",
   "metadata": {},
   "source": [
    "### 1. ATE and statistical significance.\n",
    "#### 1.a What is the ATE (hat) of the ads on purchases (conversions)? \n"
   ]
  },
  {
   "cell_type": "code",
   "execution_count": 3,
   "id": "4013dd2f",
   "metadata": {},
   "outputs": [
    {
     "name": "stdout",
     "output_type": "stream",
     "text": [
      "Treatment Size: 564530 \t Treatment Average (conversion rate): 0.025548686517988414\n",
      "Control Size: 23518 \t Control Average (conversion rate): 0.01785866145080364\n",
      "The ATE (hat) of the Ads on purchases (conversions) = 0.00769\n"
     ]
    }
   ],
   "source": [
    "# Your code here\n",
    "trt_grp_size = len(ads_data[ads_data['test']==1])\n",
    "ctr_grp_size = len(ads_data[ads_data['test']==0])\n",
    "\n",
    "trt_mean = ads_data.loc[ads_data['test'] == 1, 'converted'].mean()\n",
    "ctr_mean = ads_data.loc[ads_data['test'] == 0, 'converted'].mean()\n",
    "\n",
    "ATE_hat = trt_mean - ctr_mean\n",
    "\n",
    "print(\"Treatment Size:\", trt_grp_size, \"\\t Treatment Average (conversion rate):\", trt_mean)\n",
    "print(\"Control Size:\", ctr_grp_size, \"\\t Control Average (conversion rate):\", ctr_mean)\n",
    "print(\"The ATE (hat) of the Ads on purchases (conversions) =\", np.round(ATE_hat,5))"
   ]
  },
  {
   "cell_type": "markdown",
   "id": "1ef306d0",
   "metadata": {},
   "source": [
    "**Answer 1.a** \n",
    "\n",
    "With a treatment size of 564,530 and a control size of 23,518, the average conversion rates were 0.02554 and 0.01786, respectively. The estimated Average Treatment Effect (ATE) is 0.00769, indicating a small but positive impact of ads on purchases for TaskaBella's new handbag. Essentially, the treatment group, exposed to ads, showed a higher average purchase rate compared to the control group with no ads."
   ]
  },
  {
   "cell_type": "markdown",
   "id": "56167f1a",
   "metadata": {},
   "source": [
    "#### 1.b Did the campaign cause more purchases? Is this difference statistically significant? \n",
    "Hint: Use the t.test function. For example, the code below conducts a t-test on the number of impressions."
   ]
  },
  {
   "cell_type": "code",
   "execution_count": 4,
   "id": "b13f4f4a",
   "metadata": {},
   "outputs": [],
   "source": [
    "# tstat, pvalue, df = ttest_ind(ads_data.loc[ads_data['test'] == 1, 'tot_impr'], \n",
    "#                               ads_data.loc[ads_data['test'] == 0, 'tot_impr'],\n",
    "#                               alternative = 'two-sided', usevar = 'pooled', value = 0)\n",
    "\n",
    "# print(f\"t-score (t): {tstat}\")\n",
    "# print(f\"P-value (p): {pvalue}\")"
   ]
  },
  {
   "cell_type": "markdown",
   "id": "b1374c50",
   "metadata": {},
   "source": [
    "Modify the function above to get the right answer. Your answer in the code chunk below."
   ]
  },
  {
   "cell_type": "code",
   "execution_count": 5,
   "id": "14af03a9",
   "metadata": {},
   "outputs": [
    {
     "name": "stdout",
     "output_type": "stream",
     "text": [
      "t-score (t): 7.366841436877127\n",
      "P-value (p): 1.7494498980941505e-13\n"
     ]
    }
   ],
   "source": [
    "# Your code here\n",
    "tstat, pvalue, df = ttest_ind(ads_data.loc[ads_data['test'] == 1, 'converted'], \n",
    "                              ads_data.loc[ads_data['test'] == 0, 'converted'],\n",
    "                              alternative = 'two-sided', usevar = 'pooled', value = 0)\n",
    "\n",
    "print(f\"t-score (t): {tstat}\")\n",
    "print(f\"P-value (p): {pvalue}\")"
   ]
  },
  {
   "cell_type": "markdown",
   "id": "9ec9f9b3",
   "metadata": {},
   "source": [
    "**Answer 1.b** \n",
    "\n",
    "The estimated Average Treatment Effect (ATE hat) of 0.00769 is small but statistically significant as indicated by a high t-score of 7.3668 and a very low p-value of 1.75e-13 (< 0.05). Hence, there is strong evidence that the observed difference in purchase rates is not random, and that the campaign caused more purchases."
   ]
  },
  {
   "cell_type": "markdown",
   "id": "b124a7de",
   "metadata": {},
   "source": [
    "### 2. Was the campaign profitable?\n",
    "#### 2.a How much more profit did TaskaBella make by running the campaign (excluding advertising costs) ?\n",
    "Hint: the profit per conversion is given on page 2 of the case."
   ]
  },
  {
   "cell_type": "code",
   "execution_count": 6,
   "id": "36091aba",
   "metadata": {},
   "outputs": [
    {
     "name": "stdout",
     "output_type": "stream",
     "text": [
      "The profit of the Ad Campaign is: $ 173649.99\n"
     ]
    }
   ],
   "source": [
    "profit_per_conversion = 40  # in dollars\n",
    "\n",
    "profit = ATE_hat * trt_grp_size * 40\n",
    "\n",
    "print(\"The profit of the Ad Campaign is: $\", np.round(profit,2))"
   ]
  },
  {
   "cell_type": "markdown",
   "id": "fbb3e270",
   "metadata": {},
   "source": [
    "**Answer 2.a** \n",
    "\n",
    "The campaign demonstrated profitability, yielding approximately `$`173,650 in profit for TaskaBella."
   ]
  },
  {
   "cell_type": "markdown",
   "id": "9656e21a",
   "metadata": {},
   "source": [
    "#### 2.b What was the cost of the campaign (including the control group)?  \n",
    "Hint: The cost per thousand impressions is $9"
   ]
  },
  {
   "cell_type": "code",
   "execution_count": 7,
   "id": "9b1fd122",
   "metadata": {},
   "outputs": [
    {
     "name": "stdout",
     "output_type": "stream",
     "text": [
      "Cost of the campaign is: $ 131385.8\n"
     ]
    }
   ],
   "source": [
    "cost_per_1000_imp = 9  # in dollars\n",
    "\n",
    "cost_of_campaign = (sum(ads_data['tot_impr']) / 1000) * 9\n",
    "\n",
    "print(\"Cost of the campaign is: $\", np.round(cost_of_campaign, 2))"
   ]
  },
  {
   "cell_type": "markdown",
   "id": "6d9b8201",
   "metadata": {},
   "source": [
    "**Answer 2.b** \n",
    "\n",
    "TaskaBella incurred a campaign cost of around `$`131,385 considering a cost of `$`9 per thousand impressions."
   ]
  },
  {
   "cell_type": "markdown",
   "id": "8799b9c9",
   "metadata": {},
   "source": [
    "#### 2.c Calculate the ROI of the campaign (including the control group). Was the campaign profitable?  \n",
    "The ROI is calculated by \n",
    "$$\\text{ROI} = \\frac{\\text{Effect on Profits per Person in Campaign} - \\text{Cost of Ads per Person in Campaign}}{\\text{Cost of Ads per Person in Campaign}}$$"
   ]
  },
  {
   "cell_type": "code",
   "execution_count": 18,
   "id": "f12ed7f7",
   "metadata": {},
   "outputs": [
    {
     "name": "stdout",
     "output_type": "stream",
     "text": [
      "ROI of the campaign is: 0.32\n"
     ]
    }
   ],
   "source": [
    "# ROI = (Effect on profit per person - Cost of campaign per person) / Cost of campaign per person\n",
    "\n",
    "num_users = len(ads_data)\n",
    "effect_on_profit_pp = profit/num_users\n",
    "cost_of_campaign_pp = cost_of_campaign/num_users\n",
    "\n",
    "ROI = (effect_on_profit_pp - cost_of_campaign_pp) / cost_of_campaign_pp\n",
    "\n",
    "print(\"ROI of the campaign is:\", np.round(ROI,2))"
   ]
  },
  {
   "cell_type": "markdown",
   "id": "f736e2ce",
   "metadata": {},
   "source": [
    "**Answer 2.c** \n",
    "\n",
    "The Return on Investment (ROI) for the campaign, including both groups, is approximately 32%. It's important to note that this ROI does not consider the fixed costs associated with setting up the campaign. Despite this limitation, a positive ROI indicates that the campaign generated a favorable return relative to its costs."
   ]
  },
  {
   "cell_type": "markdown",
   "id": "cd07022b",
   "metadata": {},
   "source": [
    "#### 2.d What was the opportunity cost of including a control group --- how much more could TaskaBella have made by not having a control group at all? "
   ]
  },
  {
   "cell_type": "code",
   "execution_count": 9,
   "id": "ed746eca",
   "metadata": {},
   "outputs": [
    {
     "name": "stdout",
     "output_type": "stream",
     "text": [
      "The opportunity cost of including a control group is: $ 7234.16\n"
     ]
    }
   ],
   "source": [
    "opportunity_cost = ATE_hat * ctr_grp_size * 40\n",
    "\n",
    "print(\"The opportunity cost of including a control group is: $\", np.round(opportunity_cost,2))"
   ]
  },
  {
   "cell_type": "markdown",
   "id": "843b4885",
   "metadata": {},
   "source": [
    "**Answer 2.d** \n",
    "\n",
    "The opportunity cost incurred by including a control group amounts to `$`7,234. This represents the potential additional profit TaskaBella could have attained if there was no control group, indicating that the presence of the control group led to a missed opportunity for an extra `$`7,234 in profit."
   ]
  },
  {
   "cell_type": "markdown",
   "id": "f9060332",
   "metadata": {},
   "source": [
    "### 3. Did the number of impressions seen by each user influence the effectiveness of advertising?\n",
    "\n",
    "#### 3.a Plot the conversion rate by treatment group and by the number of impressions seen by users. "
   ]
  },
  {
   "cell_type": "markdown",
   "id": "07409675",
   "metadata": {},
   "source": [
    "**Answer 3.a**"
   ]
  },
  {
   "cell_type": "code",
   "execution_count": 10,
   "id": "deb8fe51",
   "metadata": {},
   "outputs": [],
   "source": [
    "# Useful code for creating bins (modify as you like)\n",
    "# bins = pd.IntervalIndex.from_tuples([(0,100), (100,500), (500, 10000)])\n",
    "\n",
    "bins = pd.IntervalIndex.from_tuples([(0,20), (20,40), (40,60), (60,80), (80,100), (100,500), (500,2500)])\n",
    "\n",
    "ads_data['group_tot_impr'] = pd.cut(ads_data['tot_impr'], bins).astype(str)"
   ]
  },
  {
   "cell_type": "code",
   "execution_count": 11,
   "id": "610031d8",
   "metadata": {},
   "outputs": [
    {
     "data": {
      "text/html": [
       "<div>\n",
       "<style scoped>\n",
       "    .dataframe tbody tr th:only-of-type {\n",
       "        vertical-align: middle;\n",
       "    }\n",
       "\n",
       "    .dataframe tbody tr th {\n",
       "        vertical-align: top;\n",
       "    }\n",
       "\n",
       "    .dataframe thead th {\n",
       "        text-align: right;\n",
       "    }\n",
       "</style>\n",
       "<table border=\"1\" class=\"dataframe\">\n",
       "  <thead>\n",
       "    <tr style=\"text-align: right;\">\n",
       "      <th></th>\n",
       "      <th>bins</th>\n",
       "      <th>conversion_rate</th>\n",
       "    </tr>\n",
       "  </thead>\n",
       "  <tbody>\n",
       "    <tr>\n",
       "      <th>4</th>\n",
       "      <td>(0, 20]</td>\n",
       "      <td>0.496004</td>\n",
       "    </tr>\n",
       "    <tr>\n",
       "      <th>2</th>\n",
       "      <td>(20, 40]</td>\n",
       "      <td>2.322632</td>\n",
       "    </tr>\n",
       "    <tr>\n",
       "      <th>5</th>\n",
       "      <td>(40, 60]</td>\n",
       "      <td>6.707023</td>\n",
       "    </tr>\n",
       "    <tr>\n",
       "      <th>6</th>\n",
       "      <td>(60, 80]</td>\n",
       "      <td>12.003659</td>\n",
       "    </tr>\n",
       "    <tr>\n",
       "      <th>1</th>\n",
       "      <td>(80, 100]</td>\n",
       "      <td>15.841679</td>\n",
       "    </tr>\n",
       "    <tr>\n",
       "      <th>0</th>\n",
       "      <td>(100, 500]</td>\n",
       "      <td>17.123447</td>\n",
       "    </tr>\n",
       "    <tr>\n",
       "      <th>3</th>\n",
       "      <td>(500, 2500]</td>\n",
       "      <td>17.460317</td>\n",
       "    </tr>\n",
       "  </tbody>\n",
       "</table>\n",
       "</div>"
      ],
      "text/plain": [
       "          bins  conversion_rate\n",
       "4      (0, 20]         0.496004\n",
       "2     (20, 40]         2.322632\n",
       "5     (40, 60]         6.707023\n",
       "6     (60, 80]        12.003659\n",
       "1    (80, 100]        15.841679\n",
       "0   (100, 500]        17.123447\n",
       "3  (500, 2500]        17.460317"
      ]
     },
     "execution_count": 11,
     "metadata": {},
     "output_type": "execute_result"
    }
   ],
   "source": [
    "conv_rate = pd.DataFrame(ads_data.loc[ads_data['test'] == 1].groupby('group_tot_impr', sort=False, as_index=False)['converted'].mean())\n",
    "conv_rate.rename(columns={'group_tot_impr':'bins','converted':'conversion_rate'}, inplace=True)\n",
    "conv_rate['conversion_rate'] = conv_rate['conversion_rate'] * 100\n",
    "conv_rate.sort_values(by='conversion_rate', inplace=True)\n",
    "conv_rate"
   ]
  },
  {
   "cell_type": "code",
   "execution_count": 12,
   "id": "4587fb4a",
   "metadata": {},
   "outputs": [
    {
     "data": {
      "image/png": "[encoded data removed]",
      "text/plain": [
       "<Figure size 1500x800 with 1 Axes>"
      ]
     },
     "metadata": {},
     "output_type": "display_data"
    }
   ],
   "source": [
    "import matplotlib.pyplot as plt\n",
    "\n",
    "ax = sns.barplot(x='bins', y='conversion_rate', color='blue', data=conv_rate)\n",
    "sns.lineplot(x='bins', y='conversion_rate', color='red', data=conv_rate, ax=ax)\n",
    "\n",
    "plt.xlabel(\"No. of Impressions\")\n",
    "plt.ylabel(\"Conversion Rate\")\n",
    "plt.show();"
   ]
  },
  {
   "cell_type": "markdown",
   "id": "64bd5aef",
   "metadata": {},
   "source": [
    "#### 3.b Based on the above figure, can we say that more impressions cause more conversions? (No more than 2 sentences)"
   ]
  },
  {
   "cell_type": "markdown",
   "id": "7caf903b",
   "metadata": {},
   "source": [
    "**Answer 3.b** \n",
    "\n",
    "From the above graph we can easily observe that the conversion rate increases with the number of impressions encountered by the users in the treatment group. The conversion rate increases sharply between 0-100 impressions and eventually plateaus for users who encountered 100+ impressions. This suggests a positive relationship between the number of impressions and conversions."
   ]
  },
  {
   "cell_type": "markdown",
   "id": "806e769a",
   "metadata": {},
   "source": [
    "### 4 Calculate the power of this experiment.\n",
    "\n",
    "#### 4.a Calculate Cohen’s D. Cohen’s D, in this case, is the estimated average treatment effect on conversion divided by the standard deviation of conversion."
   ]
  },
  {
   "cell_type": "code",
   "execution_count": 13,
   "id": "00bf043b",
   "metadata": {},
   "outputs": [
    {
     "name": "stdout",
     "output_type": "stream",
     "text": [
      "Cohen's D is: 0.049\n"
     ]
    }
   ],
   "source": [
    "cohens_d = ATE_hat / ads_data['converted'].std()\n",
    "\n",
    "print(\"Cohen's D is:\", np.round(cohens_d,4))"
   ]
  },
  {
   "cell_type": "markdown",
   "id": "7c827326",
   "metadata": {},
   "source": [
    "**Answer 4.a** \n",
    "\n",
    "A Cohen's D of 0.049 signifies a modest effect size, suggesting that running the campaign had a small but measurable impact on conversions. "
   ]
  },
  {
   "cell_type": "markdown",
   "id": "2340e4a0",
   "metadata": {},
   "source": [
    "#### 4.b Use the `power_ttest2n` function in `pingouin` to calculate the power of the experiment. \n",
    "Note, this is very similar to the TTestPower function you've been shown previously, but this one also allows for treatment arms of a different size."
   ]
  },
  {
   "cell_type": "code",
   "execution_count": 14,
   "id": "e5df2042",
   "metadata": {},
   "outputs": [],
   "source": [
    "##  requirements: pingouin-0.5.4\n",
    "# from pingouin import power_ttest2n\n",
    "\n",
    "# cohens_d = 0.05 #(modify this value as you like)\n",
    "# power = power_ttest2n(nx = 100, ny = 100, d = cohens_d, \n",
    "#                       alpha = 0.05, alternative = 'two-sided')\n",
    "# power"
   ]
  },
  {
   "cell_type": "code",
   "execution_count": 15,
   "id": "7eebaa93",
   "metadata": {},
   "outputs": [
    {
     "name": "stdout",
     "output_type": "stream",
     "text": [
      "Power of the experiment = 0.9999999678715827\n"
     ]
    }
   ],
   "source": [
    "from pingouin import power_ttest2n\n",
    "\n",
    "power = power_ttest2n(nx = trt_grp_size, ny = ctr_grp_size, d = cohens_d, \n",
    "                      alpha = 0.05, alternative = 'two-sided')\n",
    "\n",
    "print(\"Power of the experiment =\", power)"
   ]
  },
  {
   "cell_type": "markdown",
   "id": "523c142d",
   "metadata": {},
   "source": [
    "**Answer 4.b** \n",
    "\n",
    "Given the treatment and control group sizes, an effect size of 0.049 (Cohen's D), and an alpha of 0.05, the calculated Power of the experiment is exceptionally high at 0.9999. This indicates a high probability to reject the null hypothesis, affirming that the treatment has a significant and detectable impact on conversions."
   ]
  },
  {
   "cell_type": "markdown",
   "id": "a302fe03",
   "metadata": {},
   "source": [
    "#### 4.c What would the power be instead if the true effect had a cohen's D of .01?"
   ]
  },
  {
   "cell_type": "code",
   "execution_count": 16,
   "id": "17ee397c",
   "metadata": {},
   "outputs": [
    {
     "name": "stdout",
     "output_type": "stream",
     "text": [
      "Power of the experiment with Cohen's D as 0.01 = 0.3239638495586871\n"
     ]
    }
   ],
   "source": [
    "new_cohens_d = 0.01\n",
    "\n",
    "new_power = power_ttest2n(nx = trt_grp_size, ny = ctr_grp_size, d = new_cohens_d, \n",
    "                          alpha = 0.05, alternative = 'two-sided')\n",
    "\n",
    "print(\"Power of the experiment with Cohen's D as 0.01 =\", new_power)"
   ]
  },
  {
   "cell_type": "markdown",
   "id": "293725d2",
   "metadata": {},
   "source": [
    "**Answer 4.c** \n",
    "\n",
    "Reducing the effect size from 0.049 to 0.01 while maintaining the same sample sizes and alpha level results in a notable decrease in the Power of the experiment. The Power drops to 0.32, diminishing the probability of rejecting the null hypothesis and making it challenging to support the alternative hypothesis."
   ]
  },
  {
   "cell_type": "markdown",
   "id": "8d87a53d",
   "metadata": {},
   "source": [
    "#### 4.d What would the power be instead if the true effect had a cohen's of .01 and the sample was equally split between treatment and control?"
   ]
  },
  {
   "cell_type": "code",
   "execution_count": 17,
   "id": "82891f94",
   "metadata": {},
   "outputs": [
    {
     "name": "stdout",
     "output_type": "stream",
     "text": [
      "Power of the experiment with Cohen's D as 0.01 and equal sample split = 0.969551612370692\n"
     ]
    }
   ],
   "source": [
    "from pingouin import power_ttest\n",
    "\n",
    "equal_sample_power = power_ttest(n=len(ads_data)/2, d = new_cohens_d, alpha = 0.05, alternative = 'two-sided')\n",
    "\n",
    "print(\"Power of the experiment with Cohen's D as 0.01 and equal sample split =\", equal_sample_power)"
   ]
  },
  {
   "cell_type": "markdown",
   "id": "4f6af17e",
   "metadata": {},
   "source": [
    "**Answer 4.d** \n",
    "\n",
    "Equalizing the sample sizes and maintaining a small effect size of 0.01, the Power of the experiment notably increases to 0.9695 and once again indicates a strong confidence in supporting the alternative hypothesis that the treatment has a significant impact on the conversions."
   ]
  },
  {
   "cell_type": "markdown",
   "id": "22951e4d",
   "metadata": {},
   "source": [
    "### 5. Case Discussion in Class\n",
    "Please write what you would discuss in your presentation to TaskaBella. Your answer should be one paragraph and the paragraph should be five or fewer sentences. Be prepared to discuss in class. Think about what is the most important thing to say to TaskaBella. \n",
    "No additional analysis is needed to answer this question."
   ]
  },
  {
   "cell_type": "markdown",
   "id": "61e23f65",
   "metadata": {},
   "source": [
    "**Answer 5**\n",
    "\n",
    "In the campaign analysis, we found a statistically significant positive impact on user conversions, with an estimated average treatment effect of 0.00769. The campaign generated a substantial profit of `$`173,649, surpassing the campaign cost of `$`131,385 and yielding a commendable ROI of 32%. The high power of 0.999 further validates the effectiveness of the advertisements in driving conversions. In light of these compelling results, I recommend TaskaBella to continue showcasing these advertisements to all users, as the evidence suggests a successful and impactful campaign."
   ]
  },
  {
   "cell_type": "markdown",
   "id": "7b0569e4",
   "metadata": {},
   "source": [
    "### How long did this problem set take you in hours? How did you find the level of difficulty?\n"
   ]
  },
  {
   "cell_type": "markdown",
   "id": "2124b7ee",
   "metadata": {},
   "source": [
    "It took me roughly 7 hours at a stretch to complete the problem set along with the explainations. The level of difficulty of the questions were a bit challenging given that most of them weren't straightforward/solved in class and also involved in-depth concepts/interpretations that I found myself grappling with."
   ]
  },
  {
   "cell_type": "markdown",
   "id": "3c065baf",
   "metadata": {},
   "source": []
  }
 ],
 "metadata": {
  "kernelspec": {
   "display_name": "Python 3 (ipykernel)",
   "language": "python",
   "name": "python3"
  },
  "language_info": {
   "codemirror_mode": {
    "name": "ipython",
    "version": 3
   },
   "file_extension": ".py",
   "mimetype": "text/x-python",
   "name": "python",
   "nbconvert_exporter": "python",
   "pygments_lexer": "ipython3",
   "version": "3.11.4"
  }
 },
 "nbformat": 4,
 "nbformat_minor": 5
}
