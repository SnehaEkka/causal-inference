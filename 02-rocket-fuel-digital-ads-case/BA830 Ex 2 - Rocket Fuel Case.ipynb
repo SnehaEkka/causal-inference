{
 "cells": [
  {
   "cell_type": "markdown",
   "id": "fddf81eb",
   "metadata": {},
   "source": [
    "# Business Experimentation and Causal Methods\n",
    "\n",
    "## Assignment 2: Rocket Fuel\n",
    "\n",
    "Your Name Here\n",
    "\n",
    "Due Date: 12:30pm, February 6, 2024"
   ]
  },
  {
   "cell_type": "markdown",
   "id": "6dcacf10",
   "metadata": {},
   "source": [
    "__Instructions:__\n",
    "\n",
    "Please read the case about RocketFuel from the HBS Case Pack.\n",
    "For the assignment you need to read the Rocketfuel case, but answer the questions in the assignment. You can ignore the questions on the HBS website\n",
    "\n",
    "\n",
    "__Important Tips:__\n",
    "\n",
    "- Remember to write your name in the above markdown cell.\n",
    "\n",
    "- Remember to write out your answers in words, don’t just output Python statistics.\n",
    "\n",
    "- Before you submit the notebook, please make sure that the text is readable and does not spill over the right side of the screen. To prevent this from happening, make sure to write your verbal answer in the markdown blocks.\n",
    "  \n",
    "- The definitions for the columns in the data are in case! Please read them carefully.\n"
   ]
  },
  {
   "cell_type": "code",
   "execution_count": 11,
   "id": "01c2a3ba",
   "metadata": {},
   "outputs": [
    {
     "data": {
      "text/html": [
       "<div>\n",
       "<style scoped>\n",
       "    .dataframe tbody tr th:only-of-type {\n",
       "        vertical-align: middle;\n",
       "    }\n",
       "\n",
       "    .dataframe tbody tr th {\n",
       "        vertical-align: top;\n",
       "    }\n",
       "\n",
       "    .dataframe thead th {\n",
       "        text-align: right;\n",
       "    }\n",
       "</style>\n",
       "<table border=\"1\" class=\"dataframe\">\n",
       "  <thead>\n",
       "    <tr style=\"text-align: right;\">\n",
       "      <th></th>\n",
       "      <th>user_id</th>\n",
       "      <th>test</th>\n",
       "      <th>converted</th>\n",
       "      <th>tot_impr</th>\n",
       "      <th>mode_impr_day</th>\n",
       "      <th>mode_impr_hour</th>\n",
       "    </tr>\n",
       "  </thead>\n",
       "  <tbody>\n",
       "    <tr>\n",
       "      <th>0</th>\n",
       "      <td>1069124</td>\n",
       "      <td>1</td>\n",
       "      <td>0</td>\n",
       "      <td>130</td>\n",
       "      <td>1</td>\n",
       "      <td>20</td>\n",
       "    </tr>\n",
       "    <tr>\n",
       "      <th>1</th>\n",
       "      <td>1119715</td>\n",
       "      <td>1</td>\n",
       "      <td>0</td>\n",
       "      <td>93</td>\n",
       "      <td>2</td>\n",
       "      <td>22</td>\n",
       "    </tr>\n",
       "    <tr>\n",
       "      <th>2</th>\n",
       "      <td>1144181</td>\n",
       "      <td>1</td>\n",
       "      <td>0</td>\n",
       "      <td>21</td>\n",
       "      <td>2</td>\n",
       "      <td>18</td>\n",
       "    </tr>\n",
       "    <tr>\n",
       "      <th>3</th>\n",
       "      <td>1435133</td>\n",
       "      <td>1</td>\n",
       "      <td>0</td>\n",
       "      <td>355</td>\n",
       "      <td>2</td>\n",
       "      <td>10</td>\n",
       "    </tr>\n",
       "    <tr>\n",
       "      <th>4</th>\n",
       "      <td>1015700</td>\n",
       "      <td>1</td>\n",
       "      <td>0</td>\n",
       "      <td>276</td>\n",
       "      <td>5</td>\n",
       "      <td>14</td>\n",
       "    </tr>\n",
       "    <tr>\n",
       "      <th>...</th>\n",
       "      <td>...</td>\n",
       "      <td>...</td>\n",
       "      <td>...</td>\n",
       "      <td>...</td>\n",
       "      <td>...</td>\n",
       "      <td>...</td>\n",
       "    </tr>\n",
       "    <tr>\n",
       "      <th>588043</th>\n",
       "      <td>1496403</td>\n",
       "      <td>1</td>\n",
       "      <td>0</td>\n",
       "      <td>24</td>\n",
       "      <td>2</td>\n",
       "      <td>19</td>\n",
       "    </tr>\n",
       "    <tr>\n",
       "      <th>588044</th>\n",
       "      <td>1496404</td>\n",
       "      <td>1</td>\n",
       "      <td>0</td>\n",
       "      <td>199</td>\n",
       "      <td>6</td>\n",
       "      <td>19</td>\n",
       "    </tr>\n",
       "    <tr>\n",
       "      <th>588045</th>\n",
       "      <td>1496405</td>\n",
       "      <td>1</td>\n",
       "      <td>0</td>\n",
       "      <td>211</td>\n",
       "      <td>6</td>\n",
       "      <td>15</td>\n",
       "    </tr>\n",
       "    <tr>\n",
       "      <th>588046</th>\n",
       "      <td>1496406</td>\n",
       "      <td>1</td>\n",
       "      <td>0</td>\n",
       "      <td>98</td>\n",
       "      <td>5</td>\n",
       "      <td>19</td>\n",
       "    </tr>\n",
       "    <tr>\n",
       "      <th>588047</th>\n",
       "      <td>1496407</td>\n",
       "      <td>1</td>\n",
       "      <td>0</td>\n",
       "      <td>19</td>\n",
       "      <td>2</td>\n",
       "      <td>19</td>\n",
       "    </tr>\n",
       "  </tbody>\n",
       "</table>\n",
       "<p>588048 rows × 6 columns</p>\n",
       "</div>"
      ],
      "text/plain": [
       "        user_id  test  converted  tot_impr  mode_impr_day  mode_impr_hour\n",
       "0       1069124     1          0       130              1              20\n",
       "1       1119715     1          0        93              2              22\n",
       "2       1144181     1          0        21              2              18\n",
       "3       1435133     1          0       355              2              10\n",
       "4       1015700     1          0       276              5              14\n",
       "...         ...   ...        ...       ...            ...             ...\n",
       "588043  1496403     1          0        24              2              19\n",
       "588044  1496404     1          0       199              6              19\n",
       "588045  1496405     1          0       211              6              15\n",
       "588046  1496406     1          0        98              5              19\n",
       "588047  1496407     1          0        19              2              19\n",
       "\n",
       "[588048 rows x 6 columns]"
      ]
     },
     "execution_count": 11,
     "metadata": {},
     "output_type": "execute_result"
    }
   ],
   "source": [
    "from IPython.core.interactiveshell import InteractiveShell\n",
    "InteractiveShell.ast_node_interactivity = \"all\"\n",
    "\n",
    "# import modules and functions\n",
    "\n",
    "import numpy as np\n",
    "import pandas as pd\n",
    "import seaborn as sns\n",
    "sns.set(rc={'figure.figsize':(15, 8)})\n",
    "\n",
    "from statsmodels.stats.weightstats import ttest_ind # for t-test\n",
    "\n",
    "# read data\n",
    "\n",
    "ads_data = pd.read_csv('rocketfuel_data.csv')\n",
    "\n",
    "ads_data"
   ]
  },
  {
   "cell_type": "markdown",
   "id": "c76529a2",
   "metadata": {},
   "source": [
    "### 1. ATE and statistical significance.\n",
    "#### 1.a What is the ATE (hat) of the ads on purchases (conversions)? \n"
   ]
  },
  {
   "cell_type": "code",
   "execution_count": 2,
   "id": "4013dd2f",
   "metadata": {},
   "outputs": [],
   "source": [
    "# your code here"
   ]
  },
  {
   "cell_type": "markdown",
   "id": "56167f1a",
   "metadata": {},
   "source": [
    "#### 1.b Did the campaign cause more purchases? Is this difference statistically significant? \n",
    "Hint: Use the t.test function. For example, the code below conducts a t-test on the number of impressions."
   ]
  },
  {
   "cell_type": "code",
   "execution_count": 12,
   "id": "b13f4f4a",
   "metadata": {},
   "outputs": [
    {
     "name": "stdout",
     "output_type": "stream",
     "text": [
      "t-score (t): 0.2127032030589101\n",
      "P-value (p): 0.8315585419840091\n"
     ]
    }
   ],
   "source": [
    "tstat, pvalue, df = ttest_ind(ads_data.loc[ads_data['test'] == 1, 'tot_impr'], \n",
    "                              ads_data.loc[ads_data['test'] == 0, 'tot_impr'],\n",
    "                              alternative = 'two-sided', usevar = 'pooled', value = 0)\n",
    "\n",
    "print(f\"t-score (t): {tstat}\")\n",
    "print(f\"P-value (p): {pvalue}\")"
   ]
  },
  {
   "cell_type": "code",
   "execution_count": null,
   "id": "5ad9e1fb",
   "metadata": {},
   "outputs": [],
   "source": []
  },
  {
   "cell_type": "markdown",
   "id": "b1374c50",
   "metadata": {},
   "source": [
    "Modify the function above to get the right answer. Your answer in the code chunk below."
   ]
  },
  {
   "cell_type": "code",
   "execution_count": 4,
   "id": "14af03a9",
   "metadata": {},
   "outputs": [],
   "source": [
    "# your code here"
   ]
  },
  {
   "cell_type": "markdown",
   "id": "b124a7de",
   "metadata": {},
   "source": [
    "### 2. Was the campaign profitable?\n",
    "#### 2.a How much more profit did TaskaBella make by running the campaign (excluding advertising costs) ?\n",
    "Hint: the profit per conversion is given on page 2 of the case."
   ]
  },
  {
   "cell_type": "code",
   "execution_count": null,
   "id": "36091aba",
   "metadata": {},
   "outputs": [],
   "source": []
  },
  {
   "cell_type": "markdown",
   "id": "9656e21a",
   "metadata": {},
   "source": [
    "#### 2.b What was the cost of the campaign (including the control group)?  \n",
    "Hint: The cost per thousand impressions is $9"
   ]
  },
  {
   "cell_type": "code",
   "execution_count": null,
   "id": "9b1fd122",
   "metadata": {},
   "outputs": [],
   "source": []
  },
  {
   "cell_type": "markdown",
   "id": "8799b9c9",
   "metadata": {},
   "source": [
    "#### 2.c Calculate the ROI of the campaign (including the control group). Was the campaign profitable?  \n",
    "The ROI is calculated by \n",
    "$$\\text{ROI} = \\frac{\\text{Effect on Profits per Person in Campaign} - \\text{Cost of Ads per Person in Campaign}}{\\text{Cost of Ads per Person in Campaign}}$$"
   ]
  },
  {
   "cell_type": "code",
   "execution_count": null,
   "id": "f12ed7f7",
   "metadata": {},
   "outputs": [],
   "source": []
  },
  {
   "cell_type": "markdown",
   "id": "cd07022b",
   "metadata": {},
   "source": [
    "#### 2.d What was the opportunity cost of including a control group --- how much more could TaskaBella have made by not having a control group at all? "
   ]
  },
  {
   "cell_type": "code",
   "execution_count": null,
   "id": "ed746eca",
   "metadata": {},
   "outputs": [],
   "source": []
  },
  {
   "cell_type": "markdown",
   "id": "f9060332",
   "metadata": {},
   "source": [
    "### 3. Did the number of impressions seen by each user influence the effectiveness of advertising?\n",
    "\n",
    "#### 3a. Plot the conversion rate by treatment group and by the number of impressions seen by users. "
   ]
  },
  {
   "cell_type": "code",
   "execution_count": 13,
   "id": "deb8fe51",
   "metadata": {},
   "outputs": [],
   "source": [
    "# Useful code for creating bins (modify as you like)\n",
    "bins = pd.IntervalIndex.from_tuples([(0,100), (100,500), (500, 10000)])\n",
    "\n",
    "ads_data['group_tot_impr'] = pd.cut(ads_data['tot_impr'], bins).astype(str)\n"
   ]
  },
  {
   "cell_type": "markdown",
   "id": "64bd5aef",
   "metadata": {},
   "source": [
    "#### 3.b Based on the above figure, can we say that more impressions cause more conversions? (No more than 2 sentences)"
   ]
  },
  {
   "cell_type": "markdown",
   "id": "7caf903b",
   "metadata": {},
   "source": [
    "Answer here:"
   ]
  },
  {
   "cell_type": "markdown",
   "id": "806e769a",
   "metadata": {},
   "source": [
    "### 4 Calculate the power of this experiment.\n",
    "\n",
    "#### 4.a Calculate Cohen’s D. Cohen’s D, in this case, is the estimated average treatment effect on conversion divided by the standard deviation of conversion."
   ]
  },
  {
   "cell_type": "code",
   "execution_count": 8,
   "id": "00bf043b",
   "metadata": {},
   "outputs": [],
   "source": []
  },
  {
   "cell_type": "markdown",
   "id": "2340e4a0",
   "metadata": {},
   "source": [
    "#### 4.b Use the `power_ttest2n` function in `pingouin` to calculate the power of the experiment. \n",
    "Note, this is very similar to the TTestPower function you've been shown previously, but this one also allows for treatment arms of a different size."
   ]
  },
  {
   "cell_type": "code",
   "execution_count": 14,
   "id": "e5df2042",
   "metadata": {},
   "outputs": [
    {
     "data": {
      "text/plain": [
       "0.06429839333874966"
      ]
     },
     "execution_count": 14,
     "metadata": {},
     "output_type": "execute_result"
    }
   ],
   "source": [
    "##  requirements: pingouin-0.5.4\n",
    "from pingouin import power_ttest2n\n",
    "\n",
    "cohens_d = 0.05 #(modify this value as you like)\n",
    "power = power_ttest2n(nx = 100, ny = 100, d = cohens_d, \n",
    "                      alpha = 0.05, alternative = 'two-sided')\n",
    "power"
   ]
  },
  {
   "cell_type": "markdown",
   "id": "a302fe03",
   "metadata": {},
   "source": [
    "#### 4.c What would the power be instead if the true effect had a cohen's D of .01?"
   ]
  },
  {
   "cell_type": "code",
   "execution_count": null,
   "id": "17ee397c",
   "metadata": {},
   "outputs": [],
   "source": []
  },
  {
   "cell_type": "markdown",
   "id": "8d87a53d",
   "metadata": {},
   "source": [
    "#### 4.d What would the power be instead if the true effect had a cohen's of .01 and the sample was equally split between treatment and control?"
   ]
  },
  {
   "cell_type": "code",
   "execution_count": null,
   "id": "82891f94",
   "metadata": {},
   "outputs": [],
   "source": []
  },
  {
   "cell_type": "markdown",
   "id": "22951e4d",
   "metadata": {},
   "source": [
    "### 5. Case Discussion in Class\n",
    "Please write what you would discuss in your presentation to TaskaBella. Your answer should be one paragraph and the paragraph should be five or fewer sentences. Be prepared to discuss in class. Think about what is the most important thing to say to TaskaBella. \n",
    "No additional analysis is needed to answer this question."
   ]
  },
  {
   "cell_type": "markdown",
   "id": "7b0569e4",
   "metadata": {},
   "source": [
    "### How long did this problem set take you in hours? How did you find the level of difficulty?\n"
   ]
  },
  {
   "cell_type": "markdown",
   "id": "2124b7ee",
   "metadata": {},
   "source": []
  }
 ],
 "metadata": {
  "kernelspec": {
   "display_name": "Python 3 (ipykernel)",
   "language": "python",
   "name": "python3"
  },
  "language_info": {
   "codemirror_mode": {
    "name": "ipython",
    "version": 3
   },
   "file_extension": ".py",
   "mimetype": "text/x-python",
   "name": "python",
   "nbconvert_exporter": "python",
   "pygments_lexer": "ipython3",
   "version": "3.11.4"
  }
 },
 "nbformat": 4,
 "nbformat_minor": 5
}
