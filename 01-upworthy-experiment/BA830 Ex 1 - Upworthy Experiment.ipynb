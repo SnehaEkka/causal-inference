{
 "cells": [
  {
   "cell_type": "markdown",
   "metadata": {},
   "source": [
    "## Business Experimentation and Causal Methods\n",
    "## Assignment 1\n",
    "Your Name Here\n",
    "\n",
    "Due Date: 12:30pm, January 25, 2024"
   ]
  },
  {
   "cell_type": "markdown",
   "metadata": {},
   "source": [
    "This assignment contains two parts. In the first part, your task is to analyze a dataset from a real-world experiment testing different headlines on social media. In the second part, your task will be to answer several questions about an application of the potential outcomes framework.\n",
    "\n",
    "**Before you begin, please make sure to take a look at the notes on Python and the document about using Github Codespaces. Remember to use Slack to ask any questions you may have.**\n",
    "\n",
    "## Part 1: Analyzing a real-world experiment\n",
    "\n",
    "The data for this exercise comes from an experiment conducted by the Upworthy, a company famous for pioneering the use of experiments to find `clickbait' headlines that generate the most user engagement. The dataset contains rows corresponding to impressions (which occur when a user sees the link headline on social media). It also contains data on whether the impression leads to a click.\n",
    "\n",
    "**Variable definitions**\n",
    "\n",
    "headline: The headline shown to the user (string)\n",
    "\n",
    "slug: The url corresponding to the headline (string)\n",
    "\n",
    "clicked: Whether the user clicked on the headline, 1 or 0 (boolean)\n",
    "\n",
    "eyecatcher_id: The id of the image shown with the headline (integer)"
   ]
  },
  {
   "cell_type": "markdown",
   "metadata": {},
   "source": [
    "### Question 1: \n",
    "\n",
    "Please change your name in the header from \"Your Name Here\" to your name. This helps when reading a submission."
   ]
  },
  {
   "cell_type": "markdown",
   "metadata": {},
   "source": [
    "### Question 2: \n",
    "\n",
    "Please run the cell below to load the data. Verify that all of the columns are there by return the first 5 rows of `upworthy_data`."
   ]
  },
  {
   "cell_type": "code",
   "execution_count": 40,
   "metadata": {},
   "outputs": [
    {
     "data": {
      "text/html": [
       "<div>\n",
       "<style scoped>\n",
       "    .dataframe tbody tr th:only-of-type {\n",
       "        vertical-align: middle;\n",
       "    }\n",
       "\n",
       "    .dataframe tbody tr th {\n",
       "        vertical-align: top;\n",
       "    }\n",
       "\n",
       "    .dataframe thead th {\n",
       "        text-align: right;\n",
       "    }\n",
       "</style>\n",
       "<table border=\"1\" class=\"dataframe\">\n",
       "  <thead>\n",
       "    <tr style=\"text-align: right;\">\n",
       "      <th></th>\n",
       "      <th>headline</th>\n",
       "      <th>slug</th>\n",
       "      <th>eyecatcher_id</th>\n",
       "      <th>clicked</th>\n",
       "      <th>slug_legally</th>\n",
       "      <th>random_variable</th>\n",
       "    </tr>\n",
       "  </thead>\n",
       "  <tbody>\n",
       "    <tr>\n",
       "      <th>0</th>\n",
       "      <td>Let’s See … Hire Cops, Pay Teachers, Buy Books...</td>\n",
       "      <td>let-s-see-hire-cops-pay-teachers-buy-books-for...</td>\n",
       "      <td>546dce659ad54ec65b000041</td>\n",
       "      <td>1</td>\n",
       "      <td>0</td>\n",
       "      <td>-6.0</td>\n",
       "    </tr>\n",
       "    <tr>\n",
       "      <th>1</th>\n",
       "      <td>Let’s See … Hire Cops, Pay Teachers, Buy Books...</td>\n",
       "      <td>let-s-see-hire-cops-pay-teachers-buy-books-for...</td>\n",
       "      <td>546dce659ad54ec65b000041</td>\n",
       "      <td>1</td>\n",
       "      <td>0</td>\n",
       "      <td>2.0</td>\n",
       "    </tr>\n",
       "    <tr>\n",
       "      <th>2</th>\n",
       "      <td>Let’s See … Hire Cops, Pay Teachers, Buy Books...</td>\n",
       "      <td>let-s-see-hire-cops-pay-teachers-buy-books-for...</td>\n",
       "      <td>546dce659ad54ec65b000041</td>\n",
       "      <td>1</td>\n",
       "      <td>0</td>\n",
       "      <td>-4.0</td>\n",
       "    </tr>\n",
       "    <tr>\n",
       "      <th>3</th>\n",
       "      <td>Let’s See … Hire Cops, Pay Teachers, Buy Books...</td>\n",
       "      <td>let-s-see-hire-cops-pay-teachers-buy-books-for...</td>\n",
       "      <td>546dce659ad54ec65b000041</td>\n",
       "      <td>1</td>\n",
       "      <td>0</td>\n",
       "      <td>4.0</td>\n",
       "    </tr>\n",
       "    <tr>\n",
       "      <th>4</th>\n",
       "      <td>Let’s See … Hire Cops, Pay Teachers, Buy Books...</td>\n",
       "      <td>let-s-see-hire-cops-pay-teachers-buy-books-for...</td>\n",
       "      <td>546dce659ad54ec65b000041</td>\n",
       "      <td>1</td>\n",
       "      <td>0</td>\n",
       "      <td>-2.0</td>\n",
       "    </tr>\n",
       "    <tr>\n",
       "      <th>...</th>\n",
       "      <td>...</td>\n",
       "      <td>...</td>\n",
       "      <td>...</td>\n",
       "      <td>...</td>\n",
       "      <td>...</td>\n",
       "      <td>...</td>\n",
       "    </tr>\n",
       "    <tr>\n",
       "      <th>18212</th>\n",
       "      <td>I'll Say It: It's Not OK For States To Legally...</td>\n",
       "      <td>ill-say-it-its-not-ok-for-states-to-legally-mu...</td>\n",
       "      <td>546dce659ad54ec65b000041</td>\n",
       "      <td>0</td>\n",
       "      <td>1</td>\n",
       "      <td>-3.0</td>\n",
       "    </tr>\n",
       "    <tr>\n",
       "      <th>18213</th>\n",
       "      <td>I'll Say It: It's Not OK For States To Legally...</td>\n",
       "      <td>ill-say-it-its-not-ok-for-states-to-legally-mu...</td>\n",
       "      <td>546dce659ad54ec65b000041</td>\n",
       "      <td>0</td>\n",
       "      <td>1</td>\n",
       "      <td>3.0</td>\n",
       "    </tr>\n",
       "    <tr>\n",
       "      <th>18214</th>\n",
       "      <td>I'll Say It: It's Not OK For States To Legally...</td>\n",
       "      <td>ill-say-it-its-not-ok-for-states-to-legally-mu...</td>\n",
       "      <td>546dce659ad54ec65b000041</td>\n",
       "      <td>0</td>\n",
       "      <td>1</td>\n",
       "      <td>-1.0</td>\n",
       "    </tr>\n",
       "    <tr>\n",
       "      <th>18215</th>\n",
       "      <td>I'll Say It: It's Not OK For States To Legally...</td>\n",
       "      <td>ill-say-it-its-not-ok-for-states-to-legally-mu...</td>\n",
       "      <td>546dce659ad54ec65b000041</td>\n",
       "      <td>0</td>\n",
       "      <td>1</td>\n",
       "      <td>4.0</td>\n",
       "    </tr>\n",
       "    <tr>\n",
       "      <th>18216</th>\n",
       "      <td>I'll Say It: It's Not OK For States To Legally...</td>\n",
       "      <td>ill-say-it-its-not-ok-for-states-to-legally-mu...</td>\n",
       "      <td>546dce659ad54ec65b000041</td>\n",
       "      <td>0</td>\n",
       "      <td>1</td>\n",
       "      <td>5.0</td>\n",
       "    </tr>\n",
       "  </tbody>\n",
       "</table>\n",
       "<p>18217 rows × 6 columns</p>\n",
       "</div>"
      ],
      "text/plain": [
       "                                                headline  \\\n",
       "0      Let’s See … Hire Cops, Pay Teachers, Buy Books...   \n",
       "1      Let’s See … Hire Cops, Pay Teachers, Buy Books...   \n",
       "2      Let’s See … Hire Cops, Pay Teachers, Buy Books...   \n",
       "3      Let’s See … Hire Cops, Pay Teachers, Buy Books...   \n",
       "4      Let’s See … Hire Cops, Pay Teachers, Buy Books...   \n",
       "...                                                  ...   \n",
       "18212  I'll Say It: It's Not OK For States To Legally...   \n",
       "18213  I'll Say It: It's Not OK For States To Legally...   \n",
       "18214  I'll Say It: It's Not OK For States To Legally...   \n",
       "18215  I'll Say It: It's Not OK For States To Legally...   \n",
       "18216  I'll Say It: It's Not OK For States To Legally...   \n",
       "\n",
       "                                                    slug  \\\n",
       "0      let-s-see-hire-cops-pay-teachers-buy-books-for...   \n",
       "1      let-s-see-hire-cops-pay-teachers-buy-books-for...   \n",
       "2      let-s-see-hire-cops-pay-teachers-buy-books-for...   \n",
       "3      let-s-see-hire-cops-pay-teachers-buy-books-for...   \n",
       "4      let-s-see-hire-cops-pay-teachers-buy-books-for...   \n",
       "...                                                  ...   \n",
       "18212  ill-say-it-its-not-ok-for-states-to-legally-mu...   \n",
       "18213  ill-say-it-its-not-ok-for-states-to-legally-mu...   \n",
       "18214  ill-say-it-its-not-ok-for-states-to-legally-mu...   \n",
       "18215  ill-say-it-its-not-ok-for-states-to-legally-mu...   \n",
       "18216  ill-say-it-its-not-ok-for-states-to-legally-mu...   \n",
       "\n",
       "                  eyecatcher_id  clicked  slug_legally  random_variable  \n",
       "0      546dce659ad54ec65b000041        1             0             -6.0  \n",
       "1      546dce659ad54ec65b000041        1             0              2.0  \n",
       "2      546dce659ad54ec65b000041        1             0             -4.0  \n",
       "3      546dce659ad54ec65b000041        1             0              4.0  \n",
       "4      546dce659ad54ec65b000041        1             0             -2.0  \n",
       "...                         ...      ...           ...              ...  \n",
       "18212  546dce659ad54ec65b000041        0             1             -3.0  \n",
       "18213  546dce659ad54ec65b000041        0             1              3.0  \n",
       "18214  546dce659ad54ec65b000041        0             1             -1.0  \n",
       "18215  546dce659ad54ec65b000041        0             1              4.0  \n",
       "18216  546dce659ad54ec65b000041        0             1              5.0  \n",
       "\n",
       "[18217 rows x 6 columns]"
      ]
     },
     "execution_count": 40,
     "metadata": {},
     "output_type": "execute_result"
    }
   ],
   "source": [
    "import pandas as pd\n",
    "import numpy as np\n",
    "data_upworthy = pd.read_csv('data_upworthy_exp.csv')\n",
    "\n",
    "# Create a new column called 'slug_legally' that takes the value of 1 if the slug contains the word legally, and 0 otherwise.\n",
    "data_upworthy['slug_legally'] = data_upworthy['slug'].str.contains('legally').astype(int)\n",
    "\n",
    "# Generate a random variable. It is meaningless, but it will allow us to see how the data is structured.\n",
    "# This variable takes random values from a normal distribution with mean 0 and standard deviation 5. It is then rounded.\n",
    "# The length of the variable is the same as the length of the data.\n",
    "data_upworthy['random_variable'] =  np.round(np.random.normal(0, 5, len(data_upworthy)))\n",
    "\n",
    "# Look at the data:\n",
    "data_upworthy"
   ]
  },
  {
   "cell_type": "markdown",
   "metadata": {},
   "source": [
    "### Question 3:\n",
    "Find the headline corresponding to row 4203 and create a variable called `this_headline` with the headline. Return the object `this_headline’. By ‘return’ I mean just type ‘this_headline’ into the cell and when it runs it will show you the contents of ‘this_headline’.\n"
   ]
  },
  {
   "cell_type": "code",
   "execution_count": null,
   "metadata": {},
   "outputs": [],
   "source": [
    "# Remember, you can reference rows and columns in a Python dataframe using the .loc method. For example, data.loc[5, 'column_name'] would return the value of 'column_name' for the 5th row of the dataframe.\n",
    "\n",
    "# Your code here.\n"
   ]
  },
  {
   "cell_type": "markdown",
   "metadata": {},
   "source": [
    "### Question 4: \n",
    "Select a subset of the data for which column `clicked` equals 1. This represents the observations where the user clicked on the headline."
   ]
  },
  {
   "cell_type": "code",
   "execution_count": null,
   "metadata": {},
   "outputs": [],
   "source": [
    "# Your code here"
   ]
  },
  {
   "cell_type": "markdown",
   "metadata": {},
   "source": [
    "### Question 5: \n",
    "Use python to calculate the number of unique headlines. You can use the `nunique()` method to do this."
   ]
  },
  {
   "cell_type": "code",
   "execution_count": 11,
   "metadata": {},
   "outputs": [
    {
     "data": {
      "text/plain": [
       "6"
      ]
     },
     "execution_count": 11,
     "metadata": {},
     "output_type": "execute_result"
    }
   ],
   "source": [
    "# Here's an example:\n",
    "data_upworthy['slug'].nunique()\n",
    "# Your code here"
   ]
  },
  {
   "cell_type": "markdown",
   "metadata": {},
   "source": [
    "### Question 6:\n",
    "Calculate the share of impressions that see each headline. You can use the `value_counts()` method to do this."
   ]
  },
  {
   "cell_type": "code",
   "execution_count": 43,
   "metadata": {},
   "outputs": [
    {
     "data": {
      "text/plain": [
       "18217"
      ]
     },
     "execution_count": 43,
     "metadata": {},
     "output_type": "execute_result"
    }
   ],
   "source": [
    "# To get you started, below is some example code that uses the value counts method. You can use this as a starting point for your own code.\n",
    "# This calculates the number of times each value of the random variable occurs in the data.\n",
    "value_random_variables = data_upworthy['random_variable'].value_counts()\n",
    "value_random_variables\n",
    "\n",
    "# This shows the total number of rows in the data.\n",
    "len(data_upworthy)\n",
    "\n",
    "# Your code here\n"
   ]
  },
  {
   "cell_type": "markdown",
   "metadata": {},
   "source": [
    "### Question 7:\n",
    "Calculate the click rate by headline. Which one has the highest?"
   ]
  },
  {
   "cell_type": "code",
   "execution_count": 18,
   "metadata": {},
   "outputs": [
    {
     "data": {
      "text/html": [
       "<div>\n",
       "<style scoped>\n",
       "    .dataframe tbody tr th:only-of-type {\n",
       "        vertical-align: middle;\n",
       "    }\n",
       "\n",
       "    .dataframe tbody tr th {\n",
       "        vertical-align: top;\n",
       "    }\n",
       "\n",
       "    .dataframe thead th {\n",
       "        text-align: right;\n",
       "    }\n",
       "</style>\n",
       "<table border=\"1\" class=\"dataframe\">\n",
       "  <thead>\n",
       "    <tr style=\"text-align: right;\">\n",
       "      <th></th>\n",
       "      <th>slug_legally</th>\n",
       "      <th>click_rate</th>\n",
       "      <th>num_impressions</th>\n",
       "    </tr>\n",
       "  </thead>\n",
       "  <tbody>\n",
       "    <tr>\n",
       "      <th>0</th>\n",
       "      <td>0</td>\n",
       "      <td>0.005245</td>\n",
       "      <td>12203</td>\n",
       "    </tr>\n",
       "    <tr>\n",
       "      <th>1</th>\n",
       "      <td>1</td>\n",
       "      <td>0.006485</td>\n",
       "      <td>6014</td>\n",
       "    </tr>\n",
       "  </tbody>\n",
       "</table>\n",
       "</div>"
      ],
      "text/plain": [
       "   slug_legally  click_rate  num_impressions\n",
       "0             0    0.005245            12203\n",
       "1             1    0.006485             6014"
      ]
     },
     "execution_count": 18,
     "metadata": {},
     "output_type": "execute_result"
    }
   ],
   "source": [
    "# Sample code. This code calculate the mean of clicked by each value of 'slug_legally'\n",
    "data_click_slug = data_upworthy.groupby('slug_legally').agg(click_rate=('clicked', 'mean'), num_impressions=('clicked', 'size')).reset_index()\n",
    "data_click_slug\n",
    "# Your code here:"
   ]
  },
  {
   "cell_type": "markdown",
   "metadata": {},
   "source": [
    "### Question 8:\n",
    "Plot the click rate by headline using the either the `seaborn` library or the `lets-plot` library. \n",
    "\n",
    "The `seaborn` documentation is available [here](https://seaborn.pydata.org/).\n",
    "The `lets-plot` documentation is available [here](https://lets-plot.org/index.html).\n",
    "\n",
    "\n",
    "### Bonus:\n",
    "Make the plot look really good. The few best plots in each class will get extra points."
   ]
  },
  {
   "cell_type": "code",
   "execution_count": 57,
   "metadata": {},
   "outputs": [
    {
     "data": {
      "text/html": [
       "\n",
       "            <div id=\"t3wso2\"></div>\n",
       "            <script type=\"text/javascript\" data-lets-plot-script=\"library\">\n",
       "                if(!window.letsPlotCallQueue) {\n",
       "                    window.letsPlotCallQueue = [];\n",
       "                }; \n",
       "                window.letsPlotCall = function(f) {\n",
       "                    window.letsPlotCallQueue.push(f);\n",
       "                };\n",
       "                (function() {\n",
       "                    var script = document.createElement(\"script\");\n",
       "                    script.type = \"text/javascript\";\n",
       "                    script.src = \"https://cdn.jsdelivr.net/gh/JetBrains/lets-plot@v4.2.0/js-package/distr/lets-plot.min.js\";\n",
       "                    script.onload = function() {\n",
       "                        window.letsPlotCall = function(f) {f();};\n",
       "                        window.letsPlotCallQueue.forEach(function(f) {f();});\n",
       "                        window.letsPlotCallQueue = [];\n",
       "                        \n",
       "                    };\n",
       "                    script.onerror = function(event) {\n",
       "                        window.letsPlotCall = function(f) {};    // noop\n",
       "                        window.letsPlotCallQueue = [];\n",
       "                        var div = document.createElement(\"div\");\n",
       "                        div.style.color = 'darkred';\n",
       "                        div.textContent = 'Error loading Lets-Plot JS';\n",
       "                        document.getElementById(\"t3wso2\").appendChild(div);\n",
       "                    };\n",
       "                    var e = document.getElementById(\"t3wso2\");\n",
       "                    e.appendChild(script);\n",
       "                })()\n",
       "            </script>\n",
       "            "
      ]
     },
     "metadata": {},
     "output_type": "display_data"
    },
    {
     "data": {
      "text/html": [
       "   <div id=\"3GFLDl\"></div>\n",
       "   <script type=\"text/javascript\" data-lets-plot-script=\"plot\">\n",
       "       (function() {\n",
       "           var plotSpec={\n",
       "\"data\":{\n",
       "\"slug_legally\":[0.0,1.0],\n",
       "\"click_rate\":[0.0052446119806604935,0.006484868639840372]\n",
       "},\n",
       "\"mapping\":{\n",
       "\"x\":\"slug_legally\",\n",
       "\"y\":\"click_rate\"\n",
       "},\n",
       "\"data_meta\":{\n",
       "},\n",
       "\"kind\":\"plot\",\n",
       "\"scales\":[{\n",
       "\"aesthetic\":\"fill\",\n",
       "\"discrete\":true\n",
       "}],\n",
       "\"layers\":[{\n",
       "\"geom\":\"bar\",\n",
       "\"stat\":\"identity\",\n",
       "\"mapping\":{\n",
       "},\n",
       "\"data_meta\":{\n",
       "},\n",
       "\"data\":{\n",
       "}\n",
       "}],\n",
       "\"metainfo_list\":[]\n",
       "};\n",
       "           var plotContainer = document.getElementById(\"3GFLDl\");\n",
       "           window.letsPlotCall(function() {{\n",
       "               LetsPlot.buildPlotFromProcessedSpecs(plotSpec, -1, -1, plotContainer);\n",
       "           }});\n",
       "       })();    \n",
       "   </script>"
      ],
      "text/plain": [
       "<lets_plot.plot.core.PlotSpec at 0x1542b34d0>"
      ]
     },
     "execution_count": 57,
     "metadata": {},
     "output_type": "execute_result"
    }
   ],
   "source": [
    "from lets_plot import *\n",
    "LetsPlot.setup_html()\n",
    "\n",
    "# Below is some code to get you started using each package.\n",
    "\n",
    "# Lets-Plot\n",
    "ggplot(data_click_slug, aes(x= 'slug_legally', y = 'click_rate')) + \\\n",
    "    geom_bar(stat = 'identity') + \\\n",
    "    scale_fill_discrete()\n",
    " "
   ]
  },
  {
   "cell_type": "code",
   "execution_count": 56,
   "metadata": {},
   "outputs": [
    {
     "data": {
      "text/plain": [
       "<seaborn.axisgrid.FacetGrid at 0x137337c50>"
      ]
     },
     "execution_count": 56,
     "metadata": {},
     "output_type": "execute_result"
    },
    {
     "data": {
      "image/png": "[encoded data removed]",
      "text/plain": [
       "<Figure size 500x500 with 1 Axes>"
      ]
     },
     "metadata": {},
     "output_type": "display_data"
    }
   ],
   "source": [
    "import matplotlib.ticker as ticker\n",
    "import seaborn as sn\n",
    "\n",
    "# Seaborn\n",
    "g = sn.catplot(data = data_click_slug, kind=\"bar\", x=\"slug_legally\", hue = None, y = \"click_rate\", color = 'blue')\n",
    "g\n"
   ]
  },
  {
   "cell_type": "markdown",
   "metadata": {},
   "source": [
    "## Part 2: Potential Outcomes\n",
    "\n",
    "Suppose Wayfair is interested in ways to increase the conversion rate of its users. Wayfair’s hypothesis is that by providing a question and answer section on each furniture page, they would be able to induce users to buy more furniture. The problem is inspired by this [paper](https://people.bu.edu/zg/publications/reviews-qa.pdf) but you don’t have to read it.\n",
    "\n",
    "\n",
    "Consider the following population of ten users whose sales rates we can measure.\n",
    "\n",
    "| Potential Outcomes (POs) | Revenue if user saw Q&A | Revenue if user did not see Q&A |\n",
    "|-------------------------|-------------------------|---------------------------------|\n",
    "| User 1                  | 1100                    | 1100                            |\n",
    "| User 2                  | 100                     | 600                             |\n",
    "| User 3                  | 500                     | 500                             |\n",
    "| User 4                  | 100                     | 900                             |\n",
    "| User 5                  | 1600                    | 700                             |\n",
    "| User 6                  | 2000                    | 2000                            |\n",
    "| User 7                  | 1200                    | 1200                            |\n",
    "| User 8                  | 700                     | 700                             |\n",
    "| User 9                  | 1100                    | 300                             |\n",
    "| User 10                 | 140                     | 140                             |\n",
    "\n",
    "\n",
    "#### 2.1: What do User 2’s two potential outcomes mean in plain language?\n",
    "\n",
    "#### 2.2: Give the individual true treatment effect (that is, the true “impact” or “causal effect” of Q&A) for each of the ten users. We are thinking of the “Treatment” as seeing the Q&A. \n",
    "_Notes_:\n",
    "- This is only possible because we are working with hypothetical potential outcomes; we could never have this much information with real-world data.\n",
    "- We encourage the use of computing tools on all problems, but please describe your work so that we can determine whether you are using the correct values (e.g.: include code if using Python). This will become more important in future problem sets._\n",
    "\n",
    "\n",
    "#### 2.3: In a single paragraph, tell a story that could explain this distribution of treatment effects. What might cause some users to have different treatment effects than others? \n",
    "\n",
    "\n",
    "#### 2.4: For this population of 10 users, what is the true average treatment effect (ATE) of seeing Q&A?\n",
    "\n",
    "\n",
    "#### 2.5: Suppose that Wayfair implements an experiment in which users are randomly assigned to Treatment and Control groups. Assume that by chance (that is, suppose this is random) the odd-numbered users are assigned to Treatment (Q&A) and the even-numbered users to Control (no Q&A).  What is the estimate of the ATE you would reach under that particular assignment? (Again, please show your work.)  \n",
    "\n",
    "\n",
    "#### 2.6: Please use the function ‘np.quantile’ in Python to calculate the 30th quantile of the treatment effects in the Q&A example.\n",
    "_Note: This question is testing your ability to use the documentation in Python to correctly apply a function._\n",
    "\n",
    "\n",
    "How long did this assignment take you to do (hours)? How hard was it (easy, reasonable, hard, too hard)?  \n"
   ]
  },
  {
   "cell_type": "code",
   "execution_count": 62,
   "metadata": {},
   "outputs": [
    {
     "name": "stdout",
     "output_type": "stream",
     "text": [
      "   person  rev_if_qa  rev_if_noqa\n",
      "0       1       1100         1100\n",
      "1       2        100          600\n",
      "2       3        500          500\n",
      "3       4        100          900\n",
      "4       5       1600          700\n",
      "5       6       2000         2000\n",
      "6       7       1200         1200\n",
      "7       8        700          700\n",
      "8       9       1100          300\n",
      "9      10        140          140\n"
     ]
    }
   ],
   "source": [
    "# This code creates the above table:\n",
    "data = {\n",
    "    'person': [1, 2, 3, 4, 5, 6, 7, 8, 9, 10],\n",
    "    'rev_if_qa': [1100, 100, 500, 100, 1600, 2000, 1200, 700, 1100, 140],\n",
    "    'rev_if_noqa': [1100, 600, 500, 900, 700, 2000, 1200, 700, 300, 140]\n",
    "}\n",
    "\n",
    "df = pd.DataFrame(data)\n",
    "print(df)"
   ]
  },
  {
   "cell_type": "code",
   "execution_count": null,
   "metadata": {},
   "outputs": [],
   "source": [
    "# Please use a combination of code blocks and text blocks to write your answers."
   ]
  }
 ],
 "metadata": {
  "kernelspec": {
   "display_name": "Python 3 (ipykernel)",
   "language": "python",
   "name": "python3"
  },
  "language_info": {
   "codemirror_mode": {
    "name": "ipython",
    "version": 3
   },
   "file_extension": ".py",
   "mimetype": "text/x-python",
   "name": "python",
   "nbconvert_exporter": "python",
   "pygments_lexer": "ipython3",
   "version": "3.8.18"
  }
 },
 "nbformat": 4,
 "nbformat_minor": 2
}
