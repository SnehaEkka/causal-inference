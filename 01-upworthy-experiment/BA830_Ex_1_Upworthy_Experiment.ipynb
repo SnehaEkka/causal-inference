{
  "cells": [
    {
      "cell_type": "markdown",
      "metadata": {
        "id": "PWSMW7xVRVBj"
      },
      "source": [
        "## **Exercise 1: Upworthy Experiment**"
      ]
    },
    {
      "cell_type": "markdown",
      "metadata": {
        "id": "z2XF1VpcRVBl"
      },
      "source": [
        "This exercise contains two parts. In the first part, the task is to analyze a dataset from a real-world experiment testing different headlines on social media. In the second part, the task will be to answer several questions about an application of the potential outcomes framework."
      ]
    },
    {
      "cell_type": "markdown",
      "source": [
        "## Part 1: Analyzing a real-world experiment\n",
        "\n",
        "The data for this exercise comes from an experiment conducted by the Upworthy, a company famous for pioneering the use of experiments to find `clickbait' headlines that generate the most user engagement. The dataset contains rows corresponding to impressions (which occur when a user sees the link headline on social media). It also contains data on whether the impression leads to a click.\n",
        "\n",
        "**Variable definitions**\n",
        "\n",
        "headline: The headline shown to the user (string)\n",
        "\n",
        "slug: The url corresponding to the headline (string)\n",
        "\n",
        "clicked: Whether the user clicked on the headline, 1 or 0 (boolean)\n",
        "\n",
        "eyecatcher_id: The id of the image shown with the headline (integer)"
      ],
      "metadata": {
        "id": "dSBSJl3SRl3J"
      }
    },
    {
      "cell_type": "code",
      "execution_count": null,
      "metadata": {
        "id": "qNXR92XORVBm",
        "outputId": "47eae73d-40b5-4145-ec80-8432f3bd8b17"
      },
      "outputs": [
        {
          "data": {
            "text/html": [
              "<div>\n",
              "<style scoped>\n",
              "    .dataframe tbody tr th:only-of-type {\n",
              "        vertical-align: middle;\n",
              "    }\n",
              "\n",
              "    .dataframe tbody tr th {\n",
              "        vertical-align: top;\n",
              "    }\n",
              "\n",
              "    .dataframe thead th {\n",
              "        text-align: right;\n",
              "    }\n",
              "</style>\n",
              "<table border=\"1\" class=\"dataframe\">\n",
              "  <thead>\n",
              "    <tr style=\"text-align: right;\">\n",
              "      <th></th>\n",
              "      <th>headline</th>\n",
              "      <th>slug</th>\n",
              "      <th>eyecatcher_id</th>\n",
              "      <th>clicked</th>\n",
              "    </tr>\n",
              "  </thead>\n",
              "  <tbody>\n",
              "    <tr>\n",
              "      <th>0</th>\n",
              "      <td>Let’s See … Hire Cops, Pay Teachers, Buy Books...</td>\n",
              "      <td>let-s-see-hire-cops-pay-teachers-buy-books-for...</td>\n",
              "      <td>546dce659ad54ec65b000041</td>\n",
              "      <td>1</td>\n",
              "    </tr>\n",
              "    <tr>\n",
              "      <th>1</th>\n",
              "      <td>Let’s See … Hire Cops, Pay Teachers, Buy Books...</td>\n",
              "      <td>let-s-see-hire-cops-pay-teachers-buy-books-for...</td>\n",
              "      <td>546dce659ad54ec65b000041</td>\n",
              "      <td>1</td>\n",
              "    </tr>\n",
              "    <tr>\n",
              "      <th>2</th>\n",
              "      <td>Let’s See … Hire Cops, Pay Teachers, Buy Books...</td>\n",
              "      <td>let-s-see-hire-cops-pay-teachers-buy-books-for...</td>\n",
              "      <td>546dce659ad54ec65b000041</td>\n",
              "      <td>1</td>\n",
              "    </tr>\n",
              "    <tr>\n",
              "      <th>3</th>\n",
              "      <td>Let’s See … Hire Cops, Pay Teachers, Buy Books...</td>\n",
              "      <td>let-s-see-hire-cops-pay-teachers-buy-books-for...</td>\n",
              "      <td>546dce659ad54ec65b000041</td>\n",
              "      <td>1</td>\n",
              "    </tr>\n",
              "    <tr>\n",
              "      <th>4</th>\n",
              "      <td>Let’s See … Hire Cops, Pay Teachers, Buy Books...</td>\n",
              "      <td>let-s-see-hire-cops-pay-teachers-buy-books-for...</td>\n",
              "      <td>546dce659ad54ec65b000041</td>\n",
              "      <td>1</td>\n",
              "    </tr>\n",
              "  </tbody>\n",
              "</table>\n",
              "</div>"
            ],
            "text/plain": [
              "                                            headline  \\\n",
              "0  Let’s See … Hire Cops, Pay Teachers, Buy Books...   \n",
              "1  Let’s See … Hire Cops, Pay Teachers, Buy Books...   \n",
              "2  Let’s See … Hire Cops, Pay Teachers, Buy Books...   \n",
              "3  Let’s See … Hire Cops, Pay Teachers, Buy Books...   \n",
              "4  Let’s See … Hire Cops, Pay Teachers, Buy Books...   \n",
              "\n",
              "                                                slug  \\\n",
              "0  let-s-see-hire-cops-pay-teachers-buy-books-for...   \n",
              "1  let-s-see-hire-cops-pay-teachers-buy-books-for...   \n",
              "2  let-s-see-hire-cops-pay-teachers-buy-books-for...   \n",
              "3  let-s-see-hire-cops-pay-teachers-buy-books-for...   \n",
              "4  let-s-see-hire-cops-pay-teachers-buy-books-for...   \n",
              "\n",
              "              eyecatcher_id  clicked  \n",
              "0  546dce659ad54ec65b000041        1  \n",
              "1  546dce659ad54ec65b000041        1  \n",
              "2  546dce659ad54ec65b000041        1  \n",
              "3  546dce659ad54ec65b000041        1  \n",
              "4  546dce659ad54ec65b000041        1  "
            ]
          },
          "execution_count": 2,
          "metadata": {},
          "output_type": "execute_result"
        }
      ],
      "source": [
        "import pandas as pd\n",
        "import numpy as np\n",
        "data_upworthy = pd.read_csv('data_upworthy_exp.csv')\n",
        "data_upworthy.head()"
      ]
    },
    {
      "cell_type": "code",
      "execution_count": null,
      "metadata": {
        "id": "Ma301ZgaRVBm",
        "outputId": "9f399e9b-1ca5-465b-e3c4-6c755a54e35e"
      },
      "outputs": [
        {
          "data": {
            "text/html": [
              "<div>\n",
              "<style scoped>\n",
              "    .dataframe tbody tr th:only-of-type {\n",
              "        vertical-align: middle;\n",
              "    }\n",
              "\n",
              "    .dataframe tbody tr th {\n",
              "        vertical-align: top;\n",
              "    }\n",
              "\n",
              "    .dataframe thead th {\n",
              "        text-align: right;\n",
              "    }\n",
              "</style>\n",
              "<table border=\"1\" class=\"dataframe\">\n",
              "  <thead>\n",
              "    <tr style=\"text-align: right;\">\n",
              "      <th></th>\n",
              "      <th>headline</th>\n",
              "      <th>slug</th>\n",
              "      <th>eyecatcher_id</th>\n",
              "      <th>clicked</th>\n",
              "      <th>slug_legally</th>\n",
              "      <th>random_variable</th>\n",
              "    </tr>\n",
              "  </thead>\n",
              "  <tbody>\n",
              "    <tr>\n",
              "      <th>0</th>\n",
              "      <td>Let’s See … Hire Cops, Pay Teachers, Buy Books...</td>\n",
              "      <td>let-s-see-hire-cops-pay-teachers-buy-books-for...</td>\n",
              "      <td>546dce659ad54ec65b000041</td>\n",
              "      <td>1</td>\n",
              "      <td>0</td>\n",
              "      <td>8.0</td>\n",
              "    </tr>\n",
              "    <tr>\n",
              "      <th>1</th>\n",
              "      <td>Let’s See … Hire Cops, Pay Teachers, Buy Books...</td>\n",
              "      <td>let-s-see-hire-cops-pay-teachers-buy-books-for...</td>\n",
              "      <td>546dce659ad54ec65b000041</td>\n",
              "      <td>1</td>\n",
              "      <td>0</td>\n",
              "      <td>-3.0</td>\n",
              "    </tr>\n",
              "    <tr>\n",
              "      <th>2</th>\n",
              "      <td>Let’s See … Hire Cops, Pay Teachers, Buy Books...</td>\n",
              "      <td>let-s-see-hire-cops-pay-teachers-buy-books-for...</td>\n",
              "      <td>546dce659ad54ec65b000041</td>\n",
              "      <td>1</td>\n",
              "      <td>0</td>\n",
              "      <td>-6.0</td>\n",
              "    </tr>\n",
              "    <tr>\n",
              "      <th>3</th>\n",
              "      <td>Let’s See … Hire Cops, Pay Teachers, Buy Books...</td>\n",
              "      <td>let-s-see-hire-cops-pay-teachers-buy-books-for...</td>\n",
              "      <td>546dce659ad54ec65b000041</td>\n",
              "      <td>1</td>\n",
              "      <td>0</td>\n",
              "      <td>6.0</td>\n",
              "    </tr>\n",
              "    <tr>\n",
              "      <th>4</th>\n",
              "      <td>Let’s See … Hire Cops, Pay Teachers, Buy Books...</td>\n",
              "      <td>let-s-see-hire-cops-pay-teachers-buy-books-for...</td>\n",
              "      <td>546dce659ad54ec65b000041</td>\n",
              "      <td>1</td>\n",
              "      <td>0</td>\n",
              "      <td>2.0</td>\n",
              "    </tr>\n",
              "    <tr>\n",
              "      <th>...</th>\n",
              "      <td>...</td>\n",
              "      <td>...</td>\n",
              "      <td>...</td>\n",
              "      <td>...</td>\n",
              "      <td>...</td>\n",
              "      <td>...</td>\n",
              "    </tr>\n",
              "    <tr>\n",
              "      <th>18212</th>\n",
              "      <td>I'll Say It: It's Not OK For States To Legally...</td>\n",
              "      <td>ill-say-it-its-not-ok-for-states-to-legally-mu...</td>\n",
              "      <td>546dce659ad54ec65b000041</td>\n",
              "      <td>0</td>\n",
              "      <td>1</td>\n",
              "      <td>-6.0</td>\n",
              "    </tr>\n",
              "    <tr>\n",
              "      <th>18213</th>\n",
              "      <td>I'll Say It: It's Not OK For States To Legally...</td>\n",
              "      <td>ill-say-it-its-not-ok-for-states-to-legally-mu...</td>\n",
              "      <td>546dce659ad54ec65b000041</td>\n",
              "      <td>0</td>\n",
              "      <td>1</td>\n",
              "      <td>-4.0</td>\n",
              "    </tr>\n",
              "    <tr>\n",
              "      <th>18214</th>\n",
              "      <td>I'll Say It: It's Not OK For States To Legally...</td>\n",
              "      <td>ill-say-it-its-not-ok-for-states-to-legally-mu...</td>\n",
              "      <td>546dce659ad54ec65b000041</td>\n",
              "      <td>0</td>\n",
              "      <td>1</td>\n",
              "      <td>3.0</td>\n",
              "    </tr>\n",
              "    <tr>\n",
              "      <th>18215</th>\n",
              "      <td>I'll Say It: It's Not OK For States To Legally...</td>\n",
              "      <td>ill-say-it-its-not-ok-for-states-to-legally-mu...</td>\n",
              "      <td>546dce659ad54ec65b000041</td>\n",
              "      <td>0</td>\n",
              "      <td>1</td>\n",
              "      <td>2.0</td>\n",
              "    </tr>\n",
              "    <tr>\n",
              "      <th>18216</th>\n",
              "      <td>I'll Say It: It's Not OK For States To Legally...</td>\n",
              "      <td>ill-say-it-its-not-ok-for-states-to-legally-mu...</td>\n",
              "      <td>546dce659ad54ec65b000041</td>\n",
              "      <td>0</td>\n",
              "      <td>1</td>\n",
              "      <td>3.0</td>\n",
              "    </tr>\n",
              "  </tbody>\n",
              "</table>\n",
              "<p>18217 rows × 6 columns</p>\n",
              "</div>"
            ],
            "text/plain": [
              "                                                headline  \\\n",
              "0      Let’s See … Hire Cops, Pay Teachers, Buy Books...   \n",
              "1      Let’s See … Hire Cops, Pay Teachers, Buy Books...   \n",
              "2      Let’s See … Hire Cops, Pay Teachers, Buy Books...   \n",
              "3      Let’s See … Hire Cops, Pay Teachers, Buy Books...   \n",
              "4      Let’s See … Hire Cops, Pay Teachers, Buy Books...   \n",
              "...                                                  ...   \n",
              "18212  I'll Say It: It's Not OK For States To Legally...   \n",
              "18213  I'll Say It: It's Not OK For States To Legally...   \n",
              "18214  I'll Say It: It's Not OK For States To Legally...   \n",
              "18215  I'll Say It: It's Not OK For States To Legally...   \n",
              "18216  I'll Say It: It's Not OK For States To Legally...   \n",
              "\n",
              "                                                    slug  \\\n",
              "0      let-s-see-hire-cops-pay-teachers-buy-books-for...   \n",
              "1      let-s-see-hire-cops-pay-teachers-buy-books-for...   \n",
              "2      let-s-see-hire-cops-pay-teachers-buy-books-for...   \n",
              "3      let-s-see-hire-cops-pay-teachers-buy-books-for...   \n",
              "4      let-s-see-hire-cops-pay-teachers-buy-books-for...   \n",
              "...                                                  ...   \n",
              "18212  ill-say-it-its-not-ok-for-states-to-legally-mu...   \n",
              "18213  ill-say-it-its-not-ok-for-states-to-legally-mu...   \n",
              "18214  ill-say-it-its-not-ok-for-states-to-legally-mu...   \n",
              "18215  ill-say-it-its-not-ok-for-states-to-legally-mu...   \n",
              "18216  ill-say-it-its-not-ok-for-states-to-legally-mu...   \n",
              "\n",
              "                  eyecatcher_id  clicked  slug_legally  random_variable  \n",
              "0      546dce659ad54ec65b000041        1             0              8.0  \n",
              "1      546dce659ad54ec65b000041        1             0             -3.0  \n",
              "2      546dce659ad54ec65b000041        1             0             -6.0  \n",
              "3      546dce659ad54ec65b000041        1             0              6.0  \n",
              "4      546dce659ad54ec65b000041        1             0              2.0  \n",
              "...                         ...      ...           ...              ...  \n",
              "18212  546dce659ad54ec65b000041        0             1             -6.0  \n",
              "18213  546dce659ad54ec65b000041        0             1             -4.0  \n",
              "18214  546dce659ad54ec65b000041        0             1              3.0  \n",
              "18215  546dce659ad54ec65b000041        0             1              2.0  \n",
              "18216  546dce659ad54ec65b000041        0             1              3.0  \n",
              "\n",
              "[18217 rows x 6 columns]"
            ]
          },
          "execution_count": 3,
          "metadata": {},
          "output_type": "execute_result"
        }
      ],
      "source": [
        "import pandas as pd\n",
        "import numpy as np\n",
        "data_upworthy = pd.read_csv('data_upworthy_exp.csv')\n",
        "\n",
        "# Create a new column called 'slug_legally' that takes the value of 1 if the slug contains the word legally, and 0 otherwise.\n",
        "data_upworthy['slug_legally'] = data_upworthy['slug'].str.contains('legally').astype(int)\n",
        "\n",
        "# Generate a random variable. It is meaningless, but it will allow us to see how the data is structured.\n",
        "# This variable takes random values from a normal distribution with mean 0 and standard deviation 5. It is then rounded.\n",
        "# The length of the variable is the same as the length of the data.\n",
        "data_upworthy['random_variable'] =  np.round(np.random.normal(0, 5, len(data_upworthy)))\n",
        "\n",
        "# Look at the data:\n",
        "data_upworthy"
      ]
    },
    {
      "cell_type": "markdown",
      "metadata": {
        "id": "92PCbTPiRVBn"
      },
      "source": [
        "### **Task 1:**\n",
        "Find the headline corresponding to row 4203 and create a variable called `this_headline` with the headline. Return the object `this_headline’. By ‘return’ I mean just type ‘this_headline’ into the cell and when it runs it will show you the contents of ‘this_headline’.\n"
      ]
    },
    {
      "cell_type": "code",
      "execution_count": null,
      "metadata": {
        "id": "JTVeqS1MRVBn",
        "outputId": "cb651420-7818-43d0-c67e-de4c03ca87b3"
      },
      "outputs": [
        {
          "name": "stdout",
          "output_type": "stream",
          "text": [
            "$3 Million Is What It Takes For A State To Legally Kill Someone\n"
          ]
        }
      ],
      "source": [
        "# Remember, you can reference rows and columns in a Python dataframe using the .loc method. For example, data.loc[5, 'column_name'] would return the value of 'column_name' for the 5th row of the dataframe.\n",
        "\n",
        "# Your code here\n",
        "this_headline = data_upworthy.loc[4203, 'headline']\n",
        "print(this_headline)"
      ]
    },
    {
      "cell_type": "markdown",
      "metadata": {
        "id": "QxZQAcaMRVBn"
      },
      "source": [
        "### **Task 2:**\n",
        "Select a subset of the data for which column `clicked` equals 1. This represents the observations where the user clicked on the headline."
      ]
    },
    {
      "cell_type": "code",
      "execution_count": null,
      "metadata": {
        "id": "JH7-x_IRRVBn",
        "outputId": "97b8c88c-fbda-465f-ccd4-97e97e5a54cd"
      },
      "outputs": [
        {
          "data": {
            "text/html": [
              "<div>\n",
              "<style scoped>\n",
              "    .dataframe tbody tr th:only-of-type {\n",
              "        vertical-align: middle;\n",
              "    }\n",
              "\n",
              "    .dataframe tbody tr th {\n",
              "        vertical-align: top;\n",
              "    }\n",
              "\n",
              "    .dataframe thead th {\n",
              "        text-align: right;\n",
              "    }\n",
              "</style>\n",
              "<table border=\"1\" class=\"dataframe\">\n",
              "  <thead>\n",
              "    <tr style=\"text-align: right;\">\n",
              "      <th></th>\n",
              "      <th>headline</th>\n",
              "      <th>slug</th>\n",
              "      <th>eyecatcher_id</th>\n",
              "      <th>clicked</th>\n",
              "      <th>slug_legally</th>\n",
              "      <th>random_variable</th>\n",
              "    </tr>\n",
              "  </thead>\n",
              "  <tbody>\n",
              "    <tr>\n",
              "      <th>0</th>\n",
              "      <td>Let’s See … Hire Cops, Pay Teachers, Buy Books...</td>\n",
              "      <td>let-s-see-hire-cops-pay-teachers-buy-books-for...</td>\n",
              "      <td>546dce659ad54ec65b000041</td>\n",
              "      <td>1</td>\n",
              "      <td>0</td>\n",
              "      <td>8.0</td>\n",
              "    </tr>\n",
              "    <tr>\n",
              "      <th>1</th>\n",
              "      <td>Let’s See … Hire Cops, Pay Teachers, Buy Books...</td>\n",
              "      <td>let-s-see-hire-cops-pay-teachers-buy-books-for...</td>\n",
              "      <td>546dce659ad54ec65b000041</td>\n",
              "      <td>1</td>\n",
              "      <td>0</td>\n",
              "      <td>-3.0</td>\n",
              "    </tr>\n",
              "    <tr>\n",
              "      <th>2</th>\n",
              "      <td>Let’s See … Hire Cops, Pay Teachers, Buy Books...</td>\n",
              "      <td>let-s-see-hire-cops-pay-teachers-buy-books-for...</td>\n",
              "      <td>546dce659ad54ec65b000041</td>\n",
              "      <td>1</td>\n",
              "      <td>0</td>\n",
              "      <td>-6.0</td>\n",
              "    </tr>\n",
              "    <tr>\n",
              "      <th>3</th>\n",
              "      <td>Let’s See … Hire Cops, Pay Teachers, Buy Books...</td>\n",
              "      <td>let-s-see-hire-cops-pay-teachers-buy-books-for...</td>\n",
              "      <td>546dce659ad54ec65b000041</td>\n",
              "      <td>1</td>\n",
              "      <td>0</td>\n",
              "      <td>6.0</td>\n",
              "    </tr>\n",
              "    <tr>\n",
              "      <th>4</th>\n",
              "      <td>Let’s See … Hire Cops, Pay Teachers, Buy Books...</td>\n",
              "      <td>let-s-see-hire-cops-pay-teachers-buy-books-for...</td>\n",
              "      <td>546dce659ad54ec65b000041</td>\n",
              "      <td>1</td>\n",
              "      <td>0</td>\n",
              "      <td>2.0</td>\n",
              "    </tr>\n",
              "    <tr>\n",
              "      <th>...</th>\n",
              "      <td>...</td>\n",
              "      <td>...</td>\n",
              "      <td>...</td>\n",
              "      <td>...</td>\n",
              "      <td>...</td>\n",
              "      <td>...</td>\n",
              "    </tr>\n",
              "    <tr>\n",
              "      <th>15235</th>\n",
              "      <td>I'll Say It: It's Not OK For States To Legally...</td>\n",
              "      <td>ill-say-it-its-not-ok-for-states-to-legally-mu...</td>\n",
              "      <td>546dce659ad54ec65b000041</td>\n",
              "      <td>1</td>\n",
              "      <td>1</td>\n",
              "      <td>0.0</td>\n",
              "    </tr>\n",
              "    <tr>\n",
              "      <th>15236</th>\n",
              "      <td>I'll Say It: It's Not OK For States To Legally...</td>\n",
              "      <td>ill-say-it-its-not-ok-for-states-to-legally-mu...</td>\n",
              "      <td>546dce659ad54ec65b000041</td>\n",
              "      <td>1</td>\n",
              "      <td>1</td>\n",
              "      <td>-8.0</td>\n",
              "    </tr>\n",
              "    <tr>\n",
              "      <th>15237</th>\n",
              "      <td>I'll Say It: It's Not OK For States To Legally...</td>\n",
              "      <td>ill-say-it-its-not-ok-for-states-to-legally-mu...</td>\n",
              "      <td>546dce659ad54ec65b000041</td>\n",
              "      <td>1</td>\n",
              "      <td>1</td>\n",
              "      <td>9.0</td>\n",
              "    </tr>\n",
              "    <tr>\n",
              "      <th>15238</th>\n",
              "      <td>I'll Say It: It's Not OK For States To Legally...</td>\n",
              "      <td>ill-say-it-its-not-ok-for-states-to-legally-mu...</td>\n",
              "      <td>546dce659ad54ec65b000041</td>\n",
              "      <td>1</td>\n",
              "      <td>1</td>\n",
              "      <td>2.0</td>\n",
              "    </tr>\n",
              "    <tr>\n",
              "      <th>15239</th>\n",
              "      <td>I'll Say It: It's Not OK For States To Legally...</td>\n",
              "      <td>ill-say-it-its-not-ok-for-states-to-legally-mu...</td>\n",
              "      <td>546dce659ad54ec65b000041</td>\n",
              "      <td>1</td>\n",
              "      <td>1</td>\n",
              "      <td>6.0</td>\n",
              "    </tr>\n",
              "  </tbody>\n",
              "</table>\n",
              "<p>103 rows × 6 columns</p>\n",
              "</div>"
            ],
            "text/plain": [
              "                                                headline  \\\n",
              "0      Let’s See … Hire Cops, Pay Teachers, Buy Books...   \n",
              "1      Let’s See … Hire Cops, Pay Teachers, Buy Books...   \n",
              "2      Let’s See … Hire Cops, Pay Teachers, Buy Books...   \n",
              "3      Let’s See … Hire Cops, Pay Teachers, Buy Books...   \n",
              "4      Let’s See … Hire Cops, Pay Teachers, Buy Books...   \n",
              "...                                                  ...   \n",
              "15235  I'll Say It: It's Not OK For States To Legally...   \n",
              "15236  I'll Say It: It's Not OK For States To Legally...   \n",
              "15237  I'll Say It: It's Not OK For States To Legally...   \n",
              "15238  I'll Say It: It's Not OK For States To Legally...   \n",
              "15239  I'll Say It: It's Not OK For States To Legally...   \n",
              "\n",
              "                                                    slug  \\\n",
              "0      let-s-see-hire-cops-pay-teachers-buy-books-for...   \n",
              "1      let-s-see-hire-cops-pay-teachers-buy-books-for...   \n",
              "2      let-s-see-hire-cops-pay-teachers-buy-books-for...   \n",
              "3      let-s-see-hire-cops-pay-teachers-buy-books-for...   \n",
              "4      let-s-see-hire-cops-pay-teachers-buy-books-for...   \n",
              "...                                                  ...   \n",
              "15235  ill-say-it-its-not-ok-for-states-to-legally-mu...   \n",
              "15236  ill-say-it-its-not-ok-for-states-to-legally-mu...   \n",
              "15237  ill-say-it-its-not-ok-for-states-to-legally-mu...   \n",
              "15238  ill-say-it-its-not-ok-for-states-to-legally-mu...   \n",
              "15239  ill-say-it-its-not-ok-for-states-to-legally-mu...   \n",
              "\n",
              "                  eyecatcher_id  clicked  slug_legally  random_variable  \n",
              "0      546dce659ad54ec65b000041        1             0              8.0  \n",
              "1      546dce659ad54ec65b000041        1             0             -3.0  \n",
              "2      546dce659ad54ec65b000041        1             0             -6.0  \n",
              "3      546dce659ad54ec65b000041        1             0              6.0  \n",
              "4      546dce659ad54ec65b000041        1             0              2.0  \n",
              "...                         ...      ...           ...              ...  \n",
              "15235  546dce659ad54ec65b000041        1             1              0.0  \n",
              "15236  546dce659ad54ec65b000041        1             1             -8.0  \n",
              "15237  546dce659ad54ec65b000041        1             1              9.0  \n",
              "15238  546dce659ad54ec65b000041        1             1              2.0  \n",
              "15239  546dce659ad54ec65b000041        1             1              6.0  \n",
              "\n",
              "[103 rows x 6 columns]"
            ]
          },
          "execution_count": 5,
          "metadata": {},
          "output_type": "execute_result"
        }
      ],
      "source": [
        "# Your code here\n",
        "data_upworthy_clicked = data_upworthy[data_upworthy['clicked'] == 1]\n",
        "data_upworthy_clicked"
      ]
    },
    {
      "cell_type": "markdown",
      "metadata": {
        "id": "uYdt5uYFRVBn"
      },
      "source": [
        "### **Task 3:**\n",
        "Use python to calculate the number of unique headlines. You can use the `nunique()` method to do this."
      ]
    },
    {
      "cell_type": "code",
      "execution_count": null,
      "metadata": {
        "id": "CC2QGHkHRVBn",
        "outputId": "6621d6f6-9957-4a33-e295-d836354d0f5e"
      },
      "outputs": [
        {
          "name": "stdout",
          "output_type": "stream",
          "text": [
            "No. of unique headlines in the data = 6\n"
          ]
        }
      ],
      "source": [
        "# Here's an example:\n",
        "# data_upworthy['slug'].nunique()\n",
        "\n",
        "# Your code here\n",
        "print('No. of unique headlines in the data =', data_upworthy['headline'].nunique())"
      ]
    },
    {
      "cell_type": "markdown",
      "metadata": {
        "id": "Jvoqu1wjRVBo"
      },
      "source": [
        "### **Task 4:**\n",
        "Calculate the share of impressions that see each headline. You can use the `value_counts()` method to do this."
      ]
    },
    {
      "cell_type": "code",
      "execution_count": null,
      "metadata": {
        "id": "c8qDdIAvRVBo",
        "outputId": "8e3c5ae9-64d7-4ed8-8bfd-94d46f1cd265"
      },
      "outputs": [
        {
          "data": {
            "text/html": [
              "<div>\n",
              "<style scoped>\n",
              "    .dataframe tbody tr th:only-of-type {\n",
              "        vertical-align: middle;\n",
              "    }\n",
              "\n",
              "    .dataframe tbody tr th {\n",
              "        vertical-align: top;\n",
              "    }\n",
              "\n",
              "    .dataframe thead th {\n",
              "        text-align: right;\n",
              "    }\n",
              "</style>\n",
              "<table border=\"1\" class=\"dataframe\">\n",
              "  <thead>\n",
              "    <tr style=\"text-align: right;\">\n",
              "      <th></th>\n",
              "      <th>headline</th>\n",
              "      <th>impressions_cnt</th>\n",
              "      <th>share</th>\n",
              "    </tr>\n",
              "  </thead>\n",
              "  <tbody>\n",
              "    <tr>\n",
              "      <th>0</th>\n",
              "      <td>Let’s See … Hire Cops, Pay Teachers, Buy Books...</td>\n",
              "      <td>3118</td>\n",
              "      <td>17.115881</td>\n",
              "    </tr>\n",
              "    <tr>\n",
              "      <th>1</th>\n",
              "      <td>I Was Already Against The Death Penalty, But N...</td>\n",
              "      <td>3061</td>\n",
              "      <td>16.802986</td>\n",
              "    </tr>\n",
              "    <tr>\n",
              "      <th>2</th>\n",
              "      <td>Reason #351 To End The Death Penalty: It Costs...</td>\n",
              "      <td>3050</td>\n",
              "      <td>16.742603</td>\n",
              "    </tr>\n",
              "    <tr>\n",
              "      <th>3</th>\n",
              "      <td>$3 Million Is What It Takes For A State To Leg...</td>\n",
              "      <td>3017</td>\n",
              "      <td>16.561454</td>\n",
              "    </tr>\n",
              "    <tr>\n",
              "      <th>4</th>\n",
              "      <td>I'll Say It: It's Not OK For States To Legally...</td>\n",
              "      <td>2997</td>\n",
              "      <td>16.451666</td>\n",
              "    </tr>\n",
              "    <tr>\n",
              "      <th>5</th>\n",
              "      <td>The Fact That Sometimes Innocent People Are Ex...</td>\n",
              "      <td>2974</td>\n",
              "      <td>16.325410</td>\n",
              "    </tr>\n",
              "  </tbody>\n",
              "</table>\n",
              "</div>"
            ],
            "text/plain": [
              "                                            headline  impressions_cnt  \\\n",
              "0  Let’s See … Hire Cops, Pay Teachers, Buy Books...             3118   \n",
              "1  I Was Already Against The Death Penalty, But N...             3061   \n",
              "2  Reason #351 To End The Death Penalty: It Costs...             3050   \n",
              "3  $3 Million Is What It Takes For A State To Leg...             3017   \n",
              "4  I'll Say It: It's Not OK For States To Legally...             2997   \n",
              "5  The Fact That Sometimes Innocent People Are Ex...             2974   \n",
              "\n",
              "       share  \n",
              "0  17.115881  \n",
              "1  16.802986  \n",
              "2  16.742603  \n",
              "3  16.561454  \n",
              "4  16.451666  \n",
              "5  16.325410  "
            ]
          },
          "execution_count": 7,
          "metadata": {},
          "output_type": "execute_result"
        }
      ],
      "source": [
        "# To get you started, below is some example code that uses the value counts method. You can use this as a starting point for your own code.\n",
        "# This calculates the number of times each value of the random variable occurs in the data.\n",
        "# value_random_variables = data_upworthy['random_variable'].value_counts()\n",
        "# value_random_variables\n",
        "\n",
        "# This shows the total number of rows in the data\n",
        "total_rows = len(data_upworthy)\n",
        "\n",
        "# Your code here\n",
        "share_of_impressions = pd.DataFrame(data_upworthy['headline'].value_counts()).reset_index()\n",
        "share_of_impressions.rename(columns={'index':'headline', 'headline':'impressions_cnt'}, inplace=True)\n",
        "share_of_impressions['share'] = (share_of_impressions['impressions_cnt'] / total_rows) * 100\n",
        "share_of_impressions"
      ]
    },
    {
      "cell_type": "markdown",
      "metadata": {
        "id": "GYoBPTEFRVBo"
      },
      "source": [
        "### **Task 5:**\n",
        "Calculate the click rate by headline. Which one has the highest?"
      ]
    },
    {
      "cell_type": "code",
      "execution_count": null,
      "metadata": {
        "id": "yuns9WXlRVBo",
        "outputId": "eb152136-51e5-41f0-e357-9f76a79eccf8"
      },
      "outputs": [
        {
          "name": "stdout",
          "output_type": "stream",
          "text": [
            "Headline with highest click rate: The Fact That Sometimes Innocent People Are Executed Is Enough To End The Death Penalty. But This?\n",
            "Click rate: 0.0087\n"
          ]
        }
      ],
      "source": [
        "# Sample code. This code calculate the mean of clicked by each value of 'slug_legally'\n",
        "# data_click_slug = data_upworthy.groupby('slug_legally').agg(click_rate=('clicked', 'mean'), num_impressions=('clicked', 'size')).reset_index()\n",
        "# data_click_slug\n",
        "\n",
        "# Your code here\n",
        "headline_click_rate = data_upworthy.groupby('headline').agg(num_impressions=('clicked', 'size'), num_clicks=('clicked', 'sum')).reset_index()\n",
        "headline_click_rate['click_rate'] = headline_click_rate['num_clicks'] / headline_click_rate['num_impressions']\n",
        "headline_click_rate = headline_click_rate.sort_values(by='click_rate', ascending=False).reset_index(drop=True)\n",
        "\n",
        "print('Headline with highest click rate:', headline_click_rate.loc[0, 'headline'])\n",
        "print(\"Click rate:\", np.round(headline_click_rate.loc[0, 'click_rate'], 4))"
      ]
    },
    {
      "cell_type": "markdown",
      "metadata": {
        "id": "k1wSjgIjRVBo"
      },
      "source": [
        "### **Task 6:**\n",
        "Plot the click rate by headline using the either the `seaborn` library or the `lets-plot` library.\n",
        "\n",
        "The `seaborn` documentation is available [here](https://seaborn.pydata.org/).\n",
        "The `lets-plot` documentation is available [here](https://lets-plot.org/index.html).\n",
        "\n",
        "\n",
        "### Bonus:\n",
        "Make the plot look really good. The few best plots in each class will get extra points."
      ]
    },
    {
      "cell_type": "code",
      "execution_count": null,
      "metadata": {
        "id": "sVnRU_yRRVBo",
        "outputId": "bddc1178-39aa-45f5-f2f7-10f8e135b0f5"
      },
      "outputs": [
        {
          "data": {
            "text/plain": [
              "Text(0, 0.5, 'Headline')"
            ]
          },
          "execution_count": 11,
          "metadata": {},
          "output_type": "execute_result"
        },
        {
          "data": {
            "image/png": "[encoded data removed]",
            "text/plain": [
              "<Figure size 640x480 with 1 Axes>"
            ]
          },
          "metadata": {},
          "output_type": "display_data"
        }
      ],
      "source": [
        "import seaborn as sns\n",
        "\n",
        "plt = sns.barplot(x='click_rate', y='headline', data=headline_click_rate, palette='RdPu', hue='headline', legend=False)\n",
        "\n",
        "plt.set_title('Click Rates for Headlines!', fontdict={'fontsize':15})\n",
        "plt.set_xlabel('Click Rate')\n",
        "plt.set_ylabel('Headline')"
      ]
    },
    {
      "cell_type": "markdown",
      "metadata": {
        "id": "VPWJAFqhRVBo"
      },
      "source": [
        "## Part 2: Potential Outcomes\n",
        "\n",
        "Suppose Wayfair is interested in ways to increase the conversion rate of its users. Wayfair’s hypothesis is that by providing a question and answer section on each furniture page, they would be able to induce users to buy more furniture. The problem is inspired by this [paper](https://people.bu.edu/zg/publications/reviews-qa.pdf) but you don’t have to read it.\n",
        "\n",
        "\n",
        "Consider the following population of ten users whose sales rates we can measure.\n",
        "\n",
        "| Potential Outcomes (POs) | Revenue if user saw Q&A | Revenue if user did not see Q&A |\n",
        "|-------------------------|-------------------------|---------------------------------|\n",
        "| User 1                  | 1100                    | 1100                            |\n",
        "| User 2                  | 100                     | 600                             |\n",
        "| User 3                  | 500                     | 500                             |\n",
        "| User 4                  | 100                     | 900                             |\n",
        "| User 5                  | 1600                    | 700                             |\n",
        "| User 6                  | 2000                    | 2000                            |\n",
        "| User 7                  | 1200                    | 1200                            |\n",
        "| User 8                  | 700                     | 700                             |\n",
        "| User 9                  | 1100                    | 300                             |\n",
        "| User 10                 | 140                     | 140                             |\n",
        "\n",
        "\n",
        "#### 2.1: What do User 2’s two potential outcomes mean in plain language?\n",
        "\n",
        "#### 2.2: Give the individual true treatment effect (that is, the true “impact” or “causal effect” of Q&A) for each of the ten users. We are thinking of the “Treatment” as seeing the Q&A.\n",
        "_Notes_:\n",
        "- This is only possible because we are working with hypothetical potential outcomes; we could never have this much information with real-world data.\n",
        "- We encourage the use of computing tools on all problems, but please describe your work so that we can determine whether you are using the correct values (e.g.: include code if using Python). This will become more important in future problem sets._\n",
        "\n",
        "\n",
        "#### 2.3: In a single paragraph, tell a story that could explain this distribution of treatment effects. What might cause some users to have different treatment effects than others?\n",
        "\n",
        "\n",
        "#### 2.4: For this population of 10 users, what is the true average treatment effect (ATE) of seeing Q&A?\n",
        "\n",
        "\n",
        "#### 2.5: Suppose that Wayfair implements an experiment in which users are randomly assigned to Treatment and Control groups. Assume that by chance (that is, suppose this is random) the odd-numbered users are assigned to Treatment (Q&A) and the even-numbered users to Control (no Q&A).  What is the estimate of the ATE you would reach under that particular assignment? (Again, please show your work.)  \n",
        "\n",
        "\n",
        "#### 2.6: Please use the function ‘np.quantile’ in Python to calculate the 30th quantile of the treatment effects in the Q&A example.\n",
        "_Note: This question is testing your ability to use the documentation in Python to correctly apply a function._\n",
        "\n",
        "\n",
        "How long did this assignment take you to do (hours)? How hard was it (easy, reasonable, hard, too hard)?  \n"
      ]
    },
    {
      "cell_type": "code",
      "execution_count": null,
      "metadata": {
        "id": "XZqXLpRURVBo",
        "outputId": "e6cce69b-8643-48e9-ad95-4adfae336958"
      },
      "outputs": [
        {
          "name": "stdout",
          "output_type": "stream",
          "text": [
            "   person  rev_if_qa  rev_if_noqa\n",
            "0       1       1100         1100\n",
            "1       2        100          600\n",
            "2       3        500          500\n",
            "3       4        100          900\n",
            "4       5       1600          700\n",
            "5       6       2000         2000\n",
            "6       7       1200         1200\n",
            "7       8        700          700\n",
            "8       9       1100          300\n",
            "9      10        140          140\n"
          ]
        }
      ],
      "source": [
        "# This code creates the above table:\n",
        "data = {\n",
        "    'person': [1, 2, 3, 4, 5, 6, 7, 8, 9, 10],\n",
        "    'rev_if_qa': [1100, 100, 500, 100, 1600, 2000, 1200, 700, 1100, 140],\n",
        "    'rev_if_noqa': [1100, 600, 500, 900, 700, 2000, 1200, 700, 300, 140]\n",
        "}\n",
        "\n",
        "df = pd.DataFrame(data)\n",
        "print(df)"
      ]
    },
    {
      "cell_type": "markdown",
      "metadata": {
        "id": "2FWzO9TbRVBo"
      },
      "source": [
        "**Answer 2.1**\n",
        "\n",
        "User 2 spends 100 when given the treatment i.e., offered the Q&A, and spends 600 when not given the treatment. This simply means that User 2 spends much lesser on their furniture purchase when faced with a Q&A as compared to when they're not. The treatment has a negative effect on the amount spent by User 2."
      ]
    },
    {
      "cell_type": "markdown",
      "metadata": {
        "id": "3LY3AAraRVBp"
      },
      "source": [
        "**Answer 2.2**\n",
        "\n",
        "Individual True Treatment Effect"
      ]
    },
    {
      "cell_type": "code",
      "execution_count": null,
      "metadata": {
        "id": "qLtmxKWXRVBp",
        "outputId": "7843fc63-bda9-4130-c270-ce5bd7d4123d"
      },
      "outputs": [
        {
          "name": "stdout",
          "output_type": "stream",
          "text": [
            "   person  rev_if_qa  rev_if_noqa  true_trt_eff\n",
            "0       1       1100         1100             0\n",
            "1       2        100          600          -500\n",
            "2       3        500          500             0\n",
            "3       4        100          900          -800\n",
            "4       5       1600          700           900\n",
            "5       6       2000         2000             0\n",
            "6       7       1200         1200             0\n",
            "7       8        700          700             0\n",
            "8       9       1100          300           800\n",
            "9      10        140          140             0\n"
          ]
        }
      ],
      "source": [
        "df['true_trt_eff'] = df['rev_if_qa'] - df['rev_if_noqa']\n",
        "print(df)"
      ]
    },
    {
      "cell_type": "markdown",
      "metadata": {
        "id": "wIlNS1KIRVBp"
      },
      "source": [
        "**Answer 2.3**\n",
        "\n",
        "From the above distribution of individual treatment effects we see three types of outcomes that emerge. The first category of customers are those that have no effect or simply put, are not affected with the Q&A being offered to them. It probably means that they were very sure about what they wanted to purchase or that they overlooked the Q&A and didn't let it influence their purchase decision. Second, we have customers who had a positive effect on their purchase upon receiving the Q&A indicated by the higher amount spent upon encountering a Q&A section. These customers seem to have been positively influenced into buying more/expensive furniture. Lastly, we have those set of customers who spent a lot lesser after being given the Q&A section. It could either be because the section slowed down their purchase decision which in turn made them change their mind, or because the customers realised they didn't exactly need what they were looking for after having gone through the Q&A."
      ]
    },
    {
      "cell_type": "markdown",
      "metadata": {
        "id": "R9Jmox6xRVBp"
      },
      "source": [
        "**Answer 2.4**\n",
        "\n",
        "True Average Treatment Effect = Average/mean of true individual treatment effects"
      ]
    },
    {
      "cell_type": "code",
      "execution_count": null,
      "metadata": {
        "id": "SKs-VGuTRVBp",
        "outputId": "89d75153-9787-408e-f95b-a0bfd59d6937"
      },
      "outputs": [
        {
          "name": "stdout",
          "output_type": "stream",
          "text": [
            "True average treatment effect (ATE) = 40.0\n"
          ]
        }
      ],
      "source": [
        "ATE = df['true_trt_eff'].mean()\n",
        "print(\"True average treatment effect (ATE) =\", ATE)"
      ]
    },
    {
      "cell_type": "markdown",
      "metadata": {
        "id": "4HZj0795RVBp"
      },
      "source": [
        "The True Average Treatment Effect (ATE) is 40 indicating that, on average, when users were in the Treatment group, they saw a positive revenue change of 40 as compared to when they were in the Control group."
      ]
    },
    {
      "cell_type": "markdown",
      "metadata": {
        "id": "eQJeS19xRVBp"
      },
      "source": [
        "**Answer 2.5**"
      ]
    },
    {
      "cell_type": "code",
      "execution_count": null,
      "metadata": {
        "id": "ag5gsWQoRVBp",
        "outputId": "9fdc44b1-8493-4009-9128-53f459d99ddb"
      },
      "outputs": [
        {
          "name": "stdout",
          "output_type": "stream",
          "text": [
            "   person  rev_if_qa  rev_if_noqa\n",
            "0       1       1100            0\n",
            "1       2          0          600\n",
            "2       3        500            0\n",
            "3       4          0          900\n",
            "4       5       1600            0\n",
            "5       6          0         2000\n",
            "6       7       1200            0\n",
            "7       8          0          700\n",
            "8       9       1100            0\n",
            "9      10          0          140\n"
          ]
        },
        {
          "name": "stderr",
          "output_type": "stream",
          "text": [
            "/tmp/ipykernel_657/2210666917.py:7: SettingWithCopyWarning: \n",
            "A value is trying to be set on a copy of a slice from a DataFrame\n",
            "\n",
            "See the caveats in the documentation: https://pandas.pydata.org/pandas-docs/stable/user_guide/indexing.html#returning-a-view-versus-a-copy\n",
            "  df_new.loc[i, 'rev_if_noqa'] = 0\n",
            "/tmp/ipykernel_657/2210666917.py:5: SettingWithCopyWarning: \n",
            "A value is trying to be set on a copy of a slice from a DataFrame\n",
            "\n",
            "See the caveats in the documentation: https://pandas.pydata.org/pandas-docs/stable/user_guide/indexing.html#returning-a-view-versus-a-copy\n",
            "  df_new.loc[i, 'rev_if_qa'] = 0\n"
          ]
        }
      ],
      "source": [
        "# Modifying the dataset\n",
        "\n",
        "df_new = df[['person','rev_if_qa','rev_if_noqa']]\n",
        "\n",
        "for i in range(len(df_new)):\n",
        "    if df_new.loc[i, 'person'] % 2 == 0:\n",
        "        df_new.loc[i, 'rev_if_qa'] = 0\n",
        "    else:\n",
        "        df_new.loc[i, 'rev_if_noqa'] = 0\n",
        "\n",
        "print(df_new)"
      ]
    },
    {
      "cell_type": "code",
      "execution_count": null,
      "metadata": {
        "id": "mnN1c_1_RVBp",
        "outputId": "6232bee3-69db-4bc4-84b5-d8159f811333"
      },
      "outputs": [
        {
          "name": "stdout",
          "output_type": "stream",
          "text": [
            "Estimated ATE = 232.0\n"
          ]
        }
      ],
      "source": [
        "mean_trt_grp = df_new['rev_if_qa'].sum() / 5\n",
        "mean_ctr_grp = df_new['rev_if_noqa'].sum() / 5\n",
        "\n",
        "print('Estimated ATE =', mean_trt_grp - mean_ctr_grp)"
      ]
    },
    {
      "cell_type": "markdown",
      "metadata": {
        "id": "nwOXnA8nRVBp"
      },
      "source": [
        "In this randomized assignment, the Average Treatment Effect (ATE) is 232. This indicates that, on average, users in the Treatment group saw a revenue change of 232 compared to the Control group. This shows the influence of the Q&A content on user revenue in this particular context."
      ]
    },
    {
      "cell_type": "markdown",
      "metadata": {
        "id": "RZg-CMuQRVBp"
      },
      "source": [
        "**Answer 2.6**"
      ]
    },
    {
      "cell_type": "code",
      "execution_count": null,
      "metadata": {
        "id": "pGxTILhhRVBp",
        "outputId": "1ce580cc-28a0-44da-b999-f19361d3a64f"
      },
      "outputs": [
        {
          "name": "stdout",
          "output_type": "stream",
          "text": [
            "30th Quantile of the treatments effects = 0.0\n"
          ]
        }
      ],
      "source": [
        "quant_30 = np.quantile(df['true_trt_eff'], 0.3, axis=0)\n",
        "print('30th Quantile of the treatments effects =', quant_30)"
      ]
    },
    {
      "cell_type": "markdown",
      "metadata": {
        "id": "Sshr0iImRVBq"
      },
      "source": [
        "A 30th quantile of 0.0 means that 30% of the treatment effects less than or equal to 0, indicating that a 30% of the users did not experience a positive impact on revenue due to the Q&A section, and their treatment effects were zero or negative."
      ]
    },
    {
      "cell_type": "code",
      "execution_count": null,
      "metadata": {
        "id": "uekFqY4URVBq"
      },
      "outputs": [],
      "source": []
    }
  ],
  "metadata": {
    "kernelspec": {
      "display_name": "Python 3 (ipykernel)",
      "language": "python",
      "name": "python3"
    },
    "language_info": {
      "codemirror_mode": {
        "name": "ipython",
        "version": 3
      },
      "file_extension": ".py",
      "mimetype": "text/x-python",
      "name": "python",
      "nbconvert_exporter": "python",
      "pygments_lexer": "ipython3",
      "version": "3.11.4"
    },
    "colab": {
      "provenance": []
    }
  },
  "nbformat": 4,
  "nbformat_minor": 0
}