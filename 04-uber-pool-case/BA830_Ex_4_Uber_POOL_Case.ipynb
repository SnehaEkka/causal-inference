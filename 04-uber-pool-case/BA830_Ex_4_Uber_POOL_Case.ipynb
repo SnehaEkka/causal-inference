{
  "cells": [
    {
      "cell_type": "markdown",
      "source": [
        "## **Exercise 3: Uber POOL Case**"
      ],
      "metadata": {
        "id": "Vpe1VeFrhoD1"
      }
    },
    {
      "cell_type": "markdown",
      "metadata": {
        "id": "2ytxaMBwhL2S"
      },
      "source": [
        "### 1. Based on the HBS Case Study, what is the difference between Uber POOL and Express POOL?"
      ]
    },
    {
      "cell_type": "markdown",
      "metadata": {
        "id": "b3FkhdZWhL2T"
      },
      "source": [
        "**Answer 1**\n",
        "\n",
        "Uber POOL offers a discounted fare to riders willing to carpool with other passengers, a door-to-door pick-up and drop-off service, with no walking around required. Express POOL, on the other hand, offered a reduced price to riders willing to carpool, walk a short distance, to/from their pick-up and drop-off points, and wait for two minutes before being matched to a driver."
      ]
    },
    {
      "cell_type": "markdown",
      "metadata": {
        "id": "qgvHH0FXhL2T"
      },
      "source": [
        "### 2. How did Uber use surveys in designing Uber Express Pool?\n"
      ]
    },
    {
      "cell_type": "markdown",
      "metadata": {
        "id": "oTNdKTWDhL2T"
      },
      "source": [
        "**Answer 2**\n",
        "\n",
        "While designing Express Pool, Uber wanted to assess riders' willingness to wait and walk at different price points, for which Uber sent a segment of it's riders a conjoint survey that measured consumers' sensitivity to different variables. As a result of the survey, Uber built a calculator that aimed to predict pricing thersholds based on walking and waiting parameters."
      ]
    },
    {
      "cell_type": "markdown",
      "metadata": {
        "id": "kA0vvLEwhL2T"
      },
      "source": [
        "### 3. Suppose Uber was considering a new algorithm to recommend ride destinations in the app. Which type of research strategy should they use (A/B Test, Switchback, Synthetic Control)?\n"
      ]
    },
    {
      "cell_type": "markdown",
      "metadata": {
        "id": "swtJjzk3hL2U"
      },
      "source": [
        "**Answer 3**\n",
        "\n",
        "Uber should use an A/B Test research strategy to evaluate the effectiveness of the new algorithm for recommending ride destinations in the app. This method would allow them to compare the performance of the new algorithm against the existing one by randomly assigning riders to either the control group (existing algorithm) or the treatment group (new algorithm) and measuring key metrics such as user satisfaction or ride completion rates."
      ]
    },
    {
      "cell_type": "markdown",
      "metadata": {
        "id": "ncLMPLpUhL2U"
      },
      "source": [
        "### 4. Create two new columns in the dataset that represent the total number of trips for both pool products and the profit from these products.\n"
      ]
    },
    {
      "cell_type": "code",
      "execution_count": null,
      "metadata": {
        "id": "PsM3wkGChL2U",
        "outputId": "a9ccbec6-7d30-48db-e918-4d3a9b258329"
      },
      "outputs": [
        {
          "data": {
            "text/html": [
              "<div>\n",
              "<style scoped>\n",
              "    .dataframe tbody tr th:only-of-type {\n",
              "        vertical-align: middle;\n",
              "    }\n",
              "\n",
              "    .dataframe tbody tr th {\n",
              "        vertical-align: top;\n",
              "    }\n",
              "\n",
              "    .dataframe thead th {\n",
              "        text-align: right;\n",
              "    }\n",
              "</style>\n",
              "<table border=\"1\" class=\"dataframe\">\n",
              "  <thead>\n",
              "    <tr style=\"text-align: right;\">\n",
              "      <th></th>\n",
              "      <th>city_id</th>\n",
              "      <th>period_start</th>\n",
              "      <th>wait_time</th>\n",
              "      <th>treat</th>\n",
              "      <th>commute</th>\n",
              "      <th>trips_pool</th>\n",
              "      <th>trips_express_pool</th>\n",
              "      <th>rider_cancellations</th>\n",
              "      <th>total_driver_payout_sr</th>\n",
              "      <th>total_matches_sr</th>\n",
              "      <th>total_double_matches_sr</th>\n",
              "      <th>revenue</th>\n",
              "    </tr>\n",
              "  </thead>\n",
              "  <tbody>\n",
              "    <tr>\n",
              "      <th>0</th>\n",
              "      <td>Boston</td>\n",
              "      <td>2/19/18 7:00</td>\n",
              "      <td>2 mins</td>\n",
              "      <td>False</td>\n",
              "      <td>True</td>\n",
              "      <td>1417</td>\n",
              "      <td>3252</td>\n",
              "      <td>256</td>\n",
              "      <td>34459.41163</td>\n",
              "      <td>3365</td>\n",
              "      <td>1479</td>\n",
              "      <td>46041.85585</td>\n",
              "    </tr>\n",
              "    <tr>\n",
              "      <th>1</th>\n",
              "      <td>Boston</td>\n",
              "      <td>2/19/18 9:40</td>\n",
              "      <td>5 mins</td>\n",
              "      <td>True</td>\n",
              "      <td>False</td>\n",
              "      <td>1462</td>\n",
              "      <td>2364</td>\n",
              "      <td>201</td>\n",
              "      <td>29770.34982</td>\n",
              "      <td>2292</td>\n",
              "      <td>1279</td>\n",
              "      <td>32174.38133</td>\n",
              "    </tr>\n",
              "    <tr>\n",
              "      <th>2</th>\n",
              "      <td>Boston</td>\n",
              "      <td>2/19/18 12:20</td>\n",
              "      <td>2 mins</td>\n",
              "      <td>False</td>\n",
              "      <td>False</td>\n",
              "      <td>1360</td>\n",
              "      <td>2189</td>\n",
              "      <td>115</td>\n",
              "      <td>27446.36736</td>\n",
              "      <td>2288</td>\n",
              "      <td>957</td>\n",
              "      <td>31042.59758</td>\n",
              "    </tr>\n",
              "    <tr>\n",
              "      <th>3</th>\n",
              "      <td>Boston</td>\n",
              "      <td>2/19/18 15:00</td>\n",
              "      <td>5 mins</td>\n",
              "      <td>True</td>\n",
              "      <td>True</td>\n",
              "      <td>1977</td>\n",
              "      <td>3580</td>\n",
              "      <td>356</td>\n",
              "      <td>44992.45299</td>\n",
              "      <td>4040</td>\n",
              "      <td>2029</td>\n",
              "      <td>53747.43785</td>\n",
              "    </tr>\n",
              "    <tr>\n",
              "      <th>4</th>\n",
              "      <td>Boston</td>\n",
              "      <td>2/19/18 17:40</td>\n",
              "      <td>2 mins</td>\n",
              "      <td>False</td>\n",
              "      <td>False</td>\n",
              "      <td>1368</td>\n",
              "      <td>2575</td>\n",
              "      <td>187</td>\n",
              "      <td>27582.95530</td>\n",
              "      <td>2193</td>\n",
              "      <td>975</td>\n",
              "      <td>32799.79836</td>\n",
              "    </tr>\n",
              "  </tbody>\n",
              "</table>\n",
              "</div>"
            ],
            "text/plain": [
              "  city_id   period_start wait_time  treat  commute  trips_pool  \\\n",
              "0  Boston   2/19/18 7:00    2 mins  False     True        1417   \n",
              "1  Boston   2/19/18 9:40    5 mins   True    False        1462   \n",
              "2  Boston  2/19/18 12:20    2 mins  False    False        1360   \n",
              "3  Boston  2/19/18 15:00    5 mins   True     True        1977   \n",
              "4  Boston  2/19/18 17:40    2 mins  False    False        1368   \n",
              "\n",
              "   trips_express_pool  rider_cancellations  total_driver_payout_sr  \\\n",
              "0                3252                  256             34459.41163   \n",
              "1                2364                  201             29770.34982   \n",
              "2                2189                  115             27446.36736   \n",
              "3                3580                  356             44992.45299   \n",
              "4                2575                  187             27582.95530   \n",
              "\n",
              "   total_matches_sr  total_double_matches_sr      revenue  \n",
              "0              3365                     1479  46041.85585  \n",
              "1              2292                     1279  32174.38133  \n",
              "2              2288                      957  31042.59758  \n",
              "3              4040                     2029  53747.43785  \n",
              "4              2193                      975  32799.79836  "
            ]
          },
          "execution_count": 1,
          "metadata": {},
          "output_type": "execute_result"
        }
      ],
      "source": [
        "# Loading the data\n",
        "import pandas as pd\n",
        "\n",
        "path = '/workspaces/assignment-4-SnehaEkka/wait_time_switchback_3.csv'\n",
        "data = pd.read_csv(path)\n",
        "data.head()"
      ]
    },
    {
      "cell_type": "code",
      "execution_count": null,
      "metadata": {
        "id": "wmLzwxYLhL2U",
        "outputId": "0b82cbd2-dbb5-4988-a0bd-27dc02bc3650"
      },
      "outputs": [
        {
          "data": {
            "text/html": [
              "<div>\n",
              "<style scoped>\n",
              "    .dataframe tbody tr th:only-of-type {\n",
              "        vertical-align: middle;\n",
              "    }\n",
              "\n",
              "    .dataframe tbody tr th {\n",
              "        vertical-align: top;\n",
              "    }\n",
              "\n",
              "    .dataframe thead th {\n",
              "        text-align: right;\n",
              "    }\n",
              "</style>\n",
              "<table border=\"1\" class=\"dataframe\">\n",
              "  <thead>\n",
              "    <tr style=\"text-align: right;\">\n",
              "      <th></th>\n",
              "      <th>city_id</th>\n",
              "      <th>period_start</th>\n",
              "      <th>wait_time</th>\n",
              "      <th>treat</th>\n",
              "      <th>commute</th>\n",
              "      <th>trips_pool</th>\n",
              "      <th>trips_express_pool</th>\n",
              "      <th>rider_cancellations</th>\n",
              "      <th>total_driver_payout_sr</th>\n",
              "      <th>total_matches_sr</th>\n",
              "      <th>total_double_matches_sr</th>\n",
              "      <th>revenue</th>\n",
              "      <th>total_trips</th>\n",
              "      <th>profit</th>\n",
              "    </tr>\n",
              "  </thead>\n",
              "  <tbody>\n",
              "    <tr>\n",
              "      <th>0</th>\n",
              "      <td>Boston</td>\n",
              "      <td>2/19/18 7:00</td>\n",
              "      <td>2 mins</td>\n",
              "      <td>False</td>\n",
              "      <td>True</td>\n",
              "      <td>1417</td>\n",
              "      <td>3252</td>\n",
              "      <td>256</td>\n",
              "      <td>34459.41163</td>\n",
              "      <td>3365</td>\n",
              "      <td>1479</td>\n",
              "      <td>46041.85585</td>\n",
              "      <td>4669</td>\n",
              "      <td>11582.44422</td>\n",
              "    </tr>\n",
              "    <tr>\n",
              "      <th>1</th>\n",
              "      <td>Boston</td>\n",
              "      <td>2/19/18 9:40</td>\n",
              "      <td>5 mins</td>\n",
              "      <td>True</td>\n",
              "      <td>False</td>\n",
              "      <td>1462</td>\n",
              "      <td>2364</td>\n",
              "      <td>201</td>\n",
              "      <td>29770.34982</td>\n",
              "      <td>2292</td>\n",
              "      <td>1279</td>\n",
              "      <td>32174.38133</td>\n",
              "      <td>3826</td>\n",
              "      <td>2404.03151</td>\n",
              "    </tr>\n",
              "    <tr>\n",
              "      <th>2</th>\n",
              "      <td>Boston</td>\n",
              "      <td>2/19/18 12:20</td>\n",
              "      <td>2 mins</td>\n",
              "      <td>False</td>\n",
              "      <td>False</td>\n",
              "      <td>1360</td>\n",
              "      <td>2189</td>\n",
              "      <td>115</td>\n",
              "      <td>27446.36736</td>\n",
              "      <td>2288</td>\n",
              "      <td>957</td>\n",
              "      <td>31042.59758</td>\n",
              "      <td>3549</td>\n",
              "      <td>3596.23022</td>\n",
              "    </tr>\n",
              "    <tr>\n",
              "      <th>3</th>\n",
              "      <td>Boston</td>\n",
              "      <td>2/19/18 15:00</td>\n",
              "      <td>5 mins</td>\n",
              "      <td>True</td>\n",
              "      <td>True</td>\n",
              "      <td>1977</td>\n",
              "      <td>3580</td>\n",
              "      <td>356</td>\n",
              "      <td>44992.45299</td>\n",
              "      <td>4040</td>\n",
              "      <td>2029</td>\n",
              "      <td>53747.43785</td>\n",
              "      <td>5557</td>\n",
              "      <td>8754.98486</td>\n",
              "    </tr>\n",
              "    <tr>\n",
              "      <th>4</th>\n",
              "      <td>Boston</td>\n",
              "      <td>2/19/18 17:40</td>\n",
              "      <td>2 mins</td>\n",
              "      <td>False</td>\n",
              "      <td>False</td>\n",
              "      <td>1368</td>\n",
              "      <td>2575</td>\n",
              "      <td>187</td>\n",
              "      <td>27582.95530</td>\n",
              "      <td>2193</td>\n",
              "      <td>975</td>\n",
              "      <td>32799.79836</td>\n",
              "      <td>3943</td>\n",
              "      <td>5216.84306</td>\n",
              "    </tr>\n",
              "  </tbody>\n",
              "</table>\n",
              "</div>"
            ],
            "text/plain": [
              "  city_id   period_start wait_time  treat  commute  trips_pool  \\\n",
              "0  Boston   2/19/18 7:00    2 mins  False     True        1417   \n",
              "1  Boston   2/19/18 9:40    5 mins   True    False        1462   \n",
              "2  Boston  2/19/18 12:20    2 mins  False    False        1360   \n",
              "3  Boston  2/19/18 15:00    5 mins   True     True        1977   \n",
              "4  Boston  2/19/18 17:40    2 mins  False    False        1368   \n",
              "\n",
              "   trips_express_pool  rider_cancellations  total_driver_payout_sr  \\\n",
              "0                3252                  256             34459.41163   \n",
              "1                2364                  201             29770.34982   \n",
              "2                2189                  115             27446.36736   \n",
              "3                3580                  356             44992.45299   \n",
              "4                2575                  187             27582.95530   \n",
              "\n",
              "   total_matches_sr  total_double_matches_sr      revenue  total_trips  \\\n",
              "0              3365                     1479  46041.85585         4669   \n",
              "1              2292                     1279  32174.38133         3826   \n",
              "2              2288                      957  31042.59758         3549   \n",
              "3              4040                     2029  53747.43785         5557   \n",
              "4              2193                      975  32799.79836         3943   \n",
              "\n",
              "        profit  \n",
              "0  11582.44422  \n",
              "1   2404.03151  \n",
              "2   3596.23022  \n",
              "3   8754.98486  \n",
              "4   5216.84306  "
            ]
          },
          "execution_count": 2,
          "metadata": {},
          "output_type": "execute_result"
        }
      ],
      "source": [
        "# Creating 2 new columns\n",
        "data['total_trips'] = data['trips_pool'] + data['trips_express_pool']\n",
        "data['profit'] = data['revenue'] - data['total_driver_payout_sr']\n",
        "data.head()"
      ]
    },
    {
      "cell_type": "markdown",
      "metadata": {
        "id": "EmBcyNGDhL2V"
      },
      "source": [
        "###  5. Plot the average number of trips as a function of the time of the day. Describe a reason why this pattern exists.\n"
      ]
    },
    {
      "cell_type": "code",
      "execution_count": null,
      "metadata": {
        "id": "1WBBsT4xhL2V",
        "outputId": "3b443924-dfd6-4ba3-dfbc-821adfbf1785"
      },
      "outputs": [
        {
          "data": {
            "text/plain": [
              "dtype('O')"
            ]
          },
          "execution_count": 3,
          "metadata": {},
          "output_type": "execute_result"
        }
      ],
      "source": [
        "data['period_start'].dtype"
      ]
    },
    {
      "cell_type": "code",
      "execution_count": null,
      "metadata": {
        "id": "xWJGkCvbhL2V",
        "outputId": "3722a2ec-2d58-49b9-be2b-0e03a5ee5aad"
      },
      "outputs": [
        {
          "data": {
            "text/html": [
              "<div>\n",
              "<style scoped>\n",
              "    .dataframe tbody tr th:only-of-type {\n",
              "        vertical-align: middle;\n",
              "    }\n",
              "\n",
              "    .dataframe tbody tr th {\n",
              "        vertical-align: top;\n",
              "    }\n",
              "\n",
              "    .dataframe thead th {\n",
              "        text-align: right;\n",
              "    }\n",
              "</style>\n",
              "<table border=\"1\" class=\"dataframe\">\n",
              "  <thead>\n",
              "    <tr style=\"text-align: right;\">\n",
              "      <th></th>\n",
              "      <th>city_id</th>\n",
              "      <th>period_start</th>\n",
              "      <th>wait_time</th>\n",
              "      <th>treat</th>\n",
              "      <th>commute</th>\n",
              "      <th>trips_pool</th>\n",
              "      <th>trips_express_pool</th>\n",
              "      <th>rider_cancellations</th>\n",
              "      <th>total_driver_payout_sr</th>\n",
              "      <th>total_matches_sr</th>\n",
              "      <th>total_double_matches_sr</th>\n",
              "      <th>revenue</th>\n",
              "      <th>total_trips</th>\n",
              "      <th>profit</th>\n",
              "      <th>hour_of_day</th>\n",
              "      <th>time_of_day</th>\n",
              "    </tr>\n",
              "  </thead>\n",
              "  <tbody>\n",
              "    <tr>\n",
              "      <th>0</th>\n",
              "      <td>Boston</td>\n",
              "      <td>2018-02-19 07:00:00</td>\n",
              "      <td>2 mins</td>\n",
              "      <td>False</td>\n",
              "      <td>True</td>\n",
              "      <td>1417</td>\n",
              "      <td>3252</td>\n",
              "      <td>256</td>\n",
              "      <td>34459.41163</td>\n",
              "      <td>3365</td>\n",
              "      <td>1479</td>\n",
              "      <td>46041.85585</td>\n",
              "      <td>4669</td>\n",
              "      <td>11582.44422</td>\n",
              "      <td>7</td>\n",
              "      <td>early morning</td>\n",
              "    </tr>\n",
              "    <tr>\n",
              "      <th>1</th>\n",
              "      <td>Boston</td>\n",
              "      <td>2018-02-19 09:40:00</td>\n",
              "      <td>5 mins</td>\n",
              "      <td>True</td>\n",
              "      <td>False</td>\n",
              "      <td>1462</td>\n",
              "      <td>2364</td>\n",
              "      <td>201</td>\n",
              "      <td>29770.34982</td>\n",
              "      <td>2292</td>\n",
              "      <td>1279</td>\n",
              "      <td>32174.38133</td>\n",
              "      <td>3826</td>\n",
              "      <td>2404.03151</td>\n",
              "      <td>9</td>\n",
              "      <td>morning</td>\n",
              "    </tr>\n",
              "    <tr>\n",
              "      <th>2</th>\n",
              "      <td>Boston</td>\n",
              "      <td>2018-02-19 12:20:00</td>\n",
              "      <td>2 mins</td>\n",
              "      <td>False</td>\n",
              "      <td>False</td>\n",
              "      <td>1360</td>\n",
              "      <td>2189</td>\n",
              "      <td>115</td>\n",
              "      <td>27446.36736</td>\n",
              "      <td>2288</td>\n",
              "      <td>957</td>\n",
              "      <td>31042.59758</td>\n",
              "      <td>3549</td>\n",
              "      <td>3596.23022</td>\n",
              "      <td>12</td>\n",
              "      <td>afternoon</td>\n",
              "    </tr>\n",
              "    <tr>\n",
              "      <th>3</th>\n",
              "      <td>Boston</td>\n",
              "      <td>2018-02-19 15:00:00</td>\n",
              "      <td>5 mins</td>\n",
              "      <td>True</td>\n",
              "      <td>True</td>\n",
              "      <td>1977</td>\n",
              "      <td>3580</td>\n",
              "      <td>356</td>\n",
              "      <td>44992.45299</td>\n",
              "      <td>4040</td>\n",
              "      <td>2029</td>\n",
              "      <td>53747.43785</td>\n",
              "      <td>5557</td>\n",
              "      <td>8754.98486</td>\n",
              "      <td>15</td>\n",
              "      <td>afternoon</td>\n",
              "    </tr>\n",
              "    <tr>\n",
              "      <th>4</th>\n",
              "      <td>Boston</td>\n",
              "      <td>2018-02-19 17:40:00</td>\n",
              "      <td>2 mins</td>\n",
              "      <td>False</td>\n",
              "      <td>False</td>\n",
              "      <td>1368</td>\n",
              "      <td>2575</td>\n",
              "      <td>187</td>\n",
              "      <td>27582.95530</td>\n",
              "      <td>2193</td>\n",
              "      <td>975</td>\n",
              "      <td>32799.79836</td>\n",
              "      <td>3943</td>\n",
              "      <td>5216.84306</td>\n",
              "      <td>17</td>\n",
              "      <td>evening</td>\n",
              "    </tr>\n",
              "  </tbody>\n",
              "</table>\n",
              "</div>"
            ],
            "text/plain": [
              "  city_id        period_start wait_time  treat  commute  trips_pool  \\\n",
              "0  Boston 2018-02-19 07:00:00    2 mins  False     True        1417   \n",
              "1  Boston 2018-02-19 09:40:00    5 mins   True    False        1462   \n",
              "2  Boston 2018-02-19 12:20:00    2 mins  False    False        1360   \n",
              "3  Boston 2018-02-19 15:00:00    5 mins   True     True        1977   \n",
              "4  Boston 2018-02-19 17:40:00    2 mins  False    False        1368   \n",
              "\n",
              "   trips_express_pool  rider_cancellations  total_driver_payout_sr  \\\n",
              "0                3252                  256             34459.41163   \n",
              "1                2364                  201             29770.34982   \n",
              "2                2189                  115             27446.36736   \n",
              "3                3580                  356             44992.45299   \n",
              "4                2575                  187             27582.95530   \n",
              "\n",
              "   total_matches_sr  total_double_matches_sr      revenue  total_trips  \\\n",
              "0              3365                     1479  46041.85585         4669   \n",
              "1              2292                     1279  32174.38133         3826   \n",
              "2              2288                      957  31042.59758         3549   \n",
              "3              4040                     2029  53747.43785         5557   \n",
              "4              2193                      975  32799.79836         3943   \n",
              "\n",
              "        profit  hour_of_day    time_of_day  \n",
              "0  11582.44422            7  early morning  \n",
              "1   2404.03151            9        morning  \n",
              "2   3596.23022           12      afternoon  \n",
              "3   8754.98486           15      afternoon  \n",
              "4   5216.84306           17        evening  "
            ]
          },
          "execution_count": 4,
          "metadata": {},
          "output_type": "execute_result"
        }
      ],
      "source": [
        "# Creating 'hour_of_day' and 'time_of_day' columns\n",
        "data['period_start'] = pd.to_datetime(data['period_start'])\n",
        "\n",
        "# Extract hour of the day\n",
        "data['hour_of_day'] = data['period_start'].dt.hour\n",
        "\n",
        "# Map hour of the day to time categories\n",
        "def categorize_time(hour):\n",
        "    if hour < 8:\n",
        "        return 'early morning'\n",
        "    elif 8 <= hour < 12:\n",
        "        return 'morning'\n",
        "    elif 12 <= hour < 17:\n",
        "        return 'afternoon'\n",
        "    elif 17 <= hour < 21:\n",
        "        return 'evening'\n",
        "    else:\n",
        "        return 'night'\n",
        "\n",
        "# Get time of day\n",
        "data['time_of_day'] = data['hour_of_day'].apply(categorize_time)\n",
        "\n",
        "data.head()"
      ]
    },
    {
      "cell_type": "code",
      "execution_count": null,
      "metadata": {
        "id": "uHtsX-obhL2V",
        "outputId": "76ed3c2a-4020-4e35-8b70-ab348cfba613"
      },
      "outputs": [
        {
          "data": {
            "image/png": "[encoded data removed]",
            "text/plain": [
              "<Figure size 1000x600 with 1 Axes>"
            ]
          },
          "metadata": {},
          "output_type": "display_data"
        }
      ],
      "source": [
        "import numpy as np\n",
        "import matplotlib.pyplot as plt\n",
        "\n",
        "# Aggregate the data by time of the day and calculate the average number of trips\n",
        "avg_trips_by_time = data.groupby('hour_of_day')['total_trips'].mean().reset_index()\n",
        "\n",
        "# Plot the average number of trips as a line plot\n",
        "plt.figure(figsize=(10, 6))\n",
        "plt.plot(avg_trips_by_time['hour_of_day'], avg_trips_by_time['total_trips'],\n",
        "         marker='o', linestyle='-', color='green')\n",
        "plt.xlabel('Time of the Day')\n",
        "plt.ylabel('Average Number of Trips')\n",
        "plt.xticks(np.arange(0, 24, 1))\n",
        "plt.grid(True)\n",
        "plt.show();"
      ]
    },
    {
      "cell_type": "markdown",
      "metadata": {
        "id": "CebmaGK8hL2V"
      },
      "source": [
        "**Answer 5**\n",
        "\n",
        "The average number of trips is highest in the morning (7:00 am) and afternoon (3:00 PM), with a moderate frequency during rush hours 9:00-12:00 AM and 5:00-8:00 PM. This is likely due people making trips for school, work or errands during the morning and evening hours, while they are less likely to travel during the middle of the day or early hours in the morning."
      ]
    },
    {
      "cell_type": "markdown",
      "metadata": {
        "id": "byQPIn63hL2V"
      },
      "source": [
        "###  6. Conduct a regression analysis of the experiment (considering the outcomes: revenue, total_driver_payout_sr, rider_cancellations, total_trips). Make sure to think carefully about the correct regression specification. The regression output should be easy to read, so use ‘etable’ or ‘modelsummary’. What do you learn in words from this regression analysis?\n"
      ]
    },
    {
      "cell_type": "code",
      "execution_count": null,
      "metadata": {
        "id": "jKMpTZAwhL2V",
        "outputId": "31f64793-e46a-4966-9125-678cdcb36df0"
      },
      "outputs": [
        {
          "name": "stdout",
          "output_type": "stream",
          "text": [
            "Regression Results for: revenue\n",
            "                            OLS Regression Results                            \n",
            "==============================================================================\n",
            "Dep. Variable:                revenue   R-squared:                       0.707\n",
            "Model:                            OLS   Adj. R-squared:                  0.702\n",
            "Method:                 Least Squares   F-statistic:                     93.54\n",
            "Date:                Tue, 05 Mar 2024   Prob (F-statistic):           2.01e-25\n",
            "Time:                        16:18:58   Log-Likelihood:                -1217.4\n",
            "No. Observations:                 126   AIC:                             2441.\n",
            "Df Residuals:                     123   BIC:                             2449.\n",
            "Df Model:                           2                                         \n",
            "Covariance Type:                  HC1                                         \n",
            "===================================================================================\n",
            "                      coef    std err          z      P>|z|      [0.025      0.975]\n",
            "-----------------------------------------------------------------------------------\n",
            "Intercept        3.174e+04    468.041     67.812      0.000    3.08e+04    3.27e+04\n",
            "treat[T.True]    -272.1375    685.156     -0.397      0.691   -1615.018    1070.743\n",
            "commute[T.True]  1.615e+04   1180.983     13.678      0.000    1.38e+04    1.85e+04\n",
            "==============================================================================\n",
            "Omnibus:                        2.816   Durbin-Watson:                   1.762\n",
            "Prob(Omnibus):                  0.245   Jarque-Bera (JB):                2.428\n",
            "Skew:                           0.335   Prob(JB):                        0.297\n",
            "Kurtosis:                       3.118   Cond. No.                         3.23\n",
            "==============================================================================\n",
            "\n",
            "Notes:\n",
            "[1] Standard Errors are heteroscedasticity robust (HC1)\n",
            "Regression Results for: total_driver_payout_sr\n",
            "                              OLS Regression Results                              \n",
            "==================================================================================\n",
            "Dep. Variable:     total_driver_payout_sr   R-squared:                       0.603\n",
            "Model:                                OLS   Adj. R-squared:                  0.596\n",
            "Method:                     Least Squares   F-statistic:                     51.67\n",
            "Date:                    Tue, 05 Mar 2024   Prob (F-statistic):           5.14e-17\n",
            "Time:                            16:18:58   Log-Likelihood:                -1204.2\n",
            "No. Observations:                     126   AIC:                             2414.\n",
            "Df Residuals:                         123   BIC:                             2423.\n",
            "Df Model:                               2                                         \n",
            "Covariance Type:                      HC1                                         \n",
            "===================================================================================\n",
            "                      coef    std err          z      P>|z|      [0.025      0.975]\n",
            "-----------------------------------------------------------------------------------\n",
            "Intercept        2.752e+04    428.763     64.178      0.000    2.67e+04    2.84e+04\n",
            "treat[T.True]   -2106.7984    617.065     -3.414      0.001   -3316.223    -897.374\n",
            "commute[T.True]  1.117e+04   1137.303      9.822      0.000    8941.717    1.34e+04\n",
            "==============================================================================\n",
            "Omnibus:                        2.103   Durbin-Watson:                   1.652\n",
            "Prob(Omnibus):                  0.349   Jarque-Bera (JB):                2.153\n",
            "Skew:                           0.288   Prob(JB):                        0.341\n",
            "Kurtosis:                       2.720   Cond. No.                         3.23\n",
            "==============================================================================\n",
            "\n",
            "Notes:\n",
            "[1] Standard Errors are heteroscedasticity robust (HC1)\n",
            "Regression Results for: rider_cancellations\n",
            "                             OLS Regression Results                            \n",
            "===============================================================================\n",
            "Dep. Variable:     rider_cancellations   R-squared:                       0.710\n",
            "Model:                             OLS   Adj. R-squared:                  0.706\n",
            "Method:                  Least Squares   F-statistic:                     107.2\n",
            "Date:                 Tue, 05 Mar 2024   Prob (F-statistic):           1.13e-27\n",
            "Time:                         16:18:58   Log-Likelihood:                -598.60\n",
            "No. Observations:                  126   AIC:                             1203.\n",
            "Df Residuals:                      123   BIC:                             1212.\n",
            "Df Model:                            2                                         \n",
            "Covariance Type:                   HC1                                         \n",
            "===================================================================================\n",
            "                      coef    std err          z      P>|z|      [0.025      0.975]\n",
            "-----------------------------------------------------------------------------------\n",
            "Intercept         146.2381      3.713     39.387      0.000     138.961     153.515\n",
            "treat[T.True]      26.5238      5.047      5.255      0.000      16.631      36.417\n",
            "commute[T.True]   114.3000      9.749     11.724      0.000      95.193     133.407\n",
            "==============================================================================\n",
            "Omnibus:                        1.210   Durbin-Watson:                   1.983\n",
            "Prob(Omnibus):                  0.546   Jarque-Bera (JB):                0.768\n",
            "Skew:                          -0.031   Prob(JB):                        0.681\n",
            "Kurtosis:                       3.377   Cond. No.                         3.23\n",
            "==============================================================================\n",
            "\n",
            "Notes:\n",
            "[1] Standard Errors are heteroscedasticity robust (HC1)\n",
            "Regression Results for: total_trips\n",
            "                            OLS Regression Results                            \n",
            "==============================================================================\n",
            "Dep. Variable:            total_trips   R-squared:                       0.541\n",
            "Model:                            OLS   Adj. R-squared:                  0.534\n",
            "Method:                 Least Squares   F-statistic:                     48.10\n",
            "Date:                Tue, 05 Mar 2024   Prob (F-statistic):           3.70e-16\n",
            "Time:                        16:18:58   Log-Likelihood:                -929.37\n",
            "No. Observations:                 126   AIC:                             1865.\n",
            "Df Residuals:                     123   BIC:                             1873.\n",
            "Df Model:                           2                                         \n",
            "Covariance Type:                  HC1                                         \n",
            "===================================================================================\n",
            "                      coef    std err          z      P>|z|      [0.025      0.975]\n",
            "-----------------------------------------------------------------------------------\n",
            "Intercept        3786.7014     48.598     77.920      0.000    3691.452    3881.951\n",
            "treat[T.True]     -88.3651     69.693     -1.268      0.205    -224.960      48.230\n",
            "commute[T.True]  1141.7811    117.313      9.733      0.000     911.852    1371.710\n",
            "==============================================================================\n",
            "Omnibus:                        2.718   Durbin-Watson:                   1.740\n",
            "Prob(Omnibus):                  0.257   Jarque-Bera (JB):                2.750\n",
            "Skew:                           0.341   Prob(JB):                        0.253\n",
            "Kurtosis:                       2.755   Cond. No.                         3.23\n",
            "==============================================================================\n",
            "\n",
            "Notes:\n",
            "[1] Standard Errors are heteroscedasticity robust (HC1)\n"
          ]
        }
      ],
      "source": [
        "# Outcomes: revenue, total_driver_payout_sr, rider_cancellations, total_trips\n",
        "\n",
        "import statsmodels.formula.api as sm\n",
        "\n",
        "# Creating and fitting the 4 models\n",
        "model1 = sm.ols(formula = f'revenue ~ treat + commute', data=data).fit(cov_type='HC1')\n",
        "model2 = sm.ols(formula = f'total_driver_payout_sr ~ treat + commute', data=data).fit(cov_type='HC1')\n",
        "model3 = sm.ols(formula = f'rider_cancellations ~ treat + commute', data=data).fit(cov_type='HC1')\n",
        "model4 = sm.ols(formula = f'total_trips ~ treat + commute', data=data).fit(cov_type='HC1')\n",
        "\n",
        "# Regression Results\n",
        "print(f\"Regression Results for: revenue\")\n",
        "print(model1.summary())\n",
        "print(f\"Regression Results for: total_driver_payout_sr\")\n",
        "print(model2.summary())\n",
        "print(f\"Regression Results for: rider_cancellations\")\n",
        "print(model3.summary())\n",
        "print(f\"Regression Results for: total_trips\")\n",
        "print(model4.summary())"
      ]
    },
    {
      "cell_type": "markdown",
      "metadata": {
        "id": "Mw_DnT4GhL2W"
      },
      "source": [
        "**Answer 6**\n",
        "\n",
        "The regression analysis reveals that the 5-minute wait-time experiment has mixed effects. It negatively impacts revenue, driver payouts, and total trips, while increasing rider cancellations. Though not statistically significant for revenue and total trips, it significantly reduces driver payouts and boosts rider cancellations. This suggests a potential trade-off between cost efficiency and customer satisfaction, necessitating a careful balance between the two."
      ]
    },
    {
      "cell_type": "markdown",
      "metadata": {
        "id": "GtWUNiZrhL2W"
      },
      "source": [
        "### 7. One of your data scientists suggests that the optimal wait time may differ by whether it’s a commuting period. Test whether the effects of a 5 minute wait period on total trips and cancelations differ by whether it’s a commuting period (the column 'commute'). Which policy works better during commute times?"
      ]
    },
    {
      "cell_type": "code",
      "execution_count": null,
      "metadata": {
        "id": "OjzfEsMQhL2W",
        "outputId": "6bc06819-6ded-44e1-ed01-30fdfbe70c52"
      },
      "outputs": [
        {
          "name": "stdout",
          "output_type": "stream",
          "text": [
            "2 mins    63\n",
            "5 mins    63\n",
            "Name: wait_time, dtype: int64\n"
          ]
        }
      ],
      "source": [
        "# Checking the 'wait_time' column\n",
        "print(data['wait_time'].value_counts())"
      ]
    },
    {
      "cell_type": "code",
      "execution_count": null,
      "metadata": {
        "id": "defGmJMqhL2W",
        "outputId": "6e01cda7-1457-4423-fd10-a2d94ede6570"
      },
      "outputs": [
        {
          "name": "stdout",
          "output_type": "stream",
          "text": [
            "Regression Results for: total_trips\n",
            "                            OLS Regression Results                            \n",
            "==============================================================================\n",
            "Dep. Variable:            total_trips   R-squared:                       0.549\n",
            "Model:                            OLS   Adj. R-squared:                  0.538\n",
            "Method:                 Least Squares   F-statistic:                     34.00\n",
            "Date:                Tue, 05 Mar 2024   Prob (F-statistic):           4.84e-16\n",
            "Time:                        16:19:22   Log-Likelihood:                -928.28\n",
            "No. Observations:                 126   AIC:                             1865.\n",
            "Df Residuals:                     122   BIC:                             1876.\n",
            "Df Model:                           3                                         \n",
            "Covariance Type:                  HC1                                         \n",
            "=======================================================================================================\n",
            "                                          coef    std err          z      P>|z|      [0.025      0.975]\n",
            "-------------------------------------------------------------------------------------------------------\n",
            "Intercept                            3764.6604     49.044     76.761      0.000    3668.536    3860.785\n",
            "wait_time[T.5 mins]                   -44.2830     71.462     -0.620      0.535    -184.346      95.780\n",
            "commute[T.True]                      1280.6396    160.337      7.987      0.000     966.386    1594.894\n",
            "wait_time[T.5 mins]:commute[T.True]  -277.7170    229.483     -1.210      0.226    -727.496     172.062\n",
            "==============================================================================\n",
            "Omnibus:                        3.640   Durbin-Watson:                   1.741\n",
            "Prob(Omnibus):                  0.162   Jarque-Bera (JB):                3.473\n",
            "Skew:                           0.347   Prob(JB):                        0.176\n",
            "Kurtosis:                       2.574   Cond. No.                         7.37\n",
            "==============================================================================\n",
            "\n",
            "Notes:\n",
            "[1] Standard Errors are heteroscedasticity robust (HC1)\n"
          ]
        }
      ],
      "source": [
        "# Outcome: Total trips | Regress on wait_time and commute\n",
        "formula = f\"total_trips ~ wait_time*commute\"\n",
        "model = sm.ols(formula=formula, data=data).fit(cov_type='HC1')\n",
        "print(f\"Regression Results for: total_trips\")\n",
        "print(model.summary())"
      ]
    },
    {
      "cell_type": "code",
      "execution_count": null,
      "metadata": {
        "id": "4XXM5g1mhL2W",
        "outputId": "9f68303c-7e09-4f63-e81d-7d065dfc35ce"
      },
      "outputs": [
        {
          "name": "stdout",
          "output_type": "stream",
          "text": [
            "Regression Results for: rider_cancellations\n",
            "                             OLS Regression Results                            \n",
            "===============================================================================\n",
            "Dep. Variable:     rider_cancellations   R-squared:                       0.726\n",
            "Model:                             OLS   Adj. R-squared:                  0.720\n",
            "Method:                  Least Squares   F-statistic:                     112.1\n",
            "Date:                 Tue, 05 Mar 2024   Prob (F-statistic):           6.59e-35\n",
            "Time:                         16:19:43   Log-Likelihood:                -595.02\n",
            "No. Observations:                  126   AIC:                             1198.\n",
            "Df Residuals:                      122   BIC:                             1209.\n",
            "Df Model:                            3                                         \n",
            "Covariance Type:                   HC1                                         \n",
            "=======================================================================================================\n",
            "                                          coef    std err          z      P>|z|      [0.025      0.975]\n",
            "-------------------------------------------------------------------------------------------------------\n",
            "Intercept                             149.0943      3.673     40.591      0.000     141.895     156.293\n",
            "wait_time[T.5 mins]                    20.8113      4.813      4.324      0.000      11.378      30.245\n",
            "commute[T.True]                        96.3057     16.270      5.919      0.000      64.417     128.194\n",
            "wait_time[T.5 mins]:commute[T.True]    35.9887     18.320      1.964      0.049       0.082      71.895\n",
            "==============================================================================\n",
            "Omnibus:                        3.724   Durbin-Watson:                   1.947\n",
            "Prob(Omnibus):                  0.155   Jarque-Bera (JB):                3.357\n",
            "Skew:                           0.260   Prob(JB):                        0.187\n",
            "Kurtosis:                       3.607   Cond. No.                         7.37\n",
            "==============================================================================\n",
            "\n",
            "Notes:\n",
            "[1] Standard Errors are heteroscedasticity robust (HC1)\n"
          ]
        }
      ],
      "source": [
        "# Outcome: Rider cancellations | Regress on wait_time and commute\n",
        "formula = f\"rider_cancellations ~ wait_time*commute\"\n",
        "model = sm.ols(formula=formula, data=data).fit(cov_type='HC1')\n",
        "print(f\"Regression Results for: rider_cancellations\")\n",
        "print(model.summary())"
      ]
    },
    {
      "cell_type": "markdown",
      "metadata": {
        "id": "vO8rEa0IhL2W"
      },
      "source": [
        "**Answer 7**\n",
        "\n",
        "- **Total Trips Model:** The interaction of 'wait_time' and 'commute' shows a notable increase in total trips during commute hours. Although there appears to be a slight decrease in trips with the treatment during commutes, it lacks statistical significance.\n",
        "- **Rider Cancellations Model:** The interaction reveals a significant increase in cancellations with a 5-minute wait time during commute hours compared to a 2-minute wait time.\n",
        "\n",
        "These findings suggest that implementing a 2-minute wait-time policy could effectively reduce rider cancellations and enhance customer satisfaction. However, the impact on total trips remains inconclusive, necessitating further investigation to determine the optimal wait-time policy for increasing trip numbers."
      ]
    },
    {
      "cell_type": "code",
      "execution_count": null,
      "metadata": {
        "id": "Nalqm96phL2W"
      },
      "outputs": [],
      "source": []
    }
  ],
  "metadata": {
    "kernelspec": {
      "display_name": "Python 3",
      "language": "python",
      "name": "python3"
    },
    "language_info": {
      "codemirror_mode": {
        "name": "ipython",
        "version": 3
      },
      "file_extension": ".py",
      "mimetype": "text/x-python",
      "name": "python",
      "nbconvert_exporter": "python",
      "pygments_lexer": "ipython3",
      "version": "3.11.4"
    },
    "colab": {
      "provenance": []
    }
  },
  "nbformat": 4,
  "nbformat_minor": 0
}