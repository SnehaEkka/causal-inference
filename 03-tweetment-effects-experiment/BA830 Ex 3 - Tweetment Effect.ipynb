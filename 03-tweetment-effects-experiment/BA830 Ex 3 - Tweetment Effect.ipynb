{
  "cells": [
    {
      "cell_type": "markdown",
      "metadata": {
        "id": "aFpVjcu7m44K"
      },
      "source": [
        "## **Exercise 3: Tweetment Effect**\n",
        "\n",
        "For this exercise, we will use regression to analyze a field experiment conducted on Twitter. This is based on the paper “[Tweetment Effects on the Tweeted: Experimentally Reducing Racist Harassment](https://link.springer.com/article/10.1007%2Fs11109-016-9373-5#Sec25)” by Kevin Munger.\n",
        "\n",
        "Professor Munger identified accounts on Twitter that posted racist tweets. He then randomized these accounts to a control group or one of four possible treatment arms. The accounts in the treatment arms received responses to their racist tweets of the following form:\n",
        "\n",
        "![](https://raw.githubusercontent.com/SnehaEkka/causal-inference/main/03-tweetment-effects-experiment/tweet_image.png \"Tweet\")\n",
        "\n",
        "The four arms differed in the characteristics of the responder, namely number of followers and in their in-group vs out-group status.\n",
        "\n",
        "![](https://raw.githubusercontent.com/SnehaEkka/causal-inference/main/03-tweetment-effects-experiment/treatment_arms.png \"Treatment Arms\")\n",
        "\n",
        "**Varible Definitions**\n",
        "\n",
        "| Variable          | Variable Definitions for tweetment_effect.csv                                                                                                                               |\n",
        "|-------------------|----------------------------------------------------------------------------------------------------------------------------------------------------------------------------|\n",
        "| `treatment_arm`   | There are four treatments (1 - 4) and a control (0).                                                                                                                      |\n",
        "| `any_treatment`   | Did the subject receive any of the treatments? (1 = yes, 0 = no)                                                                                                          |\n",
        "| `anonymity`       | Was the twitter account anonymous? ranged from 2  (most anonymous) to 0 (least anonymous).\" Assume this relates to the racist account. Measured prior to experiment. |\n",
        "| `log.followers`   | Log of the number of followers of the responding account.                                                  |\n",
        "| `racism.scores.pre.2mon` | Measure of how racist the account was in the 2 months before experiment.                                                                                                   |\n",
        "| `racism.scores.post.2mon` | Measure of how racist the account was in the 2 months after experiment.                                                                                                    |\n",
        "| `racism.scores.post.1mon` | Measure of how racist the account was in the 1 month after experiment.                                                                                                     |\n"
      ]
    },
    {
      "cell_type": "code",
      "execution_count": null,
      "metadata": {
        "colab": {
          "base_uri": "https://localhost:8080/",
          "height": 206
        },
        "id": "qSqGiPiNm44M",
        "outputId": "4e5ff98e-9af1-4921-f114-d4b58d221328"
      },
      "outputs": [
        {
          "output_type": "execute_result",
          "data": {
            "text/plain": [
              "   Unnamed:_0 treatment_arm  anonymity  log_followers  racism_scores_pre_2mon  \\\n",
              "0           1             4          1       4.094345                0.000000   \n",
              "1           2             4          2       7.007601                0.048387   \n",
              "2           3             4          2       6.948897                0.016129   \n",
              "3           4             2          2       8.270781                0.032258   \n",
              "4           5             2          1       5.411646                0.016129   \n",
              "\n",
              "   racism_scores_post_2mon  racism_scores_post_1mon  any_treatment  \n",
              "0                 0.225806                 0.451613              1  \n",
              "1                 0.177419                 0.193548              1  \n",
              "2                 0.000000                 0.000000              1  \n",
              "3                 0.225806                 0.129032              1  \n",
              "4                 0.064516                 0.129032              1  "
            ],
            "text/html": [
              "\n",
              "  <div id=\"df-cec6b5a8-6282-45cd-807c-2b48cba9ab71\" class=\"colab-df-container\">\n",
              "    <div>\n",
              "<style scoped>\n",
              "    .dataframe tbody tr th:only-of-type {\n",
              "        vertical-align: middle;\n",
              "    }\n",
              "\n",
              "    .dataframe tbody tr th {\n",
              "        vertical-align: top;\n",
              "    }\n",
              "\n",
              "    .dataframe thead th {\n",
              "        text-align: right;\n",
              "    }\n",
              "</style>\n",
              "<table border=\"1\" class=\"dataframe\">\n",
              "  <thead>\n",
              "    <tr style=\"text-align: right;\">\n",
              "      <th></th>\n",
              "      <th>Unnamed:_0</th>\n",
              "      <th>treatment_arm</th>\n",
              "      <th>anonymity</th>\n",
              "      <th>log_followers</th>\n",
              "      <th>racism_scores_pre_2mon</th>\n",
              "      <th>racism_scores_post_2mon</th>\n",
              "      <th>racism_scores_post_1mon</th>\n",
              "      <th>any_treatment</th>\n",
              "    </tr>\n",
              "  </thead>\n",
              "  <tbody>\n",
              "    <tr>\n",
              "      <th>0</th>\n",
              "      <td>1</td>\n",
              "      <td>4</td>\n",
              "      <td>1</td>\n",
              "      <td>4.094345</td>\n",
              "      <td>0.000000</td>\n",
              "      <td>0.225806</td>\n",
              "      <td>0.451613</td>\n",
              "      <td>1</td>\n",
              "    </tr>\n",
              "    <tr>\n",
              "      <th>1</th>\n",
              "      <td>2</td>\n",
              "      <td>4</td>\n",
              "      <td>2</td>\n",
              "      <td>7.007601</td>\n",
              "      <td>0.048387</td>\n",
              "      <td>0.177419</td>\n",
              "      <td>0.193548</td>\n",
              "      <td>1</td>\n",
              "    </tr>\n",
              "    <tr>\n",
              "      <th>2</th>\n",
              "      <td>3</td>\n",
              "      <td>4</td>\n",
              "      <td>2</td>\n",
              "      <td>6.948897</td>\n",
              "      <td>0.016129</td>\n",
              "      <td>0.000000</td>\n",
              "      <td>0.000000</td>\n",
              "      <td>1</td>\n",
              "    </tr>\n",
              "    <tr>\n",
              "      <th>3</th>\n",
              "      <td>4</td>\n",
              "      <td>2</td>\n",
              "      <td>2</td>\n",
              "      <td>8.270781</td>\n",
              "      <td>0.032258</td>\n",
              "      <td>0.225806</td>\n",
              "      <td>0.129032</td>\n",
              "      <td>1</td>\n",
              "    </tr>\n",
              "    <tr>\n",
              "      <th>4</th>\n",
              "      <td>5</td>\n",
              "      <td>2</td>\n",
              "      <td>1</td>\n",
              "      <td>5.411646</td>\n",
              "      <td>0.016129</td>\n",
              "      <td>0.064516</td>\n",
              "      <td>0.129032</td>\n",
              "      <td>1</td>\n",
              "    </tr>\n",
              "  </tbody>\n",
              "</table>\n",
              "</div>\n",
              "    <div class=\"colab-df-buttons\">\n",
              "\n",
              "  <div class=\"colab-df-container\">\n",
              "    <button class=\"colab-df-convert\" onclick=\"convertToInteractive('df-cec6b5a8-6282-45cd-807c-2b48cba9ab71')\"\n",
              "            title=\"Convert this dataframe to an interactive table.\"\n",
              "            style=\"display:none;\">\n",
              "\n",
              "  <svg xmlns=\"http://www.w3.org/2000/svg\" height=\"24px\" viewBox=\"0 -960 960 960\">\n",
              "    <path d=\"M120-120v-720h720v720H120Zm60-500h600v-160H180v160Zm220 220h160v-160H400v160Zm0 220h160v-160H400v160ZM180-400h160v-160H180v160Zm440 0h160v-160H620v160ZM180-180h160v-160H180v160Zm440 0h160v-160H620v160Z\"/>\n",
              "  </svg>\n",
              "    </button>\n",
              "\n",
              "  <style>\n",
              "    .colab-df-container {\n",
              "      display:flex;\n",
              "      gap: 12px;\n",
              "    }\n",
              "\n",
              "    .colab-df-convert {\n",
              "      background-color: #E8F0FE;\n",
              "      border: none;\n",
              "      border-radius: 50%;\n",
              "      cursor: pointer;\n",
              "      display: none;\n",
              "      fill: #1967D2;\n",
              "      height: 32px;\n",
              "      padding: 0 0 0 0;\n",
              "      width: 32px;\n",
              "    }\n",
              "\n",
              "    .colab-df-convert:hover {\n",
              "      background-color: #E2EBFA;\n",
              "      box-shadow: 0px 1px 2px rgba(60, 64, 67, 0.3), 0px 1px 3px 1px rgba(60, 64, 67, 0.15);\n",
              "      fill: #174EA6;\n",
              "    }\n",
              "\n",
              "    .colab-df-buttons div {\n",
              "      margin-bottom: 4px;\n",
              "    }\n",
              "\n",
              "    [theme=dark] .colab-df-convert {\n",
              "      background-color: #3B4455;\n",
              "      fill: #D2E3FC;\n",
              "    }\n",
              "\n",
              "    [theme=dark] .colab-df-convert:hover {\n",
              "      background-color: #434B5C;\n",
              "      box-shadow: 0px 1px 3px 1px rgba(0, 0, 0, 0.15);\n",
              "      filter: drop-shadow(0px 1px 2px rgba(0, 0, 0, 0.3));\n",
              "      fill: #FFFFFF;\n",
              "    }\n",
              "  </style>\n",
              "\n",
              "    <script>\n",
              "      const buttonEl =\n",
              "        document.querySelector('#df-cec6b5a8-6282-45cd-807c-2b48cba9ab71 button.colab-df-convert');\n",
              "      buttonEl.style.display =\n",
              "        google.colab.kernel.accessAllowed ? 'block' : 'none';\n",
              "\n",
              "      async function convertToInteractive(key) {\n",
              "        const element = document.querySelector('#df-cec6b5a8-6282-45cd-807c-2b48cba9ab71');\n",
              "        const dataTable =\n",
              "          await google.colab.kernel.invokeFunction('convertToInteractive',\n",
              "                                                    [key], {});\n",
              "        if (!dataTable) return;\n",
              "\n",
              "        const docLinkHtml = 'Like what you see? Visit the ' +\n",
              "          '<a target=\"_blank\" href=https://colab.research.google.com/notebooks/data_table.ipynb>data table notebook</a>'\n",
              "          + ' to learn more about interactive tables.';\n",
              "        element.innerHTML = '';\n",
              "        dataTable['output_type'] = 'display_data';\n",
              "        await google.colab.output.renderOutput(dataTable, element);\n",
              "        const docLink = document.createElement('div');\n",
              "        docLink.innerHTML = docLinkHtml;\n",
              "        element.appendChild(docLink);\n",
              "      }\n",
              "    </script>\n",
              "  </div>\n",
              "\n",
              "\n",
              "<div id=\"df-4868a558-811e-4cce-b756-17933d82b01e\">\n",
              "  <button class=\"colab-df-quickchart\" onclick=\"quickchart('df-4868a558-811e-4cce-b756-17933d82b01e')\"\n",
              "            title=\"Suggest charts\"\n",
              "            style=\"display:none;\">\n",
              "\n",
              "<svg xmlns=\"http://www.w3.org/2000/svg\" height=\"24px\"viewBox=\"0 0 24 24\"\n",
              "     width=\"24px\">\n",
              "    <g>\n",
              "        <path d=\"M19 3H5c-1.1 0-2 .9-2 2v14c0 1.1.9 2 2 2h14c1.1 0 2-.9 2-2V5c0-1.1-.9-2-2-2zM9 17H7v-7h2v7zm4 0h-2V7h2v10zm4 0h-2v-4h2v4z\"/>\n",
              "    </g>\n",
              "</svg>\n",
              "  </button>\n",
              "\n",
              "<style>\n",
              "  .colab-df-quickchart {\n",
              "      --bg-color: #E8F0FE;\n",
              "      --fill-color: #1967D2;\n",
              "      --hover-bg-color: #E2EBFA;\n",
              "      --hover-fill-color: #174EA6;\n",
              "      --disabled-fill-color: #AAA;\n",
              "      --disabled-bg-color: #DDD;\n",
              "  }\n",
              "\n",
              "  [theme=dark] .colab-df-quickchart {\n",
              "      --bg-color: #3B4455;\n",
              "      --fill-color: #D2E3FC;\n",
              "      --hover-bg-color: #434B5C;\n",
              "      --hover-fill-color: #FFFFFF;\n",
              "      --disabled-bg-color: #3B4455;\n",
              "      --disabled-fill-color: #666;\n",
              "  }\n",
              "\n",
              "  .colab-df-quickchart {\n",
              "    background-color: var(--bg-color);\n",
              "    border: none;\n",
              "    border-radius: 50%;\n",
              "    cursor: pointer;\n",
              "    display: none;\n",
              "    fill: var(--fill-color);\n",
              "    height: 32px;\n",
              "    padding: 0;\n",
              "    width: 32px;\n",
              "  }\n",
              "\n",
              "  .colab-df-quickchart:hover {\n",
              "    background-color: var(--hover-bg-color);\n",
              "    box-shadow: 0 1px 2px rgba(60, 64, 67, 0.3), 0 1px 3px 1px rgba(60, 64, 67, 0.15);\n",
              "    fill: var(--button-hover-fill-color);\n",
              "  }\n",
              "\n",
              "  .colab-df-quickchart-complete:disabled,\n",
              "  .colab-df-quickchart-complete:disabled:hover {\n",
              "    background-color: var(--disabled-bg-color);\n",
              "    fill: var(--disabled-fill-color);\n",
              "    box-shadow: none;\n",
              "  }\n",
              "\n",
              "  .colab-df-spinner {\n",
              "    border: 2px solid var(--fill-color);\n",
              "    border-color: transparent;\n",
              "    border-bottom-color: var(--fill-color);\n",
              "    animation:\n",
              "      spin 1s steps(1) infinite;\n",
              "  }\n",
              "\n",
              "  @keyframes spin {\n",
              "    0% {\n",
              "      border-color: transparent;\n",
              "      border-bottom-color: var(--fill-color);\n",
              "      border-left-color: var(--fill-color);\n",
              "    }\n",
              "    20% {\n",
              "      border-color: transparent;\n",
              "      border-left-color: var(--fill-color);\n",
              "      border-top-color: var(--fill-color);\n",
              "    }\n",
              "    30% {\n",
              "      border-color: transparent;\n",
              "      border-left-color: var(--fill-color);\n",
              "      border-top-color: var(--fill-color);\n",
              "      border-right-color: var(--fill-color);\n",
              "    }\n",
              "    40% {\n",
              "      border-color: transparent;\n",
              "      border-right-color: var(--fill-color);\n",
              "      border-top-color: var(--fill-color);\n",
              "    }\n",
              "    60% {\n",
              "      border-color: transparent;\n",
              "      border-right-color: var(--fill-color);\n",
              "    }\n",
              "    80% {\n",
              "      border-color: transparent;\n",
              "      border-right-color: var(--fill-color);\n",
              "      border-bottom-color: var(--fill-color);\n",
              "    }\n",
              "    90% {\n",
              "      border-color: transparent;\n",
              "      border-bottom-color: var(--fill-color);\n",
              "    }\n",
              "  }\n",
              "</style>\n",
              "\n",
              "  <script>\n",
              "    async function quickchart(key) {\n",
              "      const quickchartButtonEl =\n",
              "        document.querySelector('#' + key + ' button');\n",
              "      quickchartButtonEl.disabled = true;  // To prevent multiple clicks.\n",
              "      quickchartButtonEl.classList.add('colab-df-spinner');\n",
              "      try {\n",
              "        const charts = await google.colab.kernel.invokeFunction(\n",
              "            'suggestCharts', [key], {});\n",
              "      } catch (error) {\n",
              "        console.error('Error during call to suggestCharts:', error);\n",
              "      }\n",
              "      quickchartButtonEl.classList.remove('colab-df-spinner');\n",
              "      quickchartButtonEl.classList.add('colab-df-quickchart-complete');\n",
              "    }\n",
              "    (() => {\n",
              "      let quickchartButtonEl =\n",
              "        document.querySelector('#df-4868a558-811e-4cce-b756-17933d82b01e button');\n",
              "      quickchartButtonEl.style.display =\n",
              "        google.colab.kernel.accessAllowed ? 'block' : 'none';\n",
              "    })();\n",
              "  </script>\n",
              "</div>\n",
              "    </div>\n",
              "  </div>\n"
            ],
            "application/vnd.google.colaboratory.intrinsic+json": {
              "type": "dataframe",
              "variable_name": "tweets_data",
              "summary": "{\n  \"name\": \"tweets_data\",\n  \"rows\": 243,\n  \"fields\": [\n    {\n      \"column\": \"Unnamed:_0\",\n      \"properties\": {\n        \"dtype\": \"number\",\n        \"std\": 70,\n        \"min\": 1,\n        \"max\": 243,\n        \"samples\": [\n          25,\n          7,\n          153\n        ],\n        \"num_unique_values\": 243,\n        \"semantic_type\": \"\",\n        \"description\": \"\"\n      }\n    },\n    {\n      \"column\": \"treatment_arm\",\n      \"properties\": {\n        \"dtype\": \"category\",\n        \"samples\": [\n          2,\n          0,\n          3\n        ],\n        \"num_unique_values\": 5,\n        \"semantic_type\": \"\",\n        \"description\": \"\"\n      }\n    },\n    {\n      \"column\": \"anonymity\",\n      \"properties\": {\n        \"dtype\": \"number\",\n        \"std\": 0,\n        \"min\": 0,\n        \"max\": 2,\n        \"samples\": [\n          1,\n          2,\n          0\n        ],\n        \"num_unique_values\": 3,\n        \"semantic_type\": \"\",\n        \"description\": \"\"\n      }\n    },\n    {\n      \"column\": \"log_followers\",\n      \"properties\": {\n        \"dtype\": \"number\",\n        \"std\": 1.9084041511120389,\n        \"min\": 9.99995000039884e-06,\n        \"max\": 10.5321228785363,\n        \"samples\": [\n          5.89440286181306,\n          5.2729996098458,\n          6.25190390243371\n        ],\n        \"num_unique_values\": 206,\n        \"semantic_type\": \"\",\n        \"description\": \"\"\n      }\n    },\n    {\n      \"column\": \"racism_scores_pre_2mon\",\n      \"properties\": {\n        \"dtype\": \"number\",\n        \"std\": 0.266424263134885,\n        \"min\": 0.0,\n        \"max\": 3.09677419354839,\n        \"samples\": [\n          0.112903225806452,\n          0.145161290322581,\n          0.612903225806452\n        ],\n        \"num_unique_values\": 34,\n        \"semantic_type\": \"\",\n        \"description\": \"\"\n      }\n    },\n    {\n      \"column\": \"racism_scores_post_2mon\",\n      \"properties\": {\n        \"dtype\": \"number\",\n        \"std\": 0.38691383506486743,\n        \"min\": 0.0,\n        \"max\": 2.91935483870968,\n        \"samples\": [\n          0.129032258064516,\n          0.838709677419355,\n          0.354838709677419\n        ],\n        \"num_unique_values\": 48,\n        \"semantic_type\": \"\",\n        \"description\": \"\"\n      }\n    },\n    {\n      \"column\": \"racism_scores_post_1mon\",\n      \"properties\": {\n        \"dtype\": \"number\",\n        \"std\": 0.375459519584972,\n        \"min\": 0.0,\n        \"max\": 2.74193548387097,\n        \"samples\": [\n          1.0,\n          0.870967741935484,\n          1.51612903225806\n        ],\n        \"num_unique_values\": 39,\n        \"semantic_type\": \"\",\n        \"description\": \"\"\n      }\n    },\n    {\n      \"column\": \"any_treatment\",\n      \"properties\": {\n        \"dtype\": \"number\",\n        \"std\": 0,\n        \"min\": 0,\n        \"max\": 1,\n        \"samples\": [\n          0,\n          1\n        ],\n        \"num_unique_values\": 2,\n        \"semantic_type\": \"\",\n        \"description\": \"\"\n      }\n    }\n  ]\n}"
            }
          },
          "metadata": {},
          "execution_count": 4
        }
      ],
      "source": [
        "# Necessary data cleaning, do not touch.\n",
        "from IPython.core.interactiveshell import InteractiveShell\n",
        "InteractiveShell.ast_node_interactivity = \"all\"\n",
        "\n",
        "# import modules and functions\n",
        "\n",
        "import numpy as np\n",
        "import pandas as pd\n",
        "import seaborn as sns\n",
        "sns.set(rc={'figure.figsize':(15, 8)})\n",
        "\n",
        "from statsmodels.stats.weightstats import ttest_ind # for t-test\n",
        "\n",
        "# read data\n",
        "\n",
        "tweets_data = pd.read_csv('tweetment_effect.csv')\n",
        "\n",
        "# Drop columns X.1, X, and V1\n",
        "tweets_data.drop(columns=['X.1', 'X'], inplace=True)\n",
        "\n",
        "# Rename the column 'treat.f' to 'treatment_arm'\n",
        "tweets_data.rename(columns={'treat.f': 'treatment_arm'}, inplace=True)\n",
        "\n",
        "# Drop the 'In_group' column\n",
        "tweets_data.drop(columns='In_group', inplace=True)\n",
        "\n",
        "# Drop the 'high_followers' column\n",
        "tweets_data.drop(columns='high_followers', inplace=True)\n",
        "\n",
        "# Create a new column 'any_treatment' as a numeric representation of 'treatment_arm != 0'\n",
        "tweets_data['any_treatment'] = (tweets_data['treatment_arm'] > 0).astype(int)\n",
        "\n",
        "# Drop the 'racism.scores.post.1wk' and 'racism.scores.post.2wk' columns\n",
        "tweets_data.drop(columns=['racism.scores.post.1wk', 'racism.scores.post.2wk'], inplace=True)\n",
        "\n",
        "# Convert 'treatment_arm' column to a factor\n",
        "tweets_data['treatment_arm'] = tweets_data['treatment_arm'].astype('category')\n",
        "tweets_data.columns = [col.replace(' ', '_').replace('.', '_').replace('-', '_') for col in tweets_data.columns]\n",
        "\n",
        "tweets_data.head()"
      ]
    },
    {
      "cell_type": "code",
      "execution_count": null,
      "metadata": {
        "colab": {
          "base_uri": "https://localhost:8080/",
          "height": 314
        },
        "id": "32RbAnoOm44N",
        "outputId": "0f461972-2de8-4140-8686-ccbdfa68f6d4"
      },
      "outputs": [
        {
          "output_type": "execute_result",
          "data": {
            "text/plain": [
              "<stargazer.stargazer.Stargazer at 0x7b58724db250>"
            ],
            "text/html": [
              "<table style=\"text-align:center\"><tr><td colspan=\"3\" style=\"border-bottom: 1px solid black\"></td></tr>\n",
              "<tr><td style=\"text-align:left\"></td><td colspan=\"2\"><em>Dependent variable: racism_scores_post_2mon</em></td></tr><tr><td style=\"text-align:left\"></td><tr><td style=\"text-align:left\"></td><td>(1)</td><td>(2)</td></tr>\n",
              "<tr><td colspan=\"3\" style=\"border-bottom: 1px solid black\"></td></tr>\n",
              "\n",
              "<tr><td style=\"text-align:left\">Intercept</td><td>0.252<sup>***</sup></td><td>0.252<sup>***</sup></td></tr>\n",
              "<tr><td style=\"text-align:left\"></td><td>(0.054)</td><td>(0.064)</td></tr>\n",
              "<tr><td style=\"text-align:left\">any_treatment</td><td>-0.083<sup></sup></td><td>-0.083<sup></sup></td></tr>\n",
              "<tr><td style=\"text-align:left\"></td><td>(0.060)</td><td>(0.070)</td></tr>\n",
              "\n",
              "<td colspan=\"3\" style=\"border-bottom: 1px solid black\"></td></tr>\n",
              "<tr><td style=\"text-align: left\">Observations</td><td>243</td><td>243</td></tr><tr><td style=\"text-align: left\">R<sup>2</sup></td><td>0.008</td><td>0.008</td></tr><tr><td style=\"text-align: left\">Adjusted R<sup>2</sup></td><td>0.004</td><td>0.004</td></tr><tr><td style=\"text-align: left\">Residual Std. Error</td><td>0.386 (df=241)</td><td>0.386 (df=241)</td></tr><tr><td style=\"text-align: left\">F Statistic</td><td>1.877<sup></sup> (df=1; 241)</td><td>1.416<sup></sup> (df=1; 241)</td></tr>\n",
              "<tr><td colspan=\"3\" style=\"border-bottom: 1px solid black\"></td></tr><tr><td style=\"text-align: left\">Note:</td><td colspan=\"2\" style=\"text-align: right\"><sup>*</sup>p&lt;0.1; <sup>**</sup>p&lt;0.05; <sup>***</sup>p&lt;0.01</td></tr></table>"
            ]
          },
          "metadata": {},
          "execution_count": 5
        }
      ],
      "source": [
        "import statsmodels.api as sm\n",
        "from stargazer.stargazer import Stargazer\n",
        "\n",
        "# Linear Regression (lm)\n",
        "lm_model = sm.OLS.from_formula('racism_scores_post_2mon ~ any_treatment', data=tweets_data).fit()\n",
        "\n",
        "# Robust Fixed Effects OLS (feols) with White Standard Errors\n",
        "feols_robust_model = sm.OLS.from_formula('racism_scores_post_2mon ~ any_treatment', data=tweets_data).fit(cov_type='HC3')\n",
        "\n",
        "Stargazer([lm_model, feols_robust_model])\n"
      ]
    },
    {
      "cell_type": "markdown",
      "metadata": {
        "id": "reiZFNhPm44N"
      },
      "source": [
        "####  Q1.1: Of the above variables (in the dataset), please identify all variables above that may be ‘good’ control variables in a regression where the outcome is ‘racism.scores.post.2mon’ and the regressor is ‘any_treatment’?"
      ]
    },
    {
      "cell_type": "code",
      "execution_count": null,
      "metadata": {
        "colab": {
          "base_uri": "https://localhost:8080/",
          "height": 450
        },
        "id": "qwbwOHigm44N",
        "outputId": "9f513de8-9b54-4429-b15a-3e68c756f1d7"
      },
      "outputs": [
        {
          "output_type": "execute_result",
          "data": {
            "text/plain": [
              "<stargazer.stargazer.Stargazer at 0x7b587129e500>"
            ],
            "text/html": [
              "<table style=\"text-align:center\"><tr><td colspan=\"5\" style=\"border-bottom: 1px solid black\"></td></tr>\n",
              "<tr><td style=\"text-align:left\"></td><td colspan=\"4\"><em>Dependent variable: racism_scores_post_2mon</em></td></tr><tr><td style=\"text-align:left\"></td><tr><td style=\"text-align:left\"></td><td>(1)</td><td>(2)</td><td>(3)</td><td>(4)</td></tr>\n",
              "<tr><td colspan=\"5\" style=\"border-bottom: 1px solid black\"></td></tr>\n",
              "\n",
              "<tr><td style=\"text-align:left\">Intercept</td><td>0.252<sup>***</sup></td><td>0.181<sup>**</sup></td><td>0.281<sup>**</sup></td><td>0.077<sup>**</sup></td></tr>\n",
              "<tr><td style=\"text-align:left\"></td><td>(0.064)</td><td>(0.071)</td><td>(0.131)</td><td>(0.035)</td></tr>\n",
              "<tr><td style=\"text-align:left\">anonymity</td><td></td><td>0.045<sup>*</sup></td><td></td><td></td></tr>\n",
              "<tr><td style=\"text-align:left\"></td><td></td><td>(0.027)</td><td></td><td></td></tr>\n",
              "<tr><td style=\"text-align:left\">any_treatment</td><td>-0.083<sup></sup></td><td>-0.080<sup></sup></td><td>-0.084<sup></sup></td><td>0.022<sup></sup></td></tr>\n",
              "<tr><td style=\"text-align:left\"></td><td>(0.070)</td><td>(0.070)</td><td>(0.071)</td><td>(0.046)</td></tr>\n",
              "<tr><td style=\"text-align:left\">log_followers</td><td></td><td></td><td>-0.005<sup></sup></td><td></td></tr>\n",
              "<tr><td style=\"text-align:left\"></td><td></td><td></td><td>(0.018)</td><td></td></tr>\n",
              "<tr><td style=\"text-align:left\">racism_scores_pre_2mon</td><td></td><td></td><td></td><td>0.771<sup>***</sup></td></tr>\n",
              "<tr><td style=\"text-align:left\"></td><td></td><td></td><td></td><td>(0.152)</td></tr>\n",
              "\n",
              "<td colspan=\"5\" style=\"border-bottom: 1px solid black\"></td></tr>\n",
              "<tr><td style=\"text-align: left\">Observations</td><td>243</td><td>243</td><td>243</td><td>242</td></tr><tr><td style=\"text-align: left\">R<sup>2</sup></td><td>0.008</td><td>0.014</td><td>0.008</td><td>0.276</td></tr><tr><td style=\"text-align: left\">Adjusted R<sup>2</sup></td><td>0.004</td><td>0.006</td><td>0.000</td><td>0.270</td></tr><tr><td style=\"text-align: left\">Residual Std. Error</td><td>0.386 (df=241)</td><td>0.386 (df=240)</td><td>0.387 (df=240)</td><td>0.331 (df=239)</td></tr><tr><td style=\"text-align: left\">F Statistic</td><td>1.416<sup></sup> (df=1; 241)</td><td>2.170<sup></sup> (df=2; 240)</td><td>0.712<sup></sup> (df=2; 240)</td><td>12.874<sup>***</sup> (df=2; 239)</td></tr>\n",
              "<tr><td colspan=\"5\" style=\"border-bottom: 1px solid black\"></td></tr><tr><td style=\"text-align: left\">Note:</td><td colspan=\"4\" style=\"text-align: right\"><sup>*</sup>p&lt;0.1; <sup>**</sup>p&lt;0.05; <sup>***</sup>p&lt;0.01</td></tr></table>"
            ]
          },
          "metadata": {},
          "execution_count": 6
        }
      ],
      "source": [
        "# Robust Fixed Effects OLS (feols) with White Standard Errors\n",
        "anonymity_model = sm.OLS.from_formula('racism_scores_post_2mon ~ any_treatment + anonymity', data=tweets_data).fit(cov_type='HC3')\n",
        "logfoll_model = sm.OLS.from_formula('racism_scores_post_2mon ~ any_treatment + log_followers', data=tweets_data).fit(cov_type='HC3')\n",
        "pre2mon_model = sm.OLS.from_formula('racism_scores_post_2mon ~ any_treatment + racism_scores_pre_2mon', data=tweets_data).fit(cov_type='HC3')\n",
        "\n",
        "Stargazer([feols_robust_model, anonymity_model, logfoll_model, pre2mon_model])"
      ]
    },
    {
      "cell_type": "markdown",
      "metadata": {
        "id": "X9VgFIY6m44N"
      },
      "source": [
        "**Answer 1.1**\n",
        "\n",
        "The variables `anonymity` and `log_followers` could be considered good control variables in a regression where the outcome is `racism_scores_post_2mon` and the regressor is `any_treatment`. This assessment is based on the observation that including these variables in the regression does not significantly alter the coefficient of the variable of interest, `any_treatment`, while only causing minor changes in the standard deviation. In contrast, `racism_scores_pre_2mon` appears to significantly impact the coefficient of \"any_treatment,\" which may not be desirable for controlling the effects of the treatment variable."
      ]
    },
    {
      "cell_type": "markdown",
      "metadata": {
        "id": "kJsaZvaGm44O"
      },
      "source": [
        "#### Q1.2: Run a regression of ‘racism.scores.post.2mon’ on ‘any_treatment’. What do we learn from this regression about the effect of the treatment? Please explain in words in addition to just returning the number."
      ]
    },
    {
      "cell_type": "code",
      "execution_count": null,
      "metadata": {
        "colab": {
          "base_uri": "https://localhost:8080/",
          "height": 314
        },
        "id": "GjLTq9Jam44O",
        "outputId": "1b284a86-b234-4f6c-96b2-63ee4f4f15a2"
      },
      "outputs": [
        {
          "output_type": "execute_result",
          "data": {
            "text/plain": [
              "<stargazer.stargazer.Stargazer at 0x7b5834ba54b0>"
            ],
            "text/html": [
              "<table style=\"text-align:center\"><tr><td colspan=\"2\" style=\"border-bottom: 1px solid black\"></td></tr>\n",
              "<tr><td style=\"text-align:left\"></td><td colspan=\"1\"><em>Dependent variable: racism_scores_post_2mon</em></td></tr><tr><td style=\"text-align:left\"></td><tr><td style=\"text-align:left\"></td><td>(1)</td></tr>\n",
              "<tr><td colspan=\"2\" style=\"border-bottom: 1px solid black\"></td></tr>\n",
              "\n",
              "<tr><td style=\"text-align:left\">Intercept</td><td>0.252<sup>***</sup></td></tr>\n",
              "<tr><td style=\"text-align:left\"></td><td>(0.064)</td></tr>\n",
              "<tr><td style=\"text-align:left\">any_treatment</td><td>-0.083<sup></sup></td></tr>\n",
              "<tr><td style=\"text-align:left\"></td><td>(0.070)</td></tr>\n",
              "\n",
              "<td colspan=\"2\" style=\"border-bottom: 1px solid black\"></td></tr>\n",
              "<tr><td style=\"text-align: left\">Observations</td><td>243</td></tr><tr><td style=\"text-align: left\">R<sup>2</sup></td><td>0.008</td></tr><tr><td style=\"text-align: left\">Adjusted R<sup>2</sup></td><td>0.004</td></tr><tr><td style=\"text-align: left\">Residual Std. Error</td><td>0.386 (df=241)</td></tr><tr><td style=\"text-align: left\">F Statistic</td><td>1.416<sup></sup> (df=1; 241)</td></tr>\n",
              "<tr><td colspan=\"2\" style=\"border-bottom: 1px solid black\"></td></tr><tr><td style=\"text-align: left\">Note:</td><td colspan=\"1\" style=\"text-align: right\"><sup>*</sup>p&lt;0.1; <sup>**</sup>p&lt;0.05; <sup>***</sup>p&lt;0.01</td></tr></table>"
            ]
          },
          "metadata": {},
          "execution_count": 7
        }
      ],
      "source": [
        "# Linear Regression\n",
        "\n",
        "lr_model = sm.OLS.from_formula('racism_scores_post_2mon ~ any_treatment', data=tweets_data).fit(cov_type='HC3')\n",
        "Stargazer([lr_model])"
      ]
    },
    {
      "cell_type": "markdown",
      "metadata": {
        "id": "GhxdayM8m44O"
      },
      "source": [
        "**Answer 1.2**\n",
        "\n",
        "The regression model of `racism_scores_post_2mon` on `any_treatment` reveals a coefficient of -0.083 for the treatment effect. This indicates that the treatment has a negative effect on the racism score post 2 months, suggesting a reduction in racism scores by a coefficient of 0.083. However, it's important to note that this effect does not appear to be statistically significant, as indicated by the p-value being > 0.05."
      ]
    },
    {
      "cell_type": "markdown",
      "metadata": {
        "id": "f0zBIgy2m44O"
      },
      "source": [
        "#### Q1.3: Add the variable(s) from a) as controls into the regression from b). What happens to our estimate of the effect of the treatment and its standard error?"
      ]
    },
    {
      "cell_type": "code",
      "execution_count": null,
      "metadata": {
        "colab": {
          "base_uri": "https://localhost:8080/",
          "height": 405
        },
        "id": "xnDG0AEPm44O",
        "outputId": "bb906df6-d8ca-4a36-f7e6-b1fbbc82bdeb"
      },
      "outputs": [
        {
          "output_type": "execute_result",
          "data": {
            "text/plain": [
              "<stargazer.stargazer.Stargazer at 0x7b587129df00>"
            ],
            "text/html": [
              "<table style=\"text-align:center\"><tr><td colspan=\"3\" style=\"border-bottom: 1px solid black\"></td></tr>\n",
              "<tr><td style=\"text-align:left\"></td><td colspan=\"2\"><em>Dependent variable: racism_scores_post_2mon</em></td></tr><tr><td style=\"text-align:left\"></td><tr><td style=\"text-align:left\"></td><td>(1)</td><td>(2)</td></tr>\n",
              "<tr><td colspan=\"3\" style=\"border-bottom: 1px solid black\"></td></tr>\n",
              "\n",
              "<tr><td style=\"text-align:left\">Intercept</td><td>0.252<sup>***</sup></td><td>0.213<sup>*</sup></td></tr>\n",
              "<tr><td style=\"text-align:left\"></td><td>(0.064)</td><td>(0.123)</td></tr>\n",
              "<tr><td style=\"text-align:left\">anonymity</td><td></td><td>0.046<sup></sup></td></tr>\n",
              "<tr><td style=\"text-align:left\"></td><td></td><td>(0.028)</td></tr>\n",
              "<tr><td style=\"text-align:left\">any_treatment</td><td>-0.083<sup></sup></td><td>-0.082<sup></sup></td></tr>\n",
              "<tr><td style=\"text-align:left\"></td><td>(0.070)</td><td>(0.071)</td></tr>\n",
              "<tr><td style=\"text-align:left\">log_followers</td><td></td><td>-0.006<sup></sup></td></tr>\n",
              "<tr><td style=\"text-align:left\"></td><td></td><td>(0.018)</td></tr>\n",
              "\n",
              "<td colspan=\"3\" style=\"border-bottom: 1px solid black\"></td></tr>\n",
              "<tr><td style=\"text-align: left\">Observations</td><td>243</td><td>243</td></tr><tr><td style=\"text-align: left\">R<sup>2</sup></td><td>0.008</td><td>0.015</td></tr><tr><td style=\"text-align: left\">Adjusted R<sup>2</sup></td><td>0.004</td><td>0.002</td></tr><tr><td style=\"text-align: left\">Residual Std. Error</td><td>0.386 (df=241)</td><td>0.386 (df=239)</td></tr><tr><td style=\"text-align: left\">F Statistic</td><td>1.416<sup></sup> (df=1; 241)</td><td>1.453<sup></sup> (df=3; 239)</td></tr>\n",
              "<tr><td colspan=\"3\" style=\"border-bottom: 1px solid black\"></td></tr><tr><td style=\"text-align: left\">Note:</td><td colspan=\"2\" style=\"text-align: right\"><sup>*</sup>p&lt;0.1; <sup>**</sup>p&lt;0.05; <sup>***</sup>p&lt;0.01</td></tr></table>"
            ]
          },
          "metadata": {},
          "execution_count": 8
        }
      ],
      "source": [
        "covariate_model = sm.OLS.from_formula('racism_scores_post_2mon ~ any_treatment + anonymity + log_followers',\n",
        "                                      data=tweets_data).fit(cov_type='HC3')\n",
        "Stargazer([lr_model, covariate_model])"
      ]
    },
    {
      "cell_type": "markdown",
      "metadata": {
        "id": "sDx1QLrIm44O"
      },
      "source": [
        "**Answer 1.3**\n",
        "\n",
        "After adding `anonymity` as a control variable into the regression model of `racism_scores_post_2mon` on `any_treatment`, the estimate of the treatment effect changes minimally from -0.083 to -0.082, and the standard error remains largely unchanged."
      ]
    },
    {
      "cell_type": "markdown",
      "metadata": {
        "id": "-05Z7Nq9m44O"
      },
      "source": [
        "####  Q1.4: Use a regression to check for differences between the treatment and control for one of the variables identified in a). Also use the proportions_ztest function to check whether the randomization proportion was intended. Based on these results, should we be concerned that the randomization was done improperly?\n",
        "\n",
        "__Note: Each arm of the experiment was assigned with equal probability and there are 4 treatment arms and one control.__\n"
      ]
    },
    {
      "cell_type": "code",
      "execution_count": null,
      "metadata": {
        "colab": {
          "base_uri": "https://localhost:8080/",
          "height": 314
        },
        "id": "0I0UvNpVm44O",
        "outputId": "699daa7d-434d-4b4c-9295-405471f1abc3"
      },
      "outputs": [
        {
          "output_type": "execute_result",
          "data": {
            "text/plain": [
              "<stargazer.stargazer.Stargazer at 0x7b587129d480>"
            ],
            "text/html": [
              "<table style=\"text-align:center\"><tr><td colspan=\"3\" style=\"border-bottom: 1px solid black\"></td></tr>\n",
              "<tr><td style=\"text-align:left\"></td><td colspan=\"2\"><em>Dependent variable: racism_scores_pre_2mon</em></td></tr><tr><td style=\"text-align:left\"></td><tr><td style=\"text-align:left\"></td><td>(1)</td><td>(2)</td></tr>\n",
              "<tr><td colspan=\"3\" style=\"border-bottom: 1px solid black\"></td></tr>\n",
              "\n",
              "<tr><td style=\"text-align:left\">Intercept</td><td>0.067<sup>***</sup></td><td>0.085<sup>**</sup></td></tr>\n",
              "<tr><td style=\"text-align:left\"></td><td>(0.016)</td><td>(0.036)</td></tr>\n",
              "<tr><td style=\"text-align:left\">anonymity</td><td>0.017<sup></sup></td><td>0.090<sup></sup></td></tr>\n",
              "<tr><td style=\"text-align:left\"></td><td>(0.011)</td><td>(0.058)</td></tr>\n",
              "\n",
              "<td colspan=\"3\" style=\"border-bottom: 1px solid black\"></td></tr>\n",
              "<tr><td style=\"text-align: left\">Observations</td><td>190</td><td>52</td></tr><tr><td style=\"text-align: left\">R<sup>2</sup></td><td>0.008</td><td>0.016</td></tr><tr><td style=\"text-align: left\">Adjusted R<sup>2</sup></td><td>0.003</td><td>-0.004</td></tr><tr><td style=\"text-align: left\">Residual Std. Error</td><td>0.125 (df=188)</td><td>0.514 (df=50)</td></tr><tr><td style=\"text-align: left\">F Statistic</td><td>2.600<sup></sup> (df=1; 188)</td><td>2.377<sup></sup> (df=1; 50)</td></tr>\n",
              "<tr><td colspan=\"3\" style=\"border-bottom: 1px solid black\"></td></tr><tr><td style=\"text-align: left\">Note:</td><td colspan=\"2\" style=\"text-align: right\"><sup>*</sup>p&lt;0.1; <sup>**</sup>p&lt;0.05; <sup>***</sup>p&lt;0.01</td></tr></table>"
            ]
          },
          "metadata": {},
          "execution_count": 9
        }
      ],
      "source": [
        "# Regression to check for differences b/w treatment and control groups pre-experiment\n",
        "trt = tweets_data[tweets_data['any_treatment']==1]\n",
        "ctr = tweets_data[tweets_data['any_treatment']==0]\n",
        "\n",
        "pre_model_trt = sm.OLS.from_formula('racism_scores_pre_2mon ~ anonymity', data=trt).fit(cov_type='HC3')\n",
        "pre_model_ctr = sm.OLS.from_formula('racism_scores_pre_2mon ~ anonymity', data=ctr).fit(cov_type='HC3')\n",
        "\n",
        "Stargazer([pre_model_trt, pre_model_ctr])"
      ]
    },
    {
      "cell_type": "code",
      "execution_count": null,
      "metadata": {
        "colab": {
          "base_uri": "https://localhost:8080/"
        },
        "id": "2GzVOlizm44P",
        "outputId": "350e6b52-ea9e-4f20-9ff3-6319b41b753f"
      },
      "outputs": [
        {
          "output_type": "stream",
          "name": "stdout",
          "text": [
            "0.595\n"
          ]
        }
      ],
      "source": [
        "# Proportions z-test\n",
        "from statsmodels.stats.proportion import proportions_ztest\n",
        "\n",
        "count = len(tweets_data[tweets_data['any_treatment']==1])\n",
        "nobs = len(tweets_data)\n",
        "value = 0.8\n",
        "stat, pval = proportions_ztest(count, nobs, value)\n",
        "print('{0:0.3f}'.format(pval))"
      ]
    },
    {
      "cell_type": "markdown",
      "metadata": {
        "id": "EPwZxcD0m44P"
      },
      "source": [
        "**Answer 1.4**\n",
        "\n",
        "- The regression results indicate that there are no statistically significant differences between the treatment and control groups concerning the variable `racism_scores_pre_2mon` and `anonymity`. This suggests that pre-experiment conditions were similar across both groups for these variables.\n",
        "- The proportion z-test reveals that the intended randomization was achieved, as the p-value exceeds 0.05. Therefore, we fail to reject the null hypothesis that the desired and achieved proportions are the same.\n",
        "\n",
        "In conclusion, there is no indication that the randomization was done improperly, as both the pre-experiment observable characteristics and the achieved proportion of treatment and control arms align with the intended design of the experiment."
      ]
    },
    {
      "cell_type": "markdown",
      "metadata": {
        "id": "tVIvSSd2m44P"
      },
      "source": [
        "#### Q1.5: We would like to know whether treatment arm 2 or treatment arm 3 is statistically significantly better at reducing racist behavior. Perform a t test or regression and test for the null hypothesis that treatment arm 2 has the same effect as treatment arm 3.\n"
      ]
    },
    {
      "cell_type": "code",
      "execution_count": null,
      "metadata": {
        "colab": {
          "base_uri": "https://localhost:8080/"
        },
        "id": "mU_55zVtm44P",
        "outputId": "31001705-aa10-42c5-acf5-61e2ca046c22"
      },
      "outputs": [
        {
          "output_type": "stream",
          "name": "stdout",
          "text": [
            "t-score (t): 1.6245928260821811\n",
            "P-value (p): 0.10912360652396604\n"
          ]
        }
      ],
      "source": [
        "tstat, pvalue, df = ttest_ind(tweets_data.loc[tweets_data['treatment_arm'] == 2, 'racism_scores_post_2mon'],\n",
        "                              tweets_data.loc[tweets_data['treatment_arm'] == 3, 'racism_scores_post_2mon'],\n",
        "                              alternative = 'two-sided', usevar = 'unequal')\n",
        "\n",
        "print(f\"t-score (t): {tstat}\")\n",
        "print(f\"P-value (p): {pvalue}\")"
      ]
    },
    {
      "cell_type": "markdown",
      "metadata": {
        "id": "DUlnmzfpm44P"
      },
      "source": [
        "**Answer 1.5**\n",
        "\n",
        "An independent t-test between treatment arms 2 and 3 using the post 2 months racism scores results in a p-value of 0.109 (> 0.05) indicates that we fail to reject the null hypothesis, suggesting that treatment arm 2 does not have a statistically significant different effect from treatment arm 3 in reducing racist behavior."
      ]
    },
    {
      "cell_type": "markdown",
      "metadata": {
        "id": "IfPInHAqm44P"
      },
      "source": [
        "#### Q1.6: Plot the mean of `racism.scores.post.2mon` by treatment arm. Make it look nice and readable, while helping the reader understand the differences between arms."
      ]
    },
    {
      "cell_type": "code",
      "execution_count": null,
      "metadata": {
        "colab": {
          "base_uri": "https://localhost:8080/",
          "height": 573
        },
        "id": "_Tggsd2Qm44Q",
        "outputId": "d6b047e0-7b76-408d-aca7-d640b27f1eaa"
      },
      "outputs": [
        {
          "output_type": "display_data",
          "data": {
            "text/plain": [
              "<Figure size 1000x600 with 1 Axes>"
            ],
            "image/png": "[encoded data removed]"
          },
          "metadata": {}
        }
      ],
      "source": [
        "import matplotlib.pyplot as plt\n",
        "import seaborn as sns\n",
        "\n",
        "# Set seaborn style\n",
        "sns.set(style=\"whitegrid\")\n",
        "\n",
        "treatment_arms = [0, 1, 2, 3, 4]\n",
        "treatment_arms_mean = np.array(tweets_data.groupby(by=['treatment_arm'])['racism_scores_post_2mon'].mean())\n",
        "\n",
        "# Plotting\n",
        "plt.figure(figsize=(10, 6))\n",
        "sns.barplot(x=treatment_arms, y=treatment_arms_mean)\n",
        "plt.xlabel('Treatment Arm')\n",
        "plt.title('Mean Racism Scores by Treatment Arm')\n",
        "plt.show();"
      ]
    },
    {
      "cell_type": "markdown",
      "metadata": {
        "id": "9HwXI3OTm44Q"
      },
      "source": [
        "### **Q2. Stubhub Price Salience Experiment (50 Points)**\n",
        "\n",
        "This set of questions and case is based on “(Price Salience and Product Choice)[http://faculty.haas.berkeley.edu/stadelis/AIP.pdf]” by Blake et al.\n",
        "Please read only pages 1 - 3 (ending at ‘Reassuringly, the results are broadly consistent with our findings from the 2015 experiment, indicating that this concern is not first-order in our setting.’) and the pasted text below, starting with \"Experimental Design\".\n",
        "\n",
        "![](paper_screenshot.png \"Experiment\")"
      ]
    },
    {
      "cell_type": "markdown",
      "metadata": {
        "id": "d3CuXb10m44Q"
      },
      "source": [
        "The authors also tested whether the treatment and control groups were similar on characteristics observed prior to the treatment assignment. They say:  \n",
        "\n",
        "![](balance_check.png \"Balance\")\n",
        "\n",
        "This table displays the treatment effects in percent terms, as well as the standard errors in percent terms, which are displayed in parentheses.\n",
        "\n",
        "![](effects_table.png \"Effects\")\n"
      ]
    },
    {
      "cell_type": "markdown",
      "metadata": {
        "id": "5vi-8vVLm44Q"
      },
      "source": [
        "### 2.1 Experiment Description\n",
        "\n",
        "Describe the treatment in the first experiment and the unit of randomization, be very precise here. What share was randomized to the treatment?\n",
        "- This refers to the experiment conducted in August 2015, the first experiment described in the introduction of the paper.\n"
      ]
    },
    {
      "cell_type": "markdown",
      "metadata": {
        "id": "6MTZScWmm44R"
      },
      "source": [
        "**Answer 2.1**\n",
        "\n",
        "The treatment in the first experiment conducted by StubHub in August 2015 involved implementing a back-end-fee (BF) strategy, where mandatory fees were only shown to consumers after they had selected a particular ticket and proceeded to the checkout page. The unit of randomization was individual U.S. users of the StubHub platform. Specifically, StubHub randomly selected 50% of U.S. users to experience the BF strategy, while the remaining 50% were assigned to the upfront-fee (UF) strategy. This means that the share randomized to the treatment (BF experience) was 50%, with the remaining 50% serving as the control group (UF experience)."
      ]
    },
    {
      "cell_type": "markdown",
      "metadata": {
        "id": "HRu2LjiHm44R"
      },
      "source": [
        "\n",
        "### 2.2 Randomization Check\n",
        "\n",
        "Table II displays a randomization / balance check. A randomization check is a regression where the dependent variable occurs before the experiment. It should be very unlikely that there are substantial differences in before experiment variables if the experiment was done properly. Suggest a variable not used by the authors that would be appropriate to include in a balance check.\n",
        "- Hint: consider whether your proposed variable is measured before the treatment happens or after the treatment happens.\n"
      ]
    },
    {
      "cell_type": "markdown",
      "metadata": {
        "id": "UI9yQEvim44R"
      },
      "source": [
        "**Answer 2.2**\n",
        "\n",
        "Including users' purchase order history pre-experiment as a variable in the balance check would ensure comparability between the treatment and control groups. This variable reflects past behavior and preferences, influencing responses to the treatment. Its inclusion helps identify potential issues with randomization. Therefore, incorporating purchase order history might possibly enhance the assessment of randomization success and group comparability."
      ]
    },
    {
      "cell_type": "markdown",
      "metadata": {
        "id": "4Nxcr1scm44R"
      },
      "source": [
        "\n",
        "### 2.3 Treatment Effect on Propensity to Purchase\n",
        "\n",
        "What is the effect of the treatment on the Propensity to Purchase at least one product? Calculate the 95% confidence interval for this estimate.\n"
      ]
    },
    {
      "cell_type": "markdown",
      "metadata": {
        "id": "9d8baV8vm44R"
      },
      "source": [
        "**Answer 2.3**\n",
        "\n",
        "The effect of the treatment on the Propensity to Purchase at least one product (as seen in Table 3) is found to be 14.1 which indicates that the treatment increases the likelihood of a purchase by 14.1%."
      ]
    },
    {
      "cell_type": "code",
      "source": [
        "# 95% confidence interval for this estimate\n",
        "\n",
        "estimate = 14.1\n",
        "standard_err = 0.09\n",
        "lower_lim = np.round(estimate - 1.96*standard_err, 3)\n",
        "upper_lim = np.round(estimate + 1.96*standard_err, 3)\n",
        "\n",
        "print(\"95% Confidence Interval for the estimate of treatment effect on Propensity to Purchase (14.1%) is: [\",lower_lim,\",\",upper_lim,\"]\")"
      ],
      "metadata": {
        "colab": {
          "base_uri": "https://localhost:8080/"
        },
        "id": "cJZ1cDQAZLqP",
        "outputId": "53d4c49c-97d6-48f1-b9c0-a8abea0125bd"
      },
      "execution_count": null,
      "outputs": [
        {
          "output_type": "stream",
          "name": "stdout",
          "text": [
            "95% Confidence Interval for the estimate of treatment effect on Propensity to Purchase (14.1%) is: [ 13.924 , 14.276 ]\n"
          ]
        }
      ]
    },
    {
      "cell_type": "markdown",
      "source": [
        "The above confidence interval states that we can be sure of the estimate of the treatment effect 95% of the times. We can be sure of this also because the confidence interval does not include zero and the standard error for this estimate is very small."
      ],
      "metadata": {
        "id": "t8ZWXJU9axnB"
      }
    },
    {
      "cell_type": "markdown",
      "metadata": {
        "id": "FyciZMi1m44R"
      },
      "source": [
        "\n",
        "### 2.4 Randomization by City\n",
        "\n",
        "Suppose the authors randomized by city of the event. Name one benefit that may occur as a result of this randomization strategy and one harm.\n"
      ]
    },
    {
      "cell_type": "markdown",
      "metadata": {
        "id": "A8czhX_jm44R"
      },
      "source": [
        "**Answer 2.4**\n",
        "\n",
        "- **Benefit:** Randomizing by city may allow for controlling regional factors that influence consumer behavior. By ensuring representation across diverse cities, we could mitigate the impact of local demographics, cultural norms, and economic conditions on study outcomes. This could enhance the study's internal validity by providing a more accurate assessment of the treatment's effects across different geographic areas.\n",
        "- **Harm:** Randomizing by city may lead to variations in the type and number of events across cities. Cities with more events could attract more buyers, potentially influencing purchase decisions differently compared to cities with fewer events. This variability in event characteristics may confound the effects of the treatment, making it difficult to isolate its true impact on consumer behavior. Therefore, one potential harm of randomizing by city is the uneven distribution of event characteristics, which could introduce bias and affect the validity of the study's conclusions."
      ]
    },
    {
      "cell_type": "markdown",
      "metadata": {
        "id": "V0CR1rMCm44R"
      },
      "source": [
        "\n",
        "### 2.5 Product Manager Recommendation\n",
        "\n",
        "Suppose that you are the product manager for the monetization team at Stubhub. Based on the evidence presented above, would you launch the treatment to the entire site? The answer should be 1 paragraph. It should consist of an answer (yes, no), and two pieces of evidence relating to that recommendation. Case participation will also constitute part of this grade."
      ]
    },
    {
      "cell_type": "markdown",
      "metadata": {
        "id": "qwcnSOQHm44R"
      },
      "source": [
        "**Answer 2.5**\n",
        "\n",
        "Yes! I would recommend launching the treatment to the entire site based on compelling evidence of its positive impact. Firstly, the substantial 18.96% increase in cookie session revenue with back-end fees compared to the upfront fee strategy provides a robust economic justification for scaling up the treatment. This financial gain underscores the effectiveness of the approach in driving revenue growth. Additionally, the statistically significant 14.1% rise in the propensity to make a purchase under the treatment further validates its efficacy in influencing consumer behavior positively. These consistent and significant improvements in both revenue and purchase likelihood indicate the treatment's potential for widespread and enduring positive effects on user engagement and monetization."
      ]
    },
    {
      "cell_type": "code",
      "source": [],
      "metadata": {
        "id": "Nf8Q4eXRl9CH"
      },
      "execution_count": null,
      "outputs": []
    }
  ],
  "metadata": {
    "kernelspec": {
      "display_name": "Python 3",
      "language": "python",
      "name": "python3"
    },
    "language_info": {
      "codemirror_mode": {
        "name": "ipython",
        "version": 3
      },
      "file_extension": ".py",
      "mimetype": "text/x-python",
      "name": "python",
      "nbconvert_exporter": "python",
      "pygments_lexer": "ipython3",
      "version": "3.11.4"
    },
    "colab": {
      "provenance": []
    }
  },
  "nbformat": 4,
  "nbformat_minor": 0
}